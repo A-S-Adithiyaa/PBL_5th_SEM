{
 "cells": [
  {
   "cell_type": "code",
   "execution_count": 1,
   "id": "9b7450af",
   "metadata": {
    "execution": {
     "iopub.execute_input": "2022-11-10T17:09:12.380941Z",
     "iopub.status.busy": "2022-11-10T17:09:12.380643Z",
     "iopub.status.idle": "2022-11-10T17:09:18.575190Z",
     "shell.execute_reply": "2022-11-10T17:09:18.574001Z"
    },
    "id": "9b7450af",
    "papermill": {
     "duration": 6.21095,
     "end_time": "2022-11-10T17:09:18.578240",
     "exception": false,
     "start_time": "2022-11-10T17:09:12.367290",
     "status": "completed"
    },
    "tags": []
   },
   "outputs": [],
   "source": [
    "#Importing all relevant libraries\n",
    "\n",
    "import numpy as np\n",
    "import pandas as pd\n",
    "import cv2\n",
    "import matplotlib.pyplot as plt\n",
    "\n",
    "from sklearn.model_selection import train_test_split\n",
    "\n",
    "import tensorflow as tf\n",
    "\n",
    "from keras.models import Sequential, load_model\n",
    "from keras.callbacks import EarlyStopping, ModelCheckpoint\n",
    "from keras import layers\n",
    "from keras.layers import *\n",
    "from keras.utils import np_utils\n",
    "\n",
    "from tqdm import tqdm\n"
   ]
  },
  {
   "cell_type": "code",
   "execution_count": 2,
   "id": "bbd46808",
   "metadata": {
    "colab": {
     "base_uri": "https://localhost:8080/",
     "height": 235
    },
    "execution": {
     "iopub.execute_input": "2022-11-10T17:09:18.621945Z",
     "iopub.status.busy": "2022-11-10T17:09:18.621396Z",
     "iopub.status.idle": "2022-11-10T17:09:27.850548Z",
     "shell.execute_reply": "2022-11-10T17:09:27.849502Z"
    },
    "id": "bbd46808",
    "outputId": "6f516091-2a36-4402-8dc6-69fd0bae297f",
    "papermill": {
     "duration": 9.242939,
     "end_time": "2022-11-10T17:09:27.852811",
     "exception": false,
     "start_time": "2022-11-10T17:09:18.609872",
     "status": "completed"
    },
    "tags": []
   },
   "outputs": [
    {
     "data": {
      "text/html": [
       "<div>\n",
       "<style scoped>\n",
       "    .dataframe tbody tr th:only-of-type {\n",
       "        vertical-align: middle;\n",
       "    }\n",
       "\n",
       "    .dataframe tbody tr th {\n",
       "        vertical-align: top;\n",
       "    }\n",
       "\n",
       "    .dataframe thead th {\n",
       "        text-align: right;\n",
       "    }\n",
       "</style>\n",
       "<table border=\"1\" class=\"dataframe\">\n",
       "  <thead>\n",
       "    <tr style=\"text-align: right;\">\n",
       "      <th></th>\n",
       "      <th>0</th>\n",
       "      <th>1</th>\n",
       "      <th>2</th>\n",
       "      <th>3</th>\n",
       "      <th>4</th>\n",
       "      <th>5</th>\n",
       "      <th>6</th>\n",
       "      <th>7</th>\n",
       "      <th>8</th>\n",
       "      <th>9</th>\n",
       "      <th>...</th>\n",
       "      <th>775</th>\n",
       "      <th>776</th>\n",
       "      <th>777</th>\n",
       "      <th>778</th>\n",
       "      <th>779</th>\n",
       "      <th>780</th>\n",
       "      <th>781</th>\n",
       "      <th>782</th>\n",
       "      <th>783</th>\n",
       "      <th>784</th>\n",
       "    </tr>\n",
       "  </thead>\n",
       "  <tbody>\n",
       "    <tr>\n",
       "      <th>0</th>\n",
       "      <td>45</td>\n",
       "      <td>0</td>\n",
       "      <td>0</td>\n",
       "      <td>0</td>\n",
       "      <td>0</td>\n",
       "      <td>0</td>\n",
       "      <td>0</td>\n",
       "      <td>0</td>\n",
       "      <td>0</td>\n",
       "      <td>0</td>\n",
       "      <td>...</td>\n",
       "      <td>0</td>\n",
       "      <td>0</td>\n",
       "      <td>0</td>\n",
       "      <td>0</td>\n",
       "      <td>0</td>\n",
       "      <td>0</td>\n",
       "      <td>0</td>\n",
       "      <td>0</td>\n",
       "      <td>0</td>\n",
       "      <td>0</td>\n",
       "    </tr>\n",
       "    <tr>\n",
       "      <th>1</th>\n",
       "      <td>36</td>\n",
       "      <td>0</td>\n",
       "      <td>0</td>\n",
       "      <td>0</td>\n",
       "      <td>0</td>\n",
       "      <td>0</td>\n",
       "      <td>0</td>\n",
       "      <td>0</td>\n",
       "      <td>0</td>\n",
       "      <td>0</td>\n",
       "      <td>...</td>\n",
       "      <td>0</td>\n",
       "      <td>0</td>\n",
       "      <td>0</td>\n",
       "      <td>0</td>\n",
       "      <td>0</td>\n",
       "      <td>0</td>\n",
       "      <td>0</td>\n",
       "      <td>0</td>\n",
       "      <td>0</td>\n",
       "      <td>0</td>\n",
       "    </tr>\n",
       "    <tr>\n",
       "      <th>2</th>\n",
       "      <td>43</td>\n",
       "      <td>0</td>\n",
       "      <td>0</td>\n",
       "      <td>0</td>\n",
       "      <td>0</td>\n",
       "      <td>0</td>\n",
       "      <td>0</td>\n",
       "      <td>0</td>\n",
       "      <td>0</td>\n",
       "      <td>0</td>\n",
       "      <td>...</td>\n",
       "      <td>0</td>\n",
       "      <td>0</td>\n",
       "      <td>0</td>\n",
       "      <td>0</td>\n",
       "      <td>0</td>\n",
       "      <td>0</td>\n",
       "      <td>0</td>\n",
       "      <td>0</td>\n",
       "      <td>0</td>\n",
       "      <td>0</td>\n",
       "    </tr>\n",
       "    <tr>\n",
       "      <th>3</th>\n",
       "      <td>15</td>\n",
       "      <td>0</td>\n",
       "      <td>0</td>\n",
       "      <td>0</td>\n",
       "      <td>0</td>\n",
       "      <td>0</td>\n",
       "      <td>0</td>\n",
       "      <td>0</td>\n",
       "      <td>0</td>\n",
       "      <td>0</td>\n",
       "      <td>...</td>\n",
       "      <td>0</td>\n",
       "      <td>0</td>\n",
       "      <td>0</td>\n",
       "      <td>0</td>\n",
       "      <td>0</td>\n",
       "      <td>0</td>\n",
       "      <td>0</td>\n",
       "      <td>0</td>\n",
       "      <td>0</td>\n",
       "      <td>0</td>\n",
       "    </tr>\n",
       "    <tr>\n",
       "      <th>4</th>\n",
       "      <td>4</td>\n",
       "      <td>0</td>\n",
       "      <td>0</td>\n",
       "      <td>0</td>\n",
       "      <td>0</td>\n",
       "      <td>0</td>\n",
       "      <td>0</td>\n",
       "      <td>0</td>\n",
       "      <td>0</td>\n",
       "      <td>0</td>\n",
       "      <td>...</td>\n",
       "      <td>0</td>\n",
       "      <td>0</td>\n",
       "      <td>0</td>\n",
       "      <td>0</td>\n",
       "      <td>0</td>\n",
       "      <td>0</td>\n",
       "      <td>0</td>\n",
       "      <td>0</td>\n",
       "      <td>0</td>\n",
       "      <td>0</td>\n",
       "    </tr>\n",
       "  </tbody>\n",
       "</table>\n",
       "<p>5 rows × 785 columns</p>\n",
       "</div>"
      ],
      "text/plain": [
       "   0    1    2    3    4    5    6    7    8    9    ...  775  776  777  778  \\\n",
       "0   45    0    0    0    0    0    0    0    0    0  ...    0    0    0    0   \n",
       "1   36    0    0    0    0    0    0    0    0    0  ...    0    0    0    0   \n",
       "2   43    0    0    0    0    0    0    0    0    0  ...    0    0    0    0   \n",
       "3   15    0    0    0    0    0    0    0    0    0  ...    0    0    0    0   \n",
       "4    4    0    0    0    0    0    0    0    0    0  ...    0    0    0    0   \n",
       "\n",
       "   779  780  781  782  783  784  \n",
       "0    0    0    0    0    0    0  \n",
       "1    0    0    0    0    0    0  \n",
       "2    0    0    0    0    0    0  \n",
       "3    0    0    0    0    0    0  \n",
       "4    0    0    0    0    0    0  \n",
       "\n",
       "[5 rows x 785 columns]"
      ]
     },
     "execution_count": 2,
     "metadata": {},
     "output_type": "execute_result"
    }
   ],
   "source": [
    "#Reading using pandas\n",
    "train_df = pd.read_csv('emnist-balanced-train.csv', header=None)\n",
    "train_df.head()"
   ]
  },
  {
   "cell_type": "code",
   "execution_count": 3,
   "id": "c8d5ea4c",
   "metadata": {
    "colab": {
     "base_uri": "https://localhost:8080/",
     "height": 393
    },
    "execution": {
     "iopub.execute_input": "2022-11-10T17:09:27.877594Z",
     "iopub.status.busy": "2022-11-10T17:09:27.876027Z",
     "iopub.status.idle": "2022-11-10T17:09:31.478950Z",
     "shell.execute_reply": "2022-11-10T17:09:31.477631Z"
    },
    "id": "c8d5ea4c",
    "outputId": "1c77c1ef-e899-4f04-dd0f-978241cb0434",
    "papermill": {
     "duration": 3.62027,
     "end_time": "2022-11-10T17:09:31.484202",
     "exception": false,
     "start_time": "2022-11-10T17:09:27.863932",
     "status": "completed"
    },
    "tags": []
   },
   "outputs": [
    {
     "data": {
      "text/html": [
       "<div>\n",
       "<style scoped>\n",
       "    .dataframe tbody tr th:only-of-type {\n",
       "        vertical-align: middle;\n",
       "    }\n",
       "\n",
       "    .dataframe tbody tr th {\n",
       "        vertical-align: top;\n",
       "    }\n",
       "\n",
       "    .dataframe thead th {\n",
       "        text-align: right;\n",
       "    }\n",
       "</style>\n",
       "<table border=\"1\" class=\"dataframe\">\n",
       "  <thead>\n",
       "    <tr style=\"text-align: right;\">\n",
       "      <th></th>\n",
       "      <th>0</th>\n",
       "      <th>1</th>\n",
       "      <th>2</th>\n",
       "      <th>3</th>\n",
       "      <th>4</th>\n",
       "      <th>5</th>\n",
       "      <th>6</th>\n",
       "      <th>7</th>\n",
       "      <th>8</th>\n",
       "      <th>9</th>\n",
       "      <th>...</th>\n",
       "      <th>775</th>\n",
       "      <th>776</th>\n",
       "      <th>777</th>\n",
       "      <th>778</th>\n",
       "      <th>779</th>\n",
       "      <th>780</th>\n",
       "      <th>781</th>\n",
       "      <th>782</th>\n",
       "      <th>783</th>\n",
       "      <th>784</th>\n",
       "    </tr>\n",
       "  </thead>\n",
       "  <tbody>\n",
       "    <tr>\n",
       "      <th>count</th>\n",
       "      <td>112800.00000</td>\n",
       "      <td>112800.0</td>\n",
       "      <td>112800.0</td>\n",
       "      <td>112800.0</td>\n",
       "      <td>112800.0</td>\n",
       "      <td>112800.000000</td>\n",
       "      <td>112800.000000</td>\n",
       "      <td>112800.000000</td>\n",
       "      <td>112800.000000</td>\n",
       "      <td>112800.000000</td>\n",
       "      <td>...</td>\n",
       "      <td>112800.000000</td>\n",
       "      <td>112800.0</td>\n",
       "      <td>112800.0</td>\n",
       "      <td>112800.000000</td>\n",
       "      <td>112800.000000</td>\n",
       "      <td>112800.0</td>\n",
       "      <td>112800.0</td>\n",
       "      <td>112800.0</td>\n",
       "      <td>112800.0</td>\n",
       "      <td>112800.0</td>\n",
       "    </tr>\n",
       "    <tr>\n",
       "      <th>mean</th>\n",
       "      <td>23.00000</td>\n",
       "      <td>0.0</td>\n",
       "      <td>0.0</td>\n",
       "      <td>0.0</td>\n",
       "      <td>0.0</td>\n",
       "      <td>0.001365</td>\n",
       "      <td>0.011560</td>\n",
       "      <td>0.020700</td>\n",
       "      <td>0.017438</td>\n",
       "      <td>0.018475</td>\n",
       "      <td>...</td>\n",
       "      <td>0.000310</td>\n",
       "      <td>0.0</td>\n",
       "      <td>0.0</td>\n",
       "      <td>0.002163</td>\n",
       "      <td>0.000284</td>\n",
       "      <td>0.0</td>\n",
       "      <td>0.0</td>\n",
       "      <td>0.0</td>\n",
       "      <td>0.0</td>\n",
       "      <td>0.0</td>\n",
       "    </tr>\n",
       "    <tr>\n",
       "      <th>std</th>\n",
       "      <td>13.56472</td>\n",
       "      <td>0.0</td>\n",
       "      <td>0.0</td>\n",
       "      <td>0.0</td>\n",
       "      <td>0.0</td>\n",
       "      <td>0.235046</td>\n",
       "      <td>1.221826</td>\n",
       "      <td>1.658797</td>\n",
       "      <td>1.602478</td>\n",
       "      <td>1.719549</td>\n",
       "      <td>...</td>\n",
       "      <td>0.104211</td>\n",
       "      <td>0.0</td>\n",
       "      <td>0.0</td>\n",
       "      <td>0.726499</td>\n",
       "      <td>0.095279</td>\n",
       "      <td>0.0</td>\n",
       "      <td>0.0</td>\n",
       "      <td>0.0</td>\n",
       "      <td>0.0</td>\n",
       "      <td>0.0</td>\n",
       "    </tr>\n",
       "    <tr>\n",
       "      <th>min</th>\n",
       "      <td>0.00000</td>\n",
       "      <td>0.0</td>\n",
       "      <td>0.0</td>\n",
       "      <td>0.0</td>\n",
       "      <td>0.0</td>\n",
       "      <td>0.000000</td>\n",
       "      <td>0.000000</td>\n",
       "      <td>0.000000</td>\n",
       "      <td>0.000000</td>\n",
       "      <td>0.000000</td>\n",
       "      <td>...</td>\n",
       "      <td>0.000000</td>\n",
       "      <td>0.0</td>\n",
       "      <td>0.0</td>\n",
       "      <td>0.000000</td>\n",
       "      <td>0.000000</td>\n",
       "      <td>0.0</td>\n",
       "      <td>0.0</td>\n",
       "      <td>0.0</td>\n",
       "      <td>0.0</td>\n",
       "      <td>0.0</td>\n",
       "    </tr>\n",
       "    <tr>\n",
       "      <th>25%</th>\n",
       "      <td>11.00000</td>\n",
       "      <td>0.0</td>\n",
       "      <td>0.0</td>\n",
       "      <td>0.0</td>\n",
       "      <td>0.0</td>\n",
       "      <td>0.000000</td>\n",
       "      <td>0.000000</td>\n",
       "      <td>0.000000</td>\n",
       "      <td>0.000000</td>\n",
       "      <td>0.000000</td>\n",
       "      <td>...</td>\n",
       "      <td>0.000000</td>\n",
       "      <td>0.0</td>\n",
       "      <td>0.0</td>\n",
       "      <td>0.000000</td>\n",
       "      <td>0.000000</td>\n",
       "      <td>0.0</td>\n",
       "      <td>0.0</td>\n",
       "      <td>0.0</td>\n",
       "      <td>0.0</td>\n",
       "      <td>0.0</td>\n",
       "    </tr>\n",
       "    <tr>\n",
       "      <th>50%</th>\n",
       "      <td>23.00000</td>\n",
       "      <td>0.0</td>\n",
       "      <td>0.0</td>\n",
       "      <td>0.0</td>\n",
       "      <td>0.0</td>\n",
       "      <td>0.000000</td>\n",
       "      <td>0.000000</td>\n",
       "      <td>0.000000</td>\n",
       "      <td>0.000000</td>\n",
       "      <td>0.000000</td>\n",
       "      <td>...</td>\n",
       "      <td>0.000000</td>\n",
       "      <td>0.0</td>\n",
       "      <td>0.0</td>\n",
       "      <td>0.000000</td>\n",
       "      <td>0.000000</td>\n",
       "      <td>0.0</td>\n",
       "      <td>0.0</td>\n",
       "      <td>0.0</td>\n",
       "      <td>0.0</td>\n",
       "      <td>0.0</td>\n",
       "    </tr>\n",
       "    <tr>\n",
       "      <th>75%</th>\n",
       "      <td>35.00000</td>\n",
       "      <td>0.0</td>\n",
       "      <td>0.0</td>\n",
       "      <td>0.0</td>\n",
       "      <td>0.0</td>\n",
       "      <td>0.000000</td>\n",
       "      <td>0.000000</td>\n",
       "      <td>0.000000</td>\n",
       "      <td>0.000000</td>\n",
       "      <td>0.000000</td>\n",
       "      <td>...</td>\n",
       "      <td>0.000000</td>\n",
       "      <td>0.0</td>\n",
       "      <td>0.0</td>\n",
       "      <td>0.000000</td>\n",
       "      <td>0.000000</td>\n",
       "      <td>0.0</td>\n",
       "      <td>0.0</td>\n",
       "      <td>0.0</td>\n",
       "      <td>0.0</td>\n",
       "      <td>0.0</td>\n",
       "    </tr>\n",
       "    <tr>\n",
       "      <th>max</th>\n",
       "      <td>46.00000</td>\n",
       "      <td>0.0</td>\n",
       "      <td>0.0</td>\n",
       "      <td>0.0</td>\n",
       "      <td>0.0</td>\n",
       "      <td>63.000000</td>\n",
       "      <td>192.000000</td>\n",
       "      <td>217.000000</td>\n",
       "      <td>217.000000</td>\n",
       "      <td>217.000000</td>\n",
       "      <td>...</td>\n",
       "      <td>35.000000</td>\n",
       "      <td>0.0</td>\n",
       "      <td>0.0</td>\n",
       "      <td>244.000000</td>\n",
       "      <td>32.000000</td>\n",
       "      <td>0.0</td>\n",
       "      <td>0.0</td>\n",
       "      <td>0.0</td>\n",
       "      <td>0.0</td>\n",
       "      <td>0.0</td>\n",
       "    </tr>\n",
       "  </tbody>\n",
       "</table>\n",
       "<p>8 rows × 785 columns</p>\n",
       "</div>"
      ],
      "text/plain": [
       "                0         1         2         3         4              5    \\\n",
       "count  112800.00000  112800.0  112800.0  112800.0  112800.0  112800.000000   \n",
       "mean       23.00000       0.0       0.0       0.0       0.0       0.001365   \n",
       "std        13.56472       0.0       0.0       0.0       0.0       0.235046   \n",
       "min         0.00000       0.0       0.0       0.0       0.0       0.000000   \n",
       "25%        11.00000       0.0       0.0       0.0       0.0       0.000000   \n",
       "50%        23.00000       0.0       0.0       0.0       0.0       0.000000   \n",
       "75%        35.00000       0.0       0.0       0.0       0.0       0.000000   \n",
       "max        46.00000       0.0       0.0       0.0       0.0      63.000000   \n",
       "\n",
       "                 6              7              8              9    ...  \\\n",
       "count  112800.000000  112800.000000  112800.000000  112800.000000  ...   \n",
       "mean        0.011560       0.020700       0.017438       0.018475  ...   \n",
       "std         1.221826       1.658797       1.602478       1.719549  ...   \n",
       "min         0.000000       0.000000       0.000000       0.000000  ...   \n",
       "25%         0.000000       0.000000       0.000000       0.000000  ...   \n",
       "50%         0.000000       0.000000       0.000000       0.000000  ...   \n",
       "75%         0.000000       0.000000       0.000000       0.000000  ...   \n",
       "max       192.000000     217.000000     217.000000     217.000000  ...   \n",
       "\n",
       "                 775       776       777            778            779  \\\n",
       "count  112800.000000  112800.0  112800.0  112800.000000  112800.000000   \n",
       "mean        0.000310       0.0       0.0       0.002163       0.000284   \n",
       "std         0.104211       0.0       0.0       0.726499       0.095279   \n",
       "min         0.000000       0.0       0.0       0.000000       0.000000   \n",
       "25%         0.000000       0.0       0.0       0.000000       0.000000   \n",
       "50%         0.000000       0.0       0.0       0.000000       0.000000   \n",
       "75%         0.000000       0.0       0.0       0.000000       0.000000   \n",
       "max        35.000000       0.0       0.0     244.000000      32.000000   \n",
       "\n",
       "            780       781       782       783       784  \n",
       "count  112800.0  112800.0  112800.0  112800.0  112800.0  \n",
       "mean        0.0       0.0       0.0       0.0       0.0  \n",
       "std         0.0       0.0       0.0       0.0       0.0  \n",
       "min         0.0       0.0       0.0       0.0       0.0  \n",
       "25%         0.0       0.0       0.0       0.0       0.0  \n",
       "50%         0.0       0.0       0.0       0.0       0.0  \n",
       "75%         0.0       0.0       0.0       0.0       0.0  \n",
       "max         0.0       0.0       0.0       0.0       0.0  \n",
       "\n",
       "[8 rows x 785 columns]"
      ]
     },
     "execution_count": 3,
     "metadata": {},
     "output_type": "execute_result"
    }
   ],
   "source": [
    "train_df.describe()"
   ]
  },
  {
   "cell_type": "code",
   "execution_count": 4,
   "id": "7223d0e7",
   "metadata": {
    "colab": {
     "base_uri": "https://localhost:8080/"
    },
    "execution": {
     "iopub.execute_input": "2022-11-10T17:09:31.512036Z",
     "iopub.status.busy": "2022-11-10T17:09:31.511704Z",
     "iopub.status.idle": "2022-11-10T17:09:31.518615Z",
     "shell.execute_reply": "2022-11-10T17:09:31.517549Z"
    },
    "id": "7223d0e7",
    "outputId": "cf8c0dd9-1925-4417-e946-13a2349565e7",
    "papermill": {
     "duration": 0.022327,
     "end_time": "2022-11-10T17:09:31.520745",
     "exception": false,
     "start_time": "2022-11-10T17:09:31.498418",
     "status": "completed"
    },
    "tags": []
   },
   "outputs": [
    {
     "data": {
      "text/plain": [
       "(112800, 785)"
      ]
     },
     "execution_count": 4,
     "metadata": {},
     "output_type": "execute_result"
    }
   ],
   "source": [
    "train_df.shape"
   ]
  },
  {
   "cell_type": "markdown",
   "id": "99c85d5a",
   "metadata": {
    "id": "99c85d5a",
    "papermill": {
     "duration": 0.012027,
     "end_time": "2022-11-10T17:09:31.544699",
     "exception": false,
     "start_time": "2022-11-10T17:09:31.532672",
     "status": "completed"
    },
    "tags": []
   },
   "source": [
    "We have 112800 rows (images), each described using 784 variables 28X28 pixels plus one column as output variable (the first column)\n",
    "\n"
   ]
  },
  {
   "cell_type": "markdown",
   "id": "63797905",
   "metadata": {
    "id": "63797905",
    "papermill": {
     "duration": 0.011593,
     "end_time": "2022-11-10T17:09:31.568186",
     "exception": false,
     "start_time": "2022-11-10T17:09:31.556593",
     "status": "completed"
    },
    "tags": []
   },
   "source": [
    "### Creating label dictionary\n",
    "\n",
    "The output variables' values comprise of 0 to 46 values where 0-9 stands for 0-9 numbers, 10-35 stands for uppercase A-Z and 35+ stand for lowercase alphabets. We will thus create a dictionary which will have these as key and value pairs.\n",
    "\n",
    "In our dataset, there is a file emnist-balanced-mapping which contains the characters and their ASCII equivalents. We can have the index column as the key of the dictionary and the value ASCII code converted to char as the value of the dictionary."
   ]
  },
  {
   "cell_type": "code",
   "execution_count": 6,
   "id": "a563a865",
   "metadata": {
    "colab": {
     "base_uri": "https://localhost:8080/"
    },
    "execution": {
     "iopub.execute_input": "2022-11-10T17:09:31.595606Z",
     "iopub.status.busy": "2022-11-10T17:09:31.595153Z",
     "iopub.status.idle": "2022-11-10T17:09:31.610607Z",
     "shell.execute_reply": "2022-11-10T17:09:31.609366Z"
    },
    "id": "a563a865",
    "outputId": "afba5374-0d8e-4de1-e198-8b04a42a27b2",
    "papermill": {
     "duration": 0.032193,
     "end_time": "2022-11-10T17:09:31.613016",
     "exception": false,
     "start_time": "2022-11-10T17:09:31.580823",
     "status": "completed"
    },
    "tags": []
   },
   "outputs": [
    {
     "name": "stderr",
     "output_type": "stream",
     "text": [
      "<ipython-input-6-807c5be3b3b4>:2: FutureWarning: The squeeze argument has been deprecated and will be removed in a future version. Append .squeeze(\"columns\") to the call to squeeze.\n",
      "\n",
      "\n",
      "  label_map = pd.read_csv(\"emnist-balanced-mapping.txt\",\n"
     ]
    },
    {
     "data": {
      "text/plain": [
       "0\n",
       "0    48\n",
       "1    49\n",
       "2    50\n",
       "3    51\n",
       "4    52\n",
       "Name: 1, dtype: int64"
      ]
     },
     "execution_count": 6,
     "metadata": {},
     "output_type": "execute_result"
    }
   ],
   "source": [
    "#Reading the file\n",
    "label_map = pd.read_csv(\"emnist-balanced-mapping.txt\", \n",
    "                        delimiter = ' ', \n",
    "                        index_col=0, \n",
    "                        header=None, \n",
    "                        squeeze=True)\n",
    "label_map.head()"
   ]
  },
  {
   "cell_type": "code",
   "execution_count": 7,
   "id": "4cf8e2d6",
   "metadata": {
    "colab": {
     "base_uri": "https://localhost:8080/"
    },
    "execution": {
     "iopub.execute_input": "2022-11-10T17:09:31.641396Z",
     "iopub.status.busy": "2022-11-10T17:09:31.640434Z",
     "iopub.status.idle": "2022-11-10T17:09:31.650105Z",
     "shell.execute_reply": "2022-11-10T17:09:31.648866Z"
    },
    "id": "4cf8e2d6",
    "outputId": "1fd94682-da6f-4ac9-e6e3-9ac203ad0971",
    "papermill": {
     "duration": 0.026591,
     "end_time": "2022-11-10T17:09:31.652647",
     "exception": false,
     "start_time": "2022-11-10T17:09:31.626056",
     "status": "completed"
    },
    "tags": []
   },
   "outputs": [
    {
     "data": {
      "text/plain": [
       "{0: '0',\n",
       " 1: '1',\n",
       " 2: '2',\n",
       " 3: '3',\n",
       " 4: '4',\n",
       " 5: '5',\n",
       " 6: '6',\n",
       " 7: '7',\n",
       " 8: '8',\n",
       " 9: '9',\n",
       " 10: 'A',\n",
       " 11: 'B',\n",
       " 12: 'C',\n",
       " 13: 'D',\n",
       " 14: 'E',\n",
       " 15: 'F',\n",
       " 16: 'G',\n",
       " 17: 'H',\n",
       " 18: 'I',\n",
       " 19: 'J',\n",
       " 20: 'K',\n",
       " 21: 'L',\n",
       " 22: 'M',\n",
       " 23: 'N',\n",
       " 24: 'O',\n",
       " 25: 'P',\n",
       " 26: 'Q',\n",
       " 27: 'R',\n",
       " 28: 'S',\n",
       " 29: 'T',\n",
       " 30: 'U',\n",
       " 31: 'V',\n",
       " 32: 'W',\n",
       " 33: 'X',\n",
       " 34: 'Y',\n",
       " 35: 'Z',\n",
       " 36: 'a',\n",
       " 37: 'b',\n",
       " 38: 'd',\n",
       " 39: 'e',\n",
       " 40: 'f',\n",
       " 41: 'g',\n",
       " 42: 'h',\n",
       " 43: 'n',\n",
       " 44: 'q',\n",
       " 45: 'r',\n",
       " 46: 't'}"
      ]
     },
     "execution_count": 7,
     "metadata": {},
     "output_type": "execute_result"
    }
   ],
   "source": [
    "#Initialising an empty dictionary\n",
    "label_dictionary = {}\n",
    "\n",
    "#Running a loop for ASCII equivalent to character conversion\n",
    "for index, label in enumerate(label_map):\n",
    "    label_dictionary[index] = chr(label)\n",
    "\n",
    "label_dictionary"
   ]
  },
  {
   "cell_type": "markdown",
   "id": "72ea0161",
   "metadata": {
    "id": "72ea0161",
    "papermill": {
     "duration": 0.012358,
     "end_time": "2022-11-10T17:09:31.677466",
     "exception": false,
     "start_time": "2022-11-10T17:09:31.665108",
     "status": "completed"
    },
    "tags": []
   },
   "source": [
    "My area of interst is only the Hand Writing Recognition of Numbers and Block letters. Thus dropping the lowercase characters from the dataset."
   ]
  },
  {
   "cell_type": "code",
   "execution_count": 8,
   "id": "ac18e970",
   "metadata": {
    "colab": {
     "base_uri": "https://localhost:8080/",
     "height": 423
    },
    "execution": {
     "iopub.execute_input": "2022-11-10T17:09:31.704650Z",
     "iopub.status.busy": "2022-11-10T17:09:31.704289Z",
     "iopub.status.idle": "2022-11-10T17:09:32.036868Z",
     "shell.execute_reply": "2022-11-10T17:09:32.035204Z"
    },
    "id": "ac18e970",
    "outputId": "e472d1f6-9560-4ef6-c186-c26d9c3312f7",
    "papermill": {
     "duration": 0.350421,
     "end_time": "2022-11-10T17:09:32.040454",
     "exception": false,
     "start_time": "2022-11-10T17:09:31.690033",
     "status": "completed"
    },
    "tags": []
   },
   "outputs": [
    {
     "data": {
      "text/html": [
       "<div>\n",
       "<style scoped>\n",
       "    .dataframe tbody tr th:only-of-type {\n",
       "        vertical-align: middle;\n",
       "    }\n",
       "\n",
       "    .dataframe tbody tr th {\n",
       "        vertical-align: top;\n",
       "    }\n",
       "\n",
       "    .dataframe thead th {\n",
       "        text-align: right;\n",
       "    }\n",
       "</style>\n",
       "<table border=\"1\" class=\"dataframe\">\n",
       "  <thead>\n",
       "    <tr style=\"text-align: right;\">\n",
       "      <th></th>\n",
       "      <th>0</th>\n",
       "      <th>1</th>\n",
       "      <th>2</th>\n",
       "      <th>3</th>\n",
       "      <th>4</th>\n",
       "      <th>5</th>\n",
       "      <th>6</th>\n",
       "      <th>7</th>\n",
       "      <th>8</th>\n",
       "      <th>9</th>\n",
       "      <th>...</th>\n",
       "      <th>775</th>\n",
       "      <th>776</th>\n",
       "      <th>777</th>\n",
       "      <th>778</th>\n",
       "      <th>779</th>\n",
       "      <th>780</th>\n",
       "      <th>781</th>\n",
       "      <th>782</th>\n",
       "      <th>783</th>\n",
       "      <th>784</th>\n",
       "    </tr>\n",
       "  </thead>\n",
       "  <tbody>\n",
       "    <tr>\n",
       "      <th>3</th>\n",
       "      <td>15</td>\n",
       "      <td>0</td>\n",
       "      <td>0</td>\n",
       "      <td>0</td>\n",
       "      <td>0</td>\n",
       "      <td>0</td>\n",
       "      <td>0</td>\n",
       "      <td>0</td>\n",
       "      <td>0</td>\n",
       "      <td>0</td>\n",
       "      <td>...</td>\n",
       "      <td>0</td>\n",
       "      <td>0</td>\n",
       "      <td>0</td>\n",
       "      <td>0</td>\n",
       "      <td>0</td>\n",
       "      <td>0</td>\n",
       "      <td>0</td>\n",
       "      <td>0</td>\n",
       "      <td>0</td>\n",
       "      <td>0</td>\n",
       "    </tr>\n",
       "    <tr>\n",
       "      <th>4</th>\n",
       "      <td>4</td>\n",
       "      <td>0</td>\n",
       "      <td>0</td>\n",
       "      <td>0</td>\n",
       "      <td>0</td>\n",
       "      <td>0</td>\n",
       "      <td>0</td>\n",
       "      <td>0</td>\n",
       "      <td>0</td>\n",
       "      <td>0</td>\n",
       "      <td>...</td>\n",
       "      <td>0</td>\n",
       "      <td>0</td>\n",
       "      <td>0</td>\n",
       "      <td>0</td>\n",
       "      <td>0</td>\n",
       "      <td>0</td>\n",
       "      <td>0</td>\n",
       "      <td>0</td>\n",
       "      <td>0</td>\n",
       "      <td>0</td>\n",
       "    </tr>\n",
       "    <tr>\n",
       "      <th>6</th>\n",
       "      <td>26</td>\n",
       "      <td>0</td>\n",
       "      <td>0</td>\n",
       "      <td>0</td>\n",
       "      <td>0</td>\n",
       "      <td>0</td>\n",
       "      <td>0</td>\n",
       "      <td>0</td>\n",
       "      <td>0</td>\n",
       "      <td>0</td>\n",
       "      <td>...</td>\n",
       "      <td>0</td>\n",
       "      <td>0</td>\n",
       "      <td>0</td>\n",
       "      <td>0</td>\n",
       "      <td>0</td>\n",
       "      <td>0</td>\n",
       "      <td>0</td>\n",
       "      <td>0</td>\n",
       "      <td>0</td>\n",
       "      <td>0</td>\n",
       "    </tr>\n",
       "    <tr>\n",
       "      <th>7</th>\n",
       "      <td>32</td>\n",
       "      <td>0</td>\n",
       "      <td>0</td>\n",
       "      <td>0</td>\n",
       "      <td>0</td>\n",
       "      <td>0</td>\n",
       "      <td>0</td>\n",
       "      <td>0</td>\n",
       "      <td>0</td>\n",
       "      <td>0</td>\n",
       "      <td>...</td>\n",
       "      <td>0</td>\n",
       "      <td>0</td>\n",
       "      <td>0</td>\n",
       "      <td>0</td>\n",
       "      <td>0</td>\n",
       "      <td>0</td>\n",
       "      <td>0</td>\n",
       "      <td>0</td>\n",
       "      <td>0</td>\n",
       "      <td>0</td>\n",
       "    </tr>\n",
       "    <tr>\n",
       "      <th>8</th>\n",
       "      <td>20</td>\n",
       "      <td>0</td>\n",
       "      <td>0</td>\n",
       "      <td>0</td>\n",
       "      <td>0</td>\n",
       "      <td>0</td>\n",
       "      <td>0</td>\n",
       "      <td>0</td>\n",
       "      <td>0</td>\n",
       "      <td>0</td>\n",
       "      <td>...</td>\n",
       "      <td>0</td>\n",
       "      <td>0</td>\n",
       "      <td>0</td>\n",
       "      <td>0</td>\n",
       "      <td>0</td>\n",
       "      <td>0</td>\n",
       "      <td>0</td>\n",
       "      <td>0</td>\n",
       "      <td>0</td>\n",
       "      <td>0</td>\n",
       "    </tr>\n",
       "    <tr>\n",
       "      <th>...</th>\n",
       "      <td>...</td>\n",
       "      <td>...</td>\n",
       "      <td>...</td>\n",
       "      <td>...</td>\n",
       "      <td>...</td>\n",
       "      <td>...</td>\n",
       "      <td>...</td>\n",
       "      <td>...</td>\n",
       "      <td>...</td>\n",
       "      <td>...</td>\n",
       "      <td>...</td>\n",
       "      <td>...</td>\n",
       "      <td>...</td>\n",
       "      <td>...</td>\n",
       "      <td>...</td>\n",
       "      <td>...</td>\n",
       "      <td>...</td>\n",
       "      <td>...</td>\n",
       "      <td>...</td>\n",
       "      <td>...</td>\n",
       "      <td>...</td>\n",
       "    </tr>\n",
       "    <tr>\n",
       "      <th>112795</th>\n",
       "      <td>22</td>\n",
       "      <td>0</td>\n",
       "      <td>0</td>\n",
       "      <td>0</td>\n",
       "      <td>0</td>\n",
       "      <td>0</td>\n",
       "      <td>0</td>\n",
       "      <td>0</td>\n",
       "      <td>0</td>\n",
       "      <td>0</td>\n",
       "      <td>...</td>\n",
       "      <td>0</td>\n",
       "      <td>0</td>\n",
       "      <td>0</td>\n",
       "      <td>0</td>\n",
       "      <td>0</td>\n",
       "      <td>0</td>\n",
       "      <td>0</td>\n",
       "      <td>0</td>\n",
       "      <td>0</td>\n",
       "      <td>0</td>\n",
       "    </tr>\n",
       "    <tr>\n",
       "      <th>112796</th>\n",
       "      <td>17</td>\n",
       "      <td>0</td>\n",
       "      <td>0</td>\n",
       "      <td>0</td>\n",
       "      <td>0</td>\n",
       "      <td>0</td>\n",
       "      <td>0</td>\n",
       "      <td>0</td>\n",
       "      <td>0</td>\n",
       "      <td>0</td>\n",
       "      <td>...</td>\n",
       "      <td>0</td>\n",
       "      <td>0</td>\n",
       "      <td>0</td>\n",
       "      <td>0</td>\n",
       "      <td>0</td>\n",
       "      <td>0</td>\n",
       "      <td>0</td>\n",
       "      <td>0</td>\n",
       "      <td>0</td>\n",
       "      <td>0</td>\n",
       "    </tr>\n",
       "    <tr>\n",
       "      <th>112797</th>\n",
       "      <td>23</td>\n",
       "      <td>0</td>\n",
       "      <td>0</td>\n",
       "      <td>0</td>\n",
       "      <td>0</td>\n",
       "      <td>0</td>\n",
       "      <td>0</td>\n",
       "      <td>0</td>\n",
       "      <td>0</td>\n",
       "      <td>0</td>\n",
       "      <td>...</td>\n",
       "      <td>0</td>\n",
       "      <td>0</td>\n",
       "      <td>0</td>\n",
       "      <td>0</td>\n",
       "      <td>0</td>\n",
       "      <td>0</td>\n",
       "      <td>0</td>\n",
       "      <td>0</td>\n",
       "      <td>0</td>\n",
       "      <td>0</td>\n",
       "    </tr>\n",
       "    <tr>\n",
       "      <th>112798</th>\n",
       "      <td>31</td>\n",
       "      <td>0</td>\n",
       "      <td>0</td>\n",
       "      <td>0</td>\n",
       "      <td>0</td>\n",
       "      <td>0</td>\n",
       "      <td>0</td>\n",
       "      <td>0</td>\n",
       "      <td>0</td>\n",
       "      <td>0</td>\n",
       "      <td>...</td>\n",
       "      <td>0</td>\n",
       "      <td>0</td>\n",
       "      <td>0</td>\n",
       "      <td>0</td>\n",
       "      <td>0</td>\n",
       "      <td>0</td>\n",
       "      <td>0</td>\n",
       "      <td>0</td>\n",
       "      <td>0</td>\n",
       "      <td>0</td>\n",
       "    </tr>\n",
       "    <tr>\n",
       "      <th>112799</th>\n",
       "      <td>8</td>\n",
       "      <td>0</td>\n",
       "      <td>0</td>\n",
       "      <td>0</td>\n",
       "      <td>0</td>\n",
       "      <td>0</td>\n",
       "      <td>0</td>\n",
       "      <td>0</td>\n",
       "      <td>0</td>\n",
       "      <td>0</td>\n",
       "      <td>...</td>\n",
       "      <td>0</td>\n",
       "      <td>0</td>\n",
       "      <td>0</td>\n",
       "      <td>0</td>\n",
       "      <td>0</td>\n",
       "      <td>0</td>\n",
       "      <td>0</td>\n",
       "      <td>0</td>\n",
       "      <td>0</td>\n",
       "      <td>0</td>\n",
       "    </tr>\n",
       "  </tbody>\n",
       "</table>\n",
       "<p>86400 rows × 785 columns</p>\n",
       "</div>"
      ],
      "text/plain": [
       "        0    1    2    3    4    5    6    7    8    9    ...  775  776  777  \\\n",
       "3        15    0    0    0    0    0    0    0    0    0  ...    0    0    0   \n",
       "4         4    0    0    0    0    0    0    0    0    0  ...    0    0    0   \n",
       "6        26    0    0    0    0    0    0    0    0    0  ...    0    0    0   \n",
       "7        32    0    0    0    0    0    0    0    0    0  ...    0    0    0   \n",
       "8        20    0    0    0    0    0    0    0    0    0  ...    0    0    0   \n",
       "...     ...  ...  ...  ...  ...  ...  ...  ...  ...  ...  ...  ...  ...  ...   \n",
       "112795   22    0    0    0    0    0    0    0    0    0  ...    0    0    0   \n",
       "112796   17    0    0    0    0    0    0    0    0    0  ...    0    0    0   \n",
       "112797   23    0    0    0    0    0    0    0    0    0  ...    0    0    0   \n",
       "112798   31    0    0    0    0    0    0    0    0    0  ...    0    0    0   \n",
       "112799    8    0    0    0    0    0    0    0    0    0  ...    0    0    0   \n",
       "\n",
       "        778  779  780  781  782  783  784  \n",
       "3         0    0    0    0    0    0    0  \n",
       "4         0    0    0    0    0    0    0  \n",
       "6         0    0    0    0    0    0    0  \n",
       "7         0    0    0    0    0    0    0  \n",
       "8         0    0    0    0    0    0    0  \n",
       "...     ...  ...  ...  ...  ...  ...  ...  \n",
       "112795    0    0    0    0    0    0    0  \n",
       "112796    0    0    0    0    0    0    0  \n",
       "112797    0    0    0    0    0    0    0  \n",
       "112798    0    0    0    0    0    0    0  \n",
       "112799    0    0    0    0    0    0    0  \n",
       "\n",
       "[86400 rows x 785 columns]"
      ]
     },
     "execution_count": 8,
     "metadata": {},
     "output_type": "execute_result"
    }
   ],
   "source": [
    "#train_df[~train_df[0].isin(np.arange(36, 47))]\n",
    "train_df_new = train_df[train_df[0].isin(np.arange(0, 36))]\n",
    "train_df_new"
   ]
  },
  {
   "cell_type": "code",
   "execution_count": 9,
   "id": "e3e50c73",
   "metadata": {
    "colab": {
     "base_uri": "https://localhost:8080/"
    },
    "execution": {
     "iopub.execute_input": "2022-11-10T17:09:32.067799Z",
     "iopub.status.busy": "2022-11-10T17:09:32.067402Z",
     "iopub.status.idle": "2022-11-10T17:09:32.081610Z",
     "shell.execute_reply": "2022-11-10T17:09:32.080380Z"
    },
    "id": "e3e50c73",
    "outputId": "f8d9c204-57ea-4347-9f90-06e57aa1ba1f",
    "papermill": {
     "duration": 0.030292,
     "end_time": "2022-11-10T17:09:32.083861",
     "exception": false,
     "start_time": "2022-11-10T17:09:32.053569",
     "status": "completed"
    },
    "tags": []
   },
   "outputs": [
    {
     "data": {
      "text/plain": [
       "count    86400.000000\n",
       "mean        17.500000\n",
       "std         10.388355\n",
       "min          0.000000\n",
       "25%          8.750000\n",
       "50%         17.500000\n",
       "75%         26.250000\n",
       "max         35.000000\n",
       "Name: 0, dtype: float64"
      ]
     },
     "execution_count": 9,
     "metadata": {},
     "output_type": "execute_result"
    }
   ],
   "source": [
    "#Checking\n",
    "train_df_new[0].describe()"
   ]
  },
  {
   "cell_type": "markdown",
   "id": "3fb07527",
   "metadata": {
    "id": "3fb07527",
    "papermill": {
     "duration": 0.012119,
     "end_time": "2022-11-10T17:09:32.109320",
     "exception": false,
     "start_time": "2022-11-10T17:09:32.097201",
     "status": "completed"
    },
    "tags": []
   },
   "source": [
    "min value is 0 and max value is 35. Thus, only numbers and uppercase characters are there in the new dataframe.\n",
    "\n",
    "We will next split this output variable (y) from the input variables (x)"
   ]
  },
  {
   "cell_type": "code",
   "execution_count": 10,
   "id": "8dd6305c",
   "metadata": {
    "colab": {
     "base_uri": "https://localhost:8080/",
     "height": 423
    },
    "execution": {
     "iopub.execute_input": "2022-11-10T17:09:32.137595Z",
     "iopub.status.busy": "2022-11-10T17:09:32.136646Z",
     "iopub.status.idle": "2022-11-10T17:09:32.169777Z",
     "shell.execute_reply": "2022-11-10T17:09:32.168557Z"
    },
    "id": "8dd6305c",
    "outputId": "ba7ac204-ee3d-4f87-9cf6-f9e153365f34",
    "papermill": {
     "duration": 0.050784,
     "end_time": "2022-11-10T17:09:32.172992",
     "exception": false,
     "start_time": "2022-11-10T17:09:32.122208",
     "status": "completed"
    },
    "tags": []
   },
   "outputs": [
    {
     "data": {
      "text/html": [
       "<div>\n",
       "<style scoped>\n",
       "    .dataframe tbody tr th:only-of-type {\n",
       "        vertical-align: middle;\n",
       "    }\n",
       "\n",
       "    .dataframe tbody tr th {\n",
       "        vertical-align: top;\n",
       "    }\n",
       "\n",
       "    .dataframe thead th {\n",
       "        text-align: right;\n",
       "    }\n",
       "</style>\n",
       "<table border=\"1\" class=\"dataframe\">\n",
       "  <thead>\n",
       "    <tr style=\"text-align: right;\">\n",
       "      <th></th>\n",
       "      <th>index</th>\n",
       "      <th>0</th>\n",
       "      <th>1</th>\n",
       "      <th>2</th>\n",
       "      <th>3</th>\n",
       "      <th>4</th>\n",
       "      <th>5</th>\n",
       "      <th>6</th>\n",
       "      <th>7</th>\n",
       "      <th>8</th>\n",
       "      <th>...</th>\n",
       "      <th>775</th>\n",
       "      <th>776</th>\n",
       "      <th>777</th>\n",
       "      <th>778</th>\n",
       "      <th>779</th>\n",
       "      <th>780</th>\n",
       "      <th>781</th>\n",
       "      <th>782</th>\n",
       "      <th>783</th>\n",
       "      <th>784</th>\n",
       "    </tr>\n",
       "  </thead>\n",
       "  <tbody>\n",
       "    <tr>\n",
       "      <th>0</th>\n",
       "      <td>3</td>\n",
       "      <td>15</td>\n",
       "      <td>0</td>\n",
       "      <td>0</td>\n",
       "      <td>0</td>\n",
       "      <td>0</td>\n",
       "      <td>0</td>\n",
       "      <td>0</td>\n",
       "      <td>0</td>\n",
       "      <td>0</td>\n",
       "      <td>...</td>\n",
       "      <td>0</td>\n",
       "      <td>0</td>\n",
       "      <td>0</td>\n",
       "      <td>0</td>\n",
       "      <td>0</td>\n",
       "      <td>0</td>\n",
       "      <td>0</td>\n",
       "      <td>0</td>\n",
       "      <td>0</td>\n",
       "      <td>0</td>\n",
       "    </tr>\n",
       "    <tr>\n",
       "      <th>1</th>\n",
       "      <td>4</td>\n",
       "      <td>4</td>\n",
       "      <td>0</td>\n",
       "      <td>0</td>\n",
       "      <td>0</td>\n",
       "      <td>0</td>\n",
       "      <td>0</td>\n",
       "      <td>0</td>\n",
       "      <td>0</td>\n",
       "      <td>0</td>\n",
       "      <td>...</td>\n",
       "      <td>0</td>\n",
       "      <td>0</td>\n",
       "      <td>0</td>\n",
       "      <td>0</td>\n",
       "      <td>0</td>\n",
       "      <td>0</td>\n",
       "      <td>0</td>\n",
       "      <td>0</td>\n",
       "      <td>0</td>\n",
       "      <td>0</td>\n",
       "    </tr>\n",
       "    <tr>\n",
       "      <th>2</th>\n",
       "      <td>6</td>\n",
       "      <td>26</td>\n",
       "      <td>0</td>\n",
       "      <td>0</td>\n",
       "      <td>0</td>\n",
       "      <td>0</td>\n",
       "      <td>0</td>\n",
       "      <td>0</td>\n",
       "      <td>0</td>\n",
       "      <td>0</td>\n",
       "      <td>...</td>\n",
       "      <td>0</td>\n",
       "      <td>0</td>\n",
       "      <td>0</td>\n",
       "      <td>0</td>\n",
       "      <td>0</td>\n",
       "      <td>0</td>\n",
       "      <td>0</td>\n",
       "      <td>0</td>\n",
       "      <td>0</td>\n",
       "      <td>0</td>\n",
       "    </tr>\n",
       "    <tr>\n",
       "      <th>3</th>\n",
       "      <td>7</td>\n",
       "      <td>32</td>\n",
       "      <td>0</td>\n",
       "      <td>0</td>\n",
       "      <td>0</td>\n",
       "      <td>0</td>\n",
       "      <td>0</td>\n",
       "      <td>0</td>\n",
       "      <td>0</td>\n",
       "      <td>0</td>\n",
       "      <td>...</td>\n",
       "      <td>0</td>\n",
       "      <td>0</td>\n",
       "      <td>0</td>\n",
       "      <td>0</td>\n",
       "      <td>0</td>\n",
       "      <td>0</td>\n",
       "      <td>0</td>\n",
       "      <td>0</td>\n",
       "      <td>0</td>\n",
       "      <td>0</td>\n",
       "    </tr>\n",
       "    <tr>\n",
       "      <th>4</th>\n",
       "      <td>8</td>\n",
       "      <td>20</td>\n",
       "      <td>0</td>\n",
       "      <td>0</td>\n",
       "      <td>0</td>\n",
       "      <td>0</td>\n",
       "      <td>0</td>\n",
       "      <td>0</td>\n",
       "      <td>0</td>\n",
       "      <td>0</td>\n",
       "      <td>...</td>\n",
       "      <td>0</td>\n",
       "      <td>0</td>\n",
       "      <td>0</td>\n",
       "      <td>0</td>\n",
       "      <td>0</td>\n",
       "      <td>0</td>\n",
       "      <td>0</td>\n",
       "      <td>0</td>\n",
       "      <td>0</td>\n",
       "      <td>0</td>\n",
       "    </tr>\n",
       "    <tr>\n",
       "      <th>...</th>\n",
       "      <td>...</td>\n",
       "      <td>...</td>\n",
       "      <td>...</td>\n",
       "      <td>...</td>\n",
       "      <td>...</td>\n",
       "      <td>...</td>\n",
       "      <td>...</td>\n",
       "      <td>...</td>\n",
       "      <td>...</td>\n",
       "      <td>...</td>\n",
       "      <td>...</td>\n",
       "      <td>...</td>\n",
       "      <td>...</td>\n",
       "      <td>...</td>\n",
       "      <td>...</td>\n",
       "      <td>...</td>\n",
       "      <td>...</td>\n",
       "      <td>...</td>\n",
       "      <td>...</td>\n",
       "      <td>...</td>\n",
       "      <td>...</td>\n",
       "    </tr>\n",
       "    <tr>\n",
       "      <th>86395</th>\n",
       "      <td>112795</td>\n",
       "      <td>22</td>\n",
       "      <td>0</td>\n",
       "      <td>0</td>\n",
       "      <td>0</td>\n",
       "      <td>0</td>\n",
       "      <td>0</td>\n",
       "      <td>0</td>\n",
       "      <td>0</td>\n",
       "      <td>0</td>\n",
       "      <td>...</td>\n",
       "      <td>0</td>\n",
       "      <td>0</td>\n",
       "      <td>0</td>\n",
       "      <td>0</td>\n",
       "      <td>0</td>\n",
       "      <td>0</td>\n",
       "      <td>0</td>\n",
       "      <td>0</td>\n",
       "      <td>0</td>\n",
       "      <td>0</td>\n",
       "    </tr>\n",
       "    <tr>\n",
       "      <th>86396</th>\n",
       "      <td>112796</td>\n",
       "      <td>17</td>\n",
       "      <td>0</td>\n",
       "      <td>0</td>\n",
       "      <td>0</td>\n",
       "      <td>0</td>\n",
       "      <td>0</td>\n",
       "      <td>0</td>\n",
       "      <td>0</td>\n",
       "      <td>0</td>\n",
       "      <td>...</td>\n",
       "      <td>0</td>\n",
       "      <td>0</td>\n",
       "      <td>0</td>\n",
       "      <td>0</td>\n",
       "      <td>0</td>\n",
       "      <td>0</td>\n",
       "      <td>0</td>\n",
       "      <td>0</td>\n",
       "      <td>0</td>\n",
       "      <td>0</td>\n",
       "    </tr>\n",
       "    <tr>\n",
       "      <th>86397</th>\n",
       "      <td>112797</td>\n",
       "      <td>23</td>\n",
       "      <td>0</td>\n",
       "      <td>0</td>\n",
       "      <td>0</td>\n",
       "      <td>0</td>\n",
       "      <td>0</td>\n",
       "      <td>0</td>\n",
       "      <td>0</td>\n",
       "      <td>0</td>\n",
       "      <td>...</td>\n",
       "      <td>0</td>\n",
       "      <td>0</td>\n",
       "      <td>0</td>\n",
       "      <td>0</td>\n",
       "      <td>0</td>\n",
       "      <td>0</td>\n",
       "      <td>0</td>\n",
       "      <td>0</td>\n",
       "      <td>0</td>\n",
       "      <td>0</td>\n",
       "    </tr>\n",
       "    <tr>\n",
       "      <th>86398</th>\n",
       "      <td>112798</td>\n",
       "      <td>31</td>\n",
       "      <td>0</td>\n",
       "      <td>0</td>\n",
       "      <td>0</td>\n",
       "      <td>0</td>\n",
       "      <td>0</td>\n",
       "      <td>0</td>\n",
       "      <td>0</td>\n",
       "      <td>0</td>\n",
       "      <td>...</td>\n",
       "      <td>0</td>\n",
       "      <td>0</td>\n",
       "      <td>0</td>\n",
       "      <td>0</td>\n",
       "      <td>0</td>\n",
       "      <td>0</td>\n",
       "      <td>0</td>\n",
       "      <td>0</td>\n",
       "      <td>0</td>\n",
       "      <td>0</td>\n",
       "    </tr>\n",
       "    <tr>\n",
       "      <th>86399</th>\n",
       "      <td>112799</td>\n",
       "      <td>8</td>\n",
       "      <td>0</td>\n",
       "      <td>0</td>\n",
       "      <td>0</td>\n",
       "      <td>0</td>\n",
       "      <td>0</td>\n",
       "      <td>0</td>\n",
       "      <td>0</td>\n",
       "      <td>0</td>\n",
       "      <td>...</td>\n",
       "      <td>0</td>\n",
       "      <td>0</td>\n",
       "      <td>0</td>\n",
       "      <td>0</td>\n",
       "      <td>0</td>\n",
       "      <td>0</td>\n",
       "      <td>0</td>\n",
       "      <td>0</td>\n",
       "      <td>0</td>\n",
       "      <td>0</td>\n",
       "    </tr>\n",
       "  </tbody>\n",
       "</table>\n",
       "<p>86400 rows × 786 columns</p>\n",
       "</div>"
      ],
      "text/plain": [
       "        index   0  1  2  3  4  5  6  7  8  ...  775  776  777  778  779  780  \\\n",
       "0           3  15  0  0  0  0  0  0  0  0  ...    0    0    0    0    0    0   \n",
       "1           4   4  0  0  0  0  0  0  0  0  ...    0    0    0    0    0    0   \n",
       "2           6  26  0  0  0  0  0  0  0  0  ...    0    0    0    0    0    0   \n",
       "3           7  32  0  0  0  0  0  0  0  0  ...    0    0    0    0    0    0   \n",
       "4           8  20  0  0  0  0  0  0  0  0  ...    0    0    0    0    0    0   \n",
       "...       ...  .. .. .. .. .. .. .. .. ..  ...  ...  ...  ...  ...  ...  ...   \n",
       "86395  112795  22  0  0  0  0  0  0  0  0  ...    0    0    0    0    0    0   \n",
       "86396  112796  17  0  0  0  0  0  0  0  0  ...    0    0    0    0    0    0   \n",
       "86397  112797  23  0  0  0  0  0  0  0  0  ...    0    0    0    0    0    0   \n",
       "86398  112798  31  0  0  0  0  0  0  0  0  ...    0    0    0    0    0    0   \n",
       "86399  112799   8  0  0  0  0  0  0  0  0  ...    0    0    0    0    0    0   \n",
       "\n",
       "       781  782  783  784  \n",
       "0        0    0    0    0  \n",
       "1        0    0    0    0  \n",
       "2        0    0    0    0  \n",
       "3        0    0    0    0  \n",
       "4        0    0    0    0  \n",
       "...    ...  ...  ...  ...  \n",
       "86395    0    0    0    0  \n",
       "86396    0    0    0    0  \n",
       "86397    0    0    0    0  \n",
       "86398    0    0    0    0  \n",
       "86399    0    0    0    0  \n",
       "\n",
       "[86400 rows x 786 columns]"
      ]
     },
     "execution_count": 10,
     "metadata": {},
     "output_type": "execute_result"
    }
   ],
   "source": [
    "# Resetting Index\n",
    "train_df_new.reset_index(inplace=True)\n",
    "train_df_new"
   ]
  },
  {
   "cell_type": "code",
   "execution_count": 11,
   "id": "4b8997c0",
   "metadata": {
    "colab": {
     "base_uri": "https://localhost:8080/"
    },
    "execution": {
     "iopub.execute_input": "2022-11-10T17:09:32.202794Z",
     "iopub.status.busy": "2022-11-10T17:09:32.201498Z",
     "iopub.status.idle": "2022-11-10T17:09:32.366132Z",
     "shell.execute_reply": "2022-11-10T17:09:32.364985Z"
    },
    "id": "4b8997c0",
    "outputId": "b1daba84-fd44-4caf-87f9-4ff1fbe8e2ae",
    "papermill": {
     "duration": 0.182035,
     "end_time": "2022-11-10T17:09:32.369163",
     "exception": false,
     "start_time": "2022-11-10T17:09:32.187128",
     "status": "completed"
    },
    "tags": []
   },
   "outputs": [
    {
     "data": {
      "text/plain": [
       "((86400, 784), (86400,))"
      ]
     },
     "execution_count": 11,
     "metadata": {},
     "output_type": "execute_result"
    }
   ],
   "source": [
    "x_train = train_df_new.loc[:, 1:]\n",
    "y_train = train_df_new.loc[:, 0]\n",
    "\n",
    "x_train.shape, y_train.shape"
   ]
  },
  {
   "cell_type": "markdown",
   "id": "6defee82",
   "metadata": {
    "id": "6defee82",
    "papermill": {
     "duration": 0.012268,
     "end_time": "2022-11-10T17:09:32.394635",
     "exception": false,
     "start_time": "2022-11-10T17:09:32.382367",
     "status": "completed"
    },
    "tags": []
   },
   "source": [
    "### Visualising Sample data"
   ]
  },
  {
   "cell_type": "code",
   "execution_count": 12,
   "id": "70a4e81e",
   "metadata": {
    "colab": {
     "base_uri": "https://localhost:8080/"
    },
    "execution": {
     "iopub.execute_input": "2022-11-10T17:09:32.422566Z",
     "iopub.status.busy": "2022-11-10T17:09:32.422222Z",
     "iopub.status.idle": "2022-11-10T17:09:32.429552Z",
     "shell.execute_reply": "2022-11-10T17:09:32.428451Z"
    },
    "id": "70a4e81e",
    "outputId": "a0048f75-c917-4128-d8ed-8ca5341e525d",
    "papermill": {
     "duration": 0.024552,
     "end_time": "2022-11-10T17:09:32.431860",
     "exception": false,
     "start_time": "2022-11-10T17:09:32.407308",
     "status": "completed"
    },
    "tags": []
   },
   "outputs": [
    {
     "data": {
      "text/plain": [
       "((784,), 19)"
      ]
     },
     "execution_count": 12,
     "metadata": {},
     "output_type": "execute_result"
    }
   ],
   "source": [
    "# Sample entry number 1000\n",
    "sample_image = x_train.iloc[1000]\n",
    "sample_label = y_train.iloc[1000]\n",
    "sample_image.shape, sample_label"
   ]
  },
  {
   "cell_type": "code",
   "execution_count": 13,
   "id": "8526d97d",
   "metadata": {
    "colab": {
     "base_uri": "https://localhost:8080/",
     "height": 283
    },
    "execution": {
     "iopub.execute_input": "2022-11-10T17:09:32.459205Z",
     "iopub.status.busy": "2022-11-10T17:09:32.458358Z",
     "iopub.status.idle": "2022-11-10T17:09:32.673053Z",
     "shell.execute_reply": "2022-11-10T17:09:32.671959Z"
    },
    "id": "8526d97d",
    "outputId": "975e98f7-c2e3-4dc7-f956-bb5077c38aea",
    "papermill": {
     "duration": 0.230709,
     "end_time": "2022-11-10T17:09:32.675440",
     "exception": false,
     "start_time": "2022-11-10T17:09:32.444731",
     "status": "completed"
    },
    "tags": []
   },
   "outputs": [
    {
     "name": "stdout",
     "output_type": "stream",
     "text": [
      "Label entry No. 1000: J\n"
     ]
    },
    {
     "data": {
      "image/png": "[encoded data removed]",
      "text/plain": [
       "<Figure size 432x288 with 1 Axes>"
      ]
     },
     "metadata": {
      "needs_background": "light"
     },
     "output_type": "display_data"
    }
   ],
   "source": [
    "#Init Height and Weight\n",
    "W = 28\n",
    "H = 28\n",
    "\n",
    "print(\"Label entry No. 1000:\", label_dictionary[sample_label])\n",
    "plt.imshow(sample_image.values.reshape(W, H), cmap=plt.cm.gray)\n",
    "plt.show()"
   ]
  },
  {
   "cell_type": "markdown",
   "id": "568b0242",
   "metadata": {
    "id": "568b0242",
    "papermill": {
     "duration": 0.012952,
     "end_time": "2022-11-10T17:09:32.702107",
     "exception": false,
     "start_time": "2022-11-10T17:09:32.689155",
     "status": "completed"
    },
    "tags": []
   },
   "source": [
    "It is quite visible that the image is rotated anticlockwise 90 degrees and flipped as well. We will thus define a function to rotate and flip and see if it works on the sample image."
   ]
  },
  {
   "cell_type": "code",
   "execution_count": 14,
   "id": "775f116f",
   "metadata": {
    "colab": {
     "base_uri": "https://localhost:8080/",
     "height": 283
    },
    "execution": {
     "iopub.execute_input": "2022-11-10T17:09:32.729911Z",
     "iopub.status.busy": "2022-11-10T17:09:32.728965Z",
     "iopub.status.idle": "2022-11-10T17:09:32.920943Z",
     "shell.execute_reply": "2022-11-10T17:09:32.919513Z"
    },
    "id": "775f116f",
    "outputId": "92b52778-b297-4813-e113-82189ec8a94f",
    "papermill": {
     "duration": 0.208408,
     "end_time": "2022-11-10T17:09:32.923531",
     "exception": false,
     "start_time": "2022-11-10T17:09:32.715123",
     "status": "completed"
    },
    "tags": []
   },
   "outputs": [
    {
     "name": "stdout",
     "output_type": "stream",
     "text": [
      "Label entry 1000: J\n"
     ]
    },
    {
     "data": {
      "image/png": "[encoded data removed]",
      "text/plain": [
       "<Figure size 432x288 with 1 Axes>"
      ]
     },
     "metadata": {
      "needs_background": "light"
     },
     "output_type": "display_data"
    }
   ],
   "source": [
    "def flip_and_rotate(image):\n",
    "    W = 28\n",
    "    H = 28\n",
    "    image = image.reshape(W, H)\n",
    "    image = np.fliplr(image)\n",
    "    image = np.rot90(image)\n",
    "    return image\n",
    "\n",
    "print(\"Label entry 1000:\", label_dictionary[sample_label])\n",
    "plt.imshow(flip_and_rotate(sample_image.values), cmap=plt.cm.gray)\n",
    "plt.show()"
   ]
  },
  {
   "cell_type": "markdown",
   "id": "4289a0c1",
   "metadata": {
    "id": "4289a0c1",
    "papermill": {
     "duration": 0.015203,
     "end_time": "2022-11-10T17:09:32.952835",
     "exception": false,
     "start_time": "2022-11-10T17:09:32.937632",
     "status": "completed"
    },
    "tags": []
   },
   "source": [
    "Next we want to apply reshape_and_rotate to all images in X_train"
   ]
  },
  {
   "cell_type": "code",
   "execution_count": 15,
   "id": "7e008808",
   "metadata": {
    "colab": {
     "base_uri": "https://localhost:8080/"
    },
    "execution": {
     "iopub.execute_input": "2022-11-10T17:09:32.981762Z",
     "iopub.status.busy": "2022-11-10T17:09:32.981421Z",
     "iopub.status.idle": "2022-11-10T17:09:35.457649Z",
     "shell.execute_reply": "2022-11-10T17:09:35.456268Z"
    },
    "id": "7e008808",
    "outputId": "42c15ae1-e17a-4fdc-ebd8-b68320be7e8e",
    "papermill": {
     "duration": 2.494095,
     "end_time": "2022-11-10T17:09:35.460341",
     "exception": false,
     "start_time": "2022-11-10T17:09:32.966246",
     "status": "completed"
    },
    "tags": []
   },
   "outputs": [
    {
     "data": {
      "text/plain": [
       "(86400, 28, 28)"
      ]
     },
     "execution_count": 15,
     "metadata": {},
     "output_type": "execute_result"
    }
   ],
   "source": [
    "x_train = np.apply_along_axis(flip_and_rotate, 1, x_train.values)\n",
    "x_train.shape"
   ]
  },
  {
   "cell_type": "markdown",
   "id": "462f3299",
   "metadata": {
    "id": "462f3299",
    "papermill": {
     "duration": 0.02206,
     "end_time": "2022-11-10T17:09:35.504340",
     "exception": false,
     "start_time": "2022-11-10T17:09:35.482280",
     "status": "completed"
    },
    "tags": []
   },
   "source": [
    "### Visualising More Samples"
   ]
  },
  {
   "cell_type": "code",
   "execution_count": 16,
   "id": "328e3a7e",
   "metadata": {
    "colab": {
     "base_uri": "https://localhost:8080/",
     "height": 497
    },
    "execution": {
     "iopub.execute_input": "2022-11-10T17:09:35.546981Z",
     "iopub.status.busy": "2022-11-10T17:09:35.546528Z",
     "iopub.status.idle": "2022-11-10T17:09:37.239834Z",
     "shell.execute_reply": "2022-11-10T17:09:37.238660Z"
    },
    "id": "328e3a7e",
    "outputId": "818310c9-be39-4288-dbb6-09495f8f4f45",
    "papermill": {
     "duration": 1.717385,
     "end_time": "2022-11-10T17:09:37.242252",
     "exception": false,
     "start_time": "2022-11-10T17:09:35.524867",
     "status": "completed"
    },
    "tags": []
   },
   "outputs": [
    {
     "data": {
      "image/png": "[encoded data removed]",
      "text/plain": [
       "<Figure size 800x640 with 18 Axes>"
      ]
     },
     "metadata": {
      "needs_background": "light"
     },
     "output_type": "display_data"
    }
   ],
   "source": [
    "plt.figure(figsize=(10, 8), dpi=80)\n",
    "for i in range(100, 118):\n",
    "    plt.subplot(3,6,i-99)\n",
    "    plt.imshow(x_train[i], cmap=plt.cm.gray)\n",
    "    plt.title(label_dictionary[y_train[i]])"
   ]
  },
  {
   "cell_type": "markdown",
   "id": "ca53114f",
   "metadata": {
    "execution": {
     "iopub.execute_input": "2022-11-09T14:40:50.422775Z",
     "iopub.status.busy": "2022-11-09T14:40:50.422344Z",
     "iopub.status.idle": "2022-11-09T14:40:50.629640Z",
     "shell.execute_reply": "2022-11-09T14:40:50.628520Z",
     "shell.execute_reply.started": "2022-11-09T14:40:50.422740Z"
    },
    "id": "ca53114f",
    "papermill": {
     "duration": 0.015965,
     "end_time": "2022-11-10T17:09:37.274126",
     "exception": false,
     "start_time": "2022-11-10T17:09:37.258161",
     "status": "completed"
    },
    "tags": []
   },
   "source": [
    "### Normalizing the Data"
   ]
  },
  {
   "cell_type": "code",
   "execution_count": 17,
   "id": "604e865a",
   "metadata": {
    "colab": {
     "base_uri": "https://localhost:8080/"
    },
    "execution": {
     "iopub.execute_input": "2022-11-10T17:09:37.307625Z",
     "iopub.status.busy": "2022-11-10T17:09:37.306595Z",
     "iopub.status.idle": "2022-11-10T17:09:37.459435Z",
     "shell.execute_reply": "2022-11-10T17:09:37.458338Z"
    },
    "id": "604e865a",
    "outputId": "e6402fc3-5813-4aa1-d03f-e10256eb6bfd",
    "papermill": {
     "duration": 0.171684,
     "end_time": "2022-11-10T17:09:37.461879",
     "exception": false,
     "start_time": "2022-11-10T17:09:37.290195",
     "status": "completed"
    },
    "tags": []
   },
   "outputs": [
    {
     "data": {
      "text/plain": [
       "array([[0.        , 0.        , 0.        , 0.        , 0.        ,\n",
       "        0.        , 0.        , 0.        , 0.        , 0.        ,\n",
       "        0.        , 0.        , 0.        , 0.        , 0.        ,\n",
       "        0.        , 0.        , 0.        , 0.        , 0.        ,\n",
       "        0.        , 0.        , 0.        , 0.        , 0.        ,\n",
       "        0.        , 0.        , 0.        ],\n",
       "       [0.        , 0.        , 0.        , 0.        , 0.        ,\n",
       "        0.        , 0.        , 0.        , 0.        , 0.        ,\n",
       "        0.        , 0.        , 0.        , 0.        , 0.        ,\n",
       "        0.        , 0.        , 0.00784314, 0.03529412, 0.1254902 ,\n",
       "        0.01176471, 0.        , 0.        , 0.        , 0.        ,\n",
       "        0.        , 0.        , 0.        ],\n",
       "       [0.        , 0.        , 0.        , 0.        , 0.        ,\n",
       "        0.        , 0.        , 0.        , 0.        , 0.        ,\n",
       "        0.        , 0.        , 0.        , 0.        , 0.        ,\n",
       "        0.        , 0.13333334, 0.6666667 , 0.87058824, 0.95686275,\n",
       "        0.67058825, 0.18039216, 0.00392157, 0.        , 0.        ,\n",
       "        0.        , 0.        , 0.        ],\n",
       "       [0.        , 0.        , 0.        , 0.        , 0.        ,\n",
       "        0.        , 0.        , 0.        , 0.        , 0.        ,\n",
       "        0.        , 0.        , 0.        , 0.        , 0.00392157,\n",
       "        0.3529412 , 0.9098039 , 0.99607843, 0.95686275, 0.5529412 ,\n",
       "        0.5058824 , 0.83137256, 0.3019608 , 0.        , 0.        ,\n",
       "        0.        , 0.        , 0.        ],\n",
       "       [0.        , 0.        , 0.        , 0.        , 0.        ,\n",
       "        0.        , 0.        , 0.        , 0.        , 0.        ,\n",
       "        0.        , 0.        , 0.        , 0.03529412, 0.35686275,\n",
       "        0.9647059 , 0.96862745, 0.67058825, 0.18039216, 0.00392157,\n",
       "        0.        , 0.30980393, 0.4627451 , 0.        , 0.        ,\n",
       "        0.        , 0.        , 0.        ],\n",
       "       [0.        , 0.        , 0.        , 0.        , 0.        ,\n",
       "        0.        , 0.        , 0.        , 0.        , 0.        ,\n",
       "        0.        , 0.        , 0.00784314, 0.61960787, 0.9647059 ,\n",
       "        0.96862745, 0.35686275, 0.01176471, 0.        , 0.        ,\n",
       "        0.        , 0.00392157, 0.05098039, 0.        , 0.        ,\n",
       "        0.        , 0.        , 0.        ],\n",
       "       [0.        , 0.        , 0.        , 0.        , 0.        ,\n",
       "        0.        , 0.        , 0.        , 0.        , 0.        ,\n",
       "        0.        , 0.        , 0.14117648, 0.91764706, 0.99607843,\n",
       "        0.67058825, 0.01176471, 0.        , 0.        , 0.        ,\n",
       "        0.        , 0.        , 0.        , 0.        , 0.        ,\n",
       "        0.        , 0.        , 0.        ],\n",
       "       [0.        , 0.        , 0.        , 0.        , 0.        ,\n",
       "        0.        , 0.        , 0.        , 0.        , 0.        ,\n",
       "        0.        , 0.03137255, 0.8117647 , 0.99607843, 0.8666667 ,\n",
       "        0.12941177, 0.        , 0.        , 0.        , 0.        ,\n",
       "        0.        , 0.        , 0.        , 0.        , 0.        ,\n",
       "        0.        , 0.        , 0.        ],\n",
       "       [0.        , 0.        , 0.        , 0.        , 0.        ,\n",
       "        0.        , 0.        , 0.        , 0.        , 0.        ,\n",
       "        0.        , 0.37254903, 0.9882353 , 0.9529412 , 0.4509804 ,\n",
       "        0.        , 0.        , 0.        , 0.        , 0.        ,\n",
       "        0.        , 0.        , 0.        , 0.        , 0.        ,\n",
       "        0.        , 0.        , 0.        ],\n",
       "       [0.        , 0.        , 0.        , 0.        , 0.        ,\n",
       "        0.        , 0.        , 0.        , 0.        , 0.        ,\n",
       "        0.01960784, 0.84705883, 0.99215686, 0.49803922, 0.03921569,\n",
       "        0.        , 0.        , 0.        , 0.        , 0.        ,\n",
       "        0.        , 0.        , 0.        , 0.        , 0.        ,\n",
       "        0.        , 0.        , 0.        ],\n",
       "       [0.        , 0.        , 0.        , 0.        , 0.        ,\n",
       "        0.        , 0.        , 0.        , 0.        , 0.        ,\n",
       "        0.13333334, 0.9607843 , 0.8117647 , 0.03921569, 0.        ,\n",
       "        0.        , 0.        , 0.        , 0.        , 0.        ,\n",
       "        0.        , 0.        , 0.        , 0.        , 0.        ,\n",
       "        0.        , 0.        , 0.        ],\n",
       "       [0.        , 0.        , 0.        , 0.        , 0.        ,\n",
       "        0.        , 0.        , 0.        , 0.        , 0.00784314,\n",
       "        0.62352943, 0.9764706 , 0.20392157, 0.        , 0.        ,\n",
       "        0.        , 0.        , 0.        , 0.        , 0.        ,\n",
       "        0.        , 0.        , 0.        , 0.        , 0.        ,\n",
       "        0.        , 0.        , 0.        ],\n",
       "       [0.        , 0.        , 0.        , 0.        , 0.        ,\n",
       "        0.        , 0.        , 0.        , 0.        , 0.03529412,\n",
       "        0.87058824, 0.93333334, 0.09803922, 0.        , 0.        ,\n",
       "        0.        , 0.        , 0.        , 0.        , 0.        ,\n",
       "        0.        , 0.        , 0.        , 0.        , 0.        ,\n",
       "        0.        , 0.        , 0.        ],\n",
       "       [0.        , 0.        , 0.        , 0.        , 0.        ,\n",
       "        0.        , 0.        , 0.        , 0.        , 0.14901961,\n",
       "        0.9764706 , 0.6862745 , 0.02745098, 0.        , 0.        ,\n",
       "        0.        , 0.        , 0.        , 0.        , 0.        ,\n",
       "        0.        , 0.        , 0.        , 0.        , 0.        ,\n",
       "        0.        , 0.        , 0.        ],\n",
       "       [0.        , 0.        , 0.        , 0.        , 0.        ,\n",
       "        0.        , 0.        , 0.        , 0.        , 0.49803922,\n",
       "        0.98039216, 0.2784314 , 0.09803922, 0.14901961, 0.27058825,\n",
       "        0.14901961, 0.02745098, 0.        , 0.        , 0.        ,\n",
       "        0.        , 0.        , 0.        , 0.        , 0.        ,\n",
       "        0.        , 0.        , 0.        ],\n",
       "       [0.        , 0.        , 0.        , 0.        , 0.        ,\n",
       "        0.        , 0.00784314, 0.03529412, 0.20392157, 0.9098039 ,\n",
       "        1.        , 0.9372549 , 0.92941177, 0.9764706 , 0.9764706 ,\n",
       "        0.9607843 , 0.43529412, 0.        , 0.        , 0.        ,\n",
       "        0.        , 0.        , 0.        , 0.        , 0.        ,\n",
       "        0.        , 0.        , 0.        ],\n",
       "       [0.        , 0.        , 0.        , 0.        , 0.        ,\n",
       "        0.06666667, 0.6039216 , 0.85490197, 0.972549  , 0.99607843,\n",
       "        0.9882353 , 0.5686275 , 0.49803922, 0.49019608, 0.32156864,\n",
       "        0.14509805, 0.07058824, 0.        , 0.        , 0.        ,\n",
       "        0.        , 0.        , 0.        , 0.        , 0.        ,\n",
       "        0.        , 0.        , 0.        ],\n",
       "       [0.        , 0.        , 0.        , 0.        , 0.        ,\n",
       "        0.01568628, 0.14117648, 0.23921569, 0.44313726, 0.98039216,\n",
       "        0.5176471 , 0.02745098, 0.        , 0.        , 0.        ,\n",
       "        0.        , 0.        , 0.        , 0.        , 0.        ,\n",
       "        0.        , 0.        , 0.        , 0.        , 0.        ,\n",
       "        0.        , 0.        , 0.        ],\n",
       "       [0.        , 0.        , 0.        , 0.        , 0.        ,\n",
       "        0.        , 0.        , 0.        , 0.2       , 0.9647059 ,\n",
       "        0.14509805, 0.        , 0.        , 0.        , 0.        ,\n",
       "        0.        , 0.        , 0.        , 0.        , 0.        ,\n",
       "        0.        , 0.        , 0.        , 0.        , 0.        ,\n",
       "        0.        , 0.        , 0.        ],\n",
       "       [0.        , 0.        , 0.        , 0.        , 0.        ,\n",
       "        0.        , 0.        , 0.00784314, 0.6666667 , 0.9137255 ,\n",
       "        0.08235294, 0.        , 0.        , 0.        , 0.        ,\n",
       "        0.        , 0.        , 0.        , 0.        , 0.        ,\n",
       "        0.        , 0.        , 0.        , 0.        , 0.        ,\n",
       "        0.        , 0.        , 0.        ],\n",
       "       [0.        , 0.        , 0.        , 0.        , 0.        ,\n",
       "        0.        , 0.        , 0.01568628, 0.8509804 , 0.6745098 ,\n",
       "        0.00784314, 0.        , 0.        , 0.        , 0.        ,\n",
       "        0.        , 0.        , 0.        , 0.        , 0.        ,\n",
       "        0.        , 0.        , 0.        , 0.        , 0.        ,\n",
       "        0.        , 0.        , 0.        ],\n",
       "       [0.        , 0.        , 0.        , 0.        , 0.        ,\n",
       "        0.        , 0.        , 0.01568628, 0.8509804 , 0.49803922,\n",
       "        0.        , 0.        , 0.        , 0.        , 0.        ,\n",
       "        0.        , 0.        , 0.        , 0.        , 0.        ,\n",
       "        0.        , 0.        , 0.        , 0.        , 0.        ,\n",
       "        0.        , 0.        , 0.        ],\n",
       "       [0.        , 0.        , 0.        , 0.        , 0.        ,\n",
       "        0.        , 0.        , 0.01568628, 0.84313726, 0.37254903,\n",
       "        0.        , 0.        , 0.        , 0.        , 0.        ,\n",
       "        0.        , 0.        , 0.        , 0.        , 0.        ,\n",
       "        0.        , 0.        , 0.        , 0.        , 0.        ,\n",
       "        0.        , 0.        , 0.        ],\n",
       "       [0.        , 0.        , 0.        , 0.        , 0.        ,\n",
       "        0.        , 0.        , 0.01568628, 0.84705883, 0.4392157 ,\n",
       "        0.        , 0.        , 0.        , 0.        , 0.        ,\n",
       "        0.        , 0.        , 0.        , 0.        , 0.        ,\n",
       "        0.        , 0.        , 0.        , 0.        , 0.        ,\n",
       "        0.        , 0.        , 0.        ],\n",
       "       [0.        , 0.        , 0.        , 0.        , 0.        ,\n",
       "        0.        , 0.        , 0.01568628, 0.8392157 , 0.32156864,\n",
       "        0.        , 0.        , 0.        , 0.        , 0.        ,\n",
       "        0.        , 0.        , 0.        , 0.        , 0.        ,\n",
       "        0.        , 0.        , 0.        , 0.        , 0.        ,\n",
       "        0.        , 0.        , 0.        ],\n",
       "       [0.        , 0.        , 0.        , 0.        , 0.        ,\n",
       "        0.        , 0.        , 0.01568628, 0.8039216 , 0.1764706 ,\n",
       "        0.        , 0.        , 0.        , 0.        , 0.        ,\n",
       "        0.        , 0.        , 0.        , 0.        , 0.        ,\n",
       "        0.        , 0.        , 0.        , 0.        , 0.        ,\n",
       "        0.        , 0.        , 0.        ],\n",
       "       [0.        , 0.        , 0.        , 0.        , 0.        ,\n",
       "        0.        , 0.        , 0.        , 0.10588235, 0.00392157,\n",
       "        0.        , 0.        , 0.        , 0.        , 0.        ,\n",
       "        0.        , 0.        , 0.        , 0.        , 0.        ,\n",
       "        0.        , 0.        , 0.        , 0.        , 0.        ,\n",
       "        0.        , 0.        , 0.        ],\n",
       "       [0.        , 0.        , 0.        , 0.        , 0.        ,\n",
       "        0.        , 0.        , 0.        , 0.        , 0.        ,\n",
       "        0.        , 0.        , 0.        , 0.        , 0.        ,\n",
       "        0.        , 0.        , 0.        , 0.        , 0.        ,\n",
       "        0.        , 0.        , 0.        , 0.        , 0.        ,\n",
       "        0.        , 0.        , 0.        ]], dtype=float32)"
      ]
     },
     "execution_count": 17,
     "metadata": {},
     "output_type": "execute_result"
    }
   ],
   "source": [
    "#Data Scaling to bring the input values between 0 to 1\n",
    "x_train = x_train.astype('float32') / 255\n",
    "x_train[0]"
   ]
  },
  {
   "cell_type": "markdown",
   "id": "50121c25",
   "metadata": {
    "id": "50121c25",
    "papermill": {
     "duration": 0.015572,
     "end_time": "2022-11-10T17:09:37.492397",
     "exception": false,
     "start_time": "2022-11-10T17:09:37.476825",
     "status": "completed"
    },
    "tags": []
   },
   "source": [
    "### One Hot Encoding of the Output Labels\n",
    "\n",
    "As the output values are integers, from 0 to 35, we must perform one hot encoding so as to get a number of output columns comprised of 0 and 1 class labels."
   ]
  },
  {
   "cell_type": "code",
   "execution_count": 18,
   "id": "4ce76622",
   "metadata": {
    "colab": {
     "base_uri": "https://localhost:8080/"
    },
    "execution": {
     "iopub.execute_input": "2022-11-10T17:09:37.526931Z",
     "iopub.status.busy": "2022-11-10T17:09:37.525870Z",
     "iopub.status.idle": "2022-11-10T17:09:37.534029Z",
     "shell.execute_reply": "2022-11-10T17:09:37.532911Z"
    },
    "id": "4ce76622",
    "outputId": "35f05ad1-f187-4563-bae7-38bbe37976c6",
    "papermill": {
     "duration": 0.027977,
     "end_time": "2022-11-10T17:09:37.536361",
     "exception": false,
     "start_time": "2022-11-10T17:09:37.508384",
     "status": "completed"
    },
    "tags": []
   },
   "outputs": [
    {
     "data": {
      "text/plain": [
       "36"
      ]
     },
     "execution_count": 18,
     "metadata": {},
     "output_type": "execute_result"
    }
   ],
   "source": [
    "#Finding the number of output columns\n",
    "number_of_classes = y_train.nunique()\n",
    "number_of_classes"
   ]
  },
  {
   "cell_type": "code",
   "execution_count": 19,
   "id": "7d67af56",
   "metadata": {
    "colab": {
     "base_uri": "https://localhost:8080/"
    },
    "execution": {
     "iopub.execute_input": "2022-11-10T17:09:37.569626Z",
     "iopub.status.busy": "2022-11-10T17:09:37.569186Z",
     "iopub.status.idle": "2022-11-10T17:09:37.580139Z",
     "shell.execute_reply": "2022-11-10T17:09:37.578939Z"
    },
    "id": "7d67af56",
    "outputId": "7fc3ced8-a9f8-4760-b366-2257ea853869",
    "papermill": {
     "duration": 0.030388,
     "end_time": "2022-11-10T17:09:37.582581",
     "exception": false,
     "start_time": "2022-11-10T17:09:37.552193",
     "status": "completed"
    },
    "tags": []
   },
   "outputs": [
    {
     "data": {
      "text/plain": [
       "(86400, 36)"
      ]
     },
     "execution_count": 19,
     "metadata": {},
     "output_type": "execute_result"
    }
   ],
   "source": [
    "#One hot encoding of numpy array\n",
    "y_train = np_utils.to_categorical(y_train, number_of_classes)\n",
    "y_train.shape"
   ]
  },
  {
   "cell_type": "markdown",
   "id": "9ff1e3cb",
   "metadata": {
    "id": "9ff1e3cb",
    "papermill": {
     "duration": 0.015047,
     "end_time": "2022-11-10T17:09:37.612848",
     "exception": false,
     "start_time": "2022-11-10T17:09:37.597801",
     "status": "completed"
    },
    "tags": []
   },
   "source": [
    "### Reshaping the train data\n",
    "\n",
    "As tensorflow requires 4D Array, (batch X width X height X channel) and our x_train is 3D array (no. of images X width X height), we will be adding one more dimension to the x_train"
   ]
  },
  {
   "cell_type": "code",
   "execution_count": 20,
   "id": "353af79c",
   "metadata": {
    "colab": {
     "base_uri": "https://localhost:8080/"
    },
    "execution": {
     "iopub.execute_input": "2022-11-10T17:09:37.645115Z",
     "iopub.status.busy": "2022-11-10T17:09:37.644718Z",
     "iopub.status.idle": "2022-11-10T17:09:37.652417Z",
     "shell.execute_reply": "2022-11-10T17:09:37.651275Z"
    },
    "id": "353af79c",
    "outputId": "c3336051-5507-4628-8ddc-0ded8a4a7cb4",
    "papermill": {
     "duration": 0.027802,
     "end_time": "2022-11-10T17:09:37.655884",
     "exception": false,
     "start_time": "2022-11-10T17:09:37.628082",
     "status": "completed"
    },
    "tags": []
   },
   "outputs": [
    {
     "data": {
      "text/plain": [
       "(86400, 28, 28)"
      ]
     },
     "execution_count": 20,
     "metadata": {},
     "output_type": "execute_result"
    }
   ],
   "source": [
    "x_train.shape"
   ]
  },
  {
   "cell_type": "code",
   "execution_count": 21,
   "id": "2b3784c5",
   "metadata": {
    "colab": {
     "base_uri": "https://localhost:8080/"
    },
    "execution": {
     "iopub.execute_input": "2022-11-10T17:09:37.690005Z",
     "iopub.status.busy": "2022-11-10T17:09:37.688774Z",
     "iopub.status.idle": "2022-11-10T17:09:37.696687Z",
     "shell.execute_reply": "2022-11-10T17:09:37.695547Z"
    },
    "id": "2b3784c5",
    "outputId": "fec43133-9214-416e-c8d5-51115adc5ade",
    "papermill": {
     "duration": 0.027696,
     "end_time": "2022-11-10T17:09:37.699109",
     "exception": false,
     "start_time": "2022-11-10T17:09:37.671413",
     "status": "completed"
    },
    "tags": []
   },
   "outputs": [
    {
     "data": {
      "text/plain": [
       "(86400, 28, 28, 1)"
      ]
     },
     "execution_count": 21,
     "metadata": {},
     "output_type": "execute_result"
    }
   ],
   "source": [
    "x_train = x_train.reshape(-1, W, H, 1)\n",
    "x_train.shape"
   ]
  },
  {
   "cell_type": "markdown",
   "id": "dfb85b45",
   "metadata": {
    "id": "dfb85b45",
    "papermill": {
     "duration": 0.015355,
     "end_time": "2022-11-10T17:09:37.730258",
     "exception": false,
     "start_time": "2022-11-10T17:09:37.714903",
     "status": "completed"
    },
    "tags": []
   },
   "source": [
    "### Train and Validation Split\n",
    "\n",
    "We will be dividing the input dataset into train and validation in the ratio of 90:10 for Model Building"
   ]
  },
  {
   "cell_type": "code",
   "execution_count": 22,
   "id": "1e69ae1e",
   "metadata": {
    "execution": {
     "iopub.execute_input": "2022-11-10T17:09:37.762971Z",
     "iopub.status.busy": "2022-11-10T17:09:37.761999Z",
     "iopub.status.idle": "2022-11-10T17:09:37.876078Z",
     "shell.execute_reply": "2022-11-10T17:09:37.875085Z"
    },
    "id": "1e69ae1e",
    "papermill": {
     "duration": 0.133132,
     "end_time": "2022-11-10T17:09:37.878653",
     "exception": false,
     "start_time": "2022-11-10T17:09:37.745521",
     "status": "completed"
    },
    "tags": []
   },
   "outputs": [],
   "source": [
    "# Split 10% validation \n",
    "x_train, x_val, y_train, y_val = train_test_split(x_train, \n",
    "                                                  y_train, \n",
    "                                                  test_size= 0.1, \n",
    "                                                  random_state=88)"
   ]
  },
  {
   "cell_type": "markdown",
   "id": "493e8cca",
   "metadata": {
    "id": "493e8cca",
    "papermill": {
     "duration": 0.0145,
     "end_time": "2022-11-10T17:09:37.908459",
     "exception": false,
     "start_time": "2022-11-10T17:09:37.893959",
     "status": "completed"
    },
    "tags": []
   },
   "source": [
    "### Model Building"
   ]
  },
  {
   "cell_type": "code",
   "execution_count": 23,
   "id": "4985b124",
   "metadata": {
    "colab": {
     "base_uri": "https://localhost:8080/"
    },
    "execution": {
     "iopub.execute_input": "2022-11-10T17:09:37.940722Z",
     "iopub.status.busy": "2022-11-10T17:09:37.940300Z",
     "iopub.status.idle": "2022-11-10T17:09:40.849218Z",
     "shell.execute_reply": "2022-11-10T17:09:40.847163Z"
    },
    "id": "4985b124",
    "outputId": "de7d72e6-ade4-4f6a-8f82-f423fa50808e",
    "papermill": {
     "duration": 2.928856,
     "end_time": "2022-11-10T17:09:40.852511",
     "exception": false,
     "start_time": "2022-11-10T17:09:37.923655",
     "status": "completed"
    },
    "tags": []
   },
   "outputs": [
    {
     "name": "stdout",
     "output_type": "stream",
     "text": [
      "Model: \"sequential\"\n",
      "_________________________________________________________________\n",
      " Layer (type)                Output Shape              Param #   \n",
      "=================================================================\n",
      " conv2d (Conv2D)             (None, 28, 28, 32)        832       \n",
      "                                                                 \n",
      " max_pooling2d (MaxPooling2D  (None, 14, 14, 32)       0         \n",
      " )                                                               \n",
      "                                                                 \n",
      " conv2d_1 (Conv2D)           (None, 10, 10, 48)        38448     \n",
      "                                                                 \n",
      " max_pooling2d_1 (MaxPooling  (None, 5, 5, 48)         0         \n",
      " 2D)                                                             \n",
      "                                                                 \n",
      " flatten (Flatten)           (None, 1200)              0         \n",
      "                                                                 \n",
      " dense (Dense)               (None, 256)               307456    \n",
      "                                                                 \n",
      " dense_1 (Dense)             (None, 84)                21588     \n",
      "                                                                 \n",
      " dense_2 (Dense)             (None, 36)                3060      \n",
      "                                                                 \n",
      "=================================================================\n",
      "Total params: 371,384\n",
      "Trainable params: 371,384\n",
      "Non-trainable params: 0\n",
      "_________________________________________________________________\n"
     ]
    }
   ],
   "source": [
    "model = Sequential()\n",
    "\n",
    "model.add(layers.Conv2D(filters=32, kernel_size=(5,5), padding='same', activation='relu', input_shape=(W, H, 1)))\n",
    "model.add(layers.MaxPool2D(strides=2))\n",
    "model.add(layers.Conv2D(filters=48, kernel_size=(5,5), padding='valid', activation='relu'))\n",
    "model.add(layers.MaxPool2D(strides=2))\n",
    "model.add(layers.Flatten())\n",
    "model.add(layers.Dense(256, activation='relu'))\n",
    "model.add(layers.Dense(84, activation='relu'))\n",
    "model.add(layers.Dense(number_of_classes, activation='softmax'))\n",
    "\n",
    "model.summary()"
   ]
  },
  {
   "cell_type": "code",
   "execution_count": 24,
   "id": "2d782a58",
   "metadata": {
    "execution": {
     "iopub.execute_input": "2022-11-10T17:09:40.886724Z",
     "iopub.status.busy": "2022-11-10T17:09:40.885887Z",
     "iopub.status.idle": "2022-11-10T17:09:40.899640Z",
     "shell.execute_reply": "2022-11-10T17:09:40.898587Z"
    },
    "id": "2d782a58",
    "papermill": {
     "duration": 0.032589,
     "end_time": "2022-11-10T17:09:40.901857",
     "exception": false,
     "start_time": "2022-11-10T17:09:40.869268",
     "status": "completed"
    },
    "tags": []
   },
   "outputs": [],
   "source": [
    "# Optimizing Algorithm for Backpropagation\n",
    "\n",
    "optimizer_name = 'adam'\n",
    "\n",
    "model.compile(loss='categorical_crossentropy', optimizer=optimizer_name, metrics=['accuracy'])\n",
    "\n",
    "early_stopping = EarlyStopping(monitor='val_loss', patience=5, verbose=1, mode='min')\n",
    "mcp_save = ModelCheckpoint('my_model.h5', save_best_only=True, monitor='val_loss', verbose=1, mode='auto')"
   ]
  },
  {
   "cell_type": "code",
   "execution_count": 25,
   "id": "437ef490",
   "metadata": {
    "colab": {
     "base_uri": "https://localhost:8080/"
    },
    "execution": {
     "iopub.execute_input": "2022-11-10T17:09:40.932952Z",
     "iopub.status.busy": "2022-11-10T17:09:40.932139Z",
     "iopub.status.idle": "2022-11-10T17:11:01.202203Z",
     "shell.execute_reply": "2022-11-10T17:11:01.199899Z"
    },
    "id": "437ef490",
    "outputId": "09dd6f39-4a93-428d-c787-2757e3e9b84b",
    "papermill": {
     "duration": 80.292844,
     "end_time": "2022-11-10T17:11:01.209654",
     "exception": false,
     "start_time": "2022-11-10T17:09:40.916810",
     "status": "completed"
    },
    "tags": []
   },
   "outputs": [
    {
     "name": "stdout",
     "output_type": "stream",
     "text": [
      "Epoch 1/30\n",
      "2187/2187 [==============================] - ETA: 0s - loss: 0.5501 - accuracy: 0.8180\n",
      "Epoch 1: val_loss improved from inf to 0.33751, saving model to my_model.h5\n",
      "2187/2187 [==============================] - 94s 42ms/step - loss: 0.5501 - accuracy: 0.8180 - val_loss: 0.3375 - val_accuracy: 0.8744\n",
      "Epoch 2/30\n",
      "2187/2187 [==============================] - ETA: 0s - loss: 0.2810 - accuracy: 0.8951\n",
      "Epoch 2: val_loss improved from 0.33751 to 0.28880, saving model to my_model.h5\n",
      "2187/2187 [==============================] - 84s 39ms/step - loss: 0.2810 - accuracy: 0.8951 - val_loss: 0.2888 - val_accuracy: 0.8909\n",
      "Epoch 3/30\n",
      "2186/2187 [============================>.] - ETA: 0s - loss: 0.2387 - accuracy: 0.9077\n",
      "Epoch 3: val_loss improved from 0.28880 to 0.27121, saving model to my_model.h5\n",
      "2187/2187 [==============================] - 87s 40ms/step - loss: 0.2387 - accuracy: 0.9077 - val_loss: 0.2712 - val_accuracy: 0.8979\n",
      "Epoch 4/30\n",
      "2186/2187 [============================>.] - ETA: 0s - loss: 0.2086 - accuracy: 0.9170\n",
      "Epoch 4: val_loss did not improve from 0.27121\n",
      "2187/2187 [==============================] - 87s 40ms/step - loss: 0.2087 - accuracy: 0.9169 - val_loss: 0.2731 - val_accuracy: 0.8999\n",
      "Epoch 5/30\n",
      "2187/2187 [==============================] - ETA: 0s - loss: 0.1865 - accuracy: 0.9243\n",
      "Epoch 5: val_loss did not improve from 0.27121\n",
      "2187/2187 [==============================] - 92s 42ms/step - loss: 0.1865 - accuracy: 0.9243 - val_loss: 0.2762 - val_accuracy: 0.9074\n",
      "Epoch 6/30\n",
      "2187/2187 [==============================] - ETA: 0s - loss: 0.1712 - accuracy: 0.9287\n",
      "Epoch 6: val_loss did not improve from 0.27121\n",
      "2187/2187 [==============================] - 83s 38ms/step - loss: 0.1712 - accuracy: 0.9287 - val_loss: 0.2781 - val_accuracy: 0.9029\n",
      "Epoch 7/30\n",
      "2187/2187 [==============================] - ETA: 0s - loss: 0.1578 - accuracy: 0.9330\n",
      "Epoch 7: val_loss did not improve from 0.27121\n",
      "2187/2187 [==============================] - 86s 39ms/step - loss: 0.1578 - accuracy: 0.9330 - val_loss: 0.2930 - val_accuracy: 0.9032\n",
      "Epoch 8/30\n",
      "2187/2187 [==============================] - ETA: 0s - loss: 0.1469 - accuracy: 0.9375\n",
      "Epoch 8: val_loss did not improve from 0.27121\n",
      "2187/2187 [==============================] - 86s 39ms/step - loss: 0.1469 - accuracy: 0.9375 - val_loss: 0.3011 - val_accuracy: 0.9012\n",
      "Epoch 8: early stopping\n"
     ]
    }
   ],
   "source": [
    "#Model Fitting\n",
    "\n",
    "history = model.fit(x_train,\n",
    "                    y_train, \n",
    "                    epochs=30, \n",
    "                    batch_size=32, \n",
    "                    verbose=1, \n",
    "                    validation_split=0.1,\n",
    "                    callbacks=[early_stopping, mcp_save])"
   ]
  },
  {
   "cell_type": "markdown",
   "id": "9c7a0235",
   "metadata": {
    "id": "9c7a0235",
    "papermill": {
     "duration": 0.115753,
     "end_time": "2022-11-10T17:11:01.433178",
     "exception": false,
     "start_time": "2022-11-10T17:11:01.317425",
     "status": "completed"
    },
    "tags": []
   },
   "source": [
    "### Plotting Accuracy and Loss"
   ]
  },
  {
   "cell_type": "code",
   "execution_count": 28,
   "id": "4c425afe",
   "metadata": {
    "execution": {
     "iopub.execute_input": "2022-11-10T17:11:01.608193Z",
     "iopub.status.busy": "2022-11-10T17:11:01.607825Z",
     "iopub.status.idle": "2022-11-10T17:11:01.616825Z",
     "shell.execute_reply": "2022-11-10T17:11:01.615916Z"
    },
    "id": "4c425afe",
    "papermill": {
     "duration": 0.099399,
     "end_time": "2022-11-10T17:11:01.618943",
     "exception": false,
     "start_time": "2022-11-10T17:11:01.519544",
     "status": "completed"
    },
    "tags": []
   },
   "outputs": [],
   "source": [
    "def plotgraph(epochs, acc, val_acc):\n",
    "    # Plot training & validation accuracy values\n",
    "    plt.plot(epochs, acc, 'b')\n",
    "    plt.plot(epochs, val_acc, 'r')\n",
    "    plt.title('Model accuracy')\n",
    "    plt.ylabel('Accuracy')\n",
    "    plt.xlabel('Epoch')\n",
    "    plt.legend(['Train', 'Val'], loc='upper left')\n",
    "    plt.show()\n",
    "    \n",
    "acc = history.history['accuracy']\n",
    "val_acc = history.history['val_accuracy']\n",
    "loss = history.history['loss']\n",
    "val_loss = history.history['val_loss']\n",
    "epochs = range(1,len(acc)+1)"
   ]
  },
  {
   "cell_type": "code",
   "execution_count": 29,
   "id": "d1c2579d",
   "metadata": {
    "colab": {
     "base_uri": "https://localhost:8080/",
     "height": 295
    },
    "execution": {
     "iopub.execute_input": "2022-11-10T17:11:01.795435Z",
     "iopub.status.busy": "2022-11-10T17:11:01.794785Z",
     "iopub.status.idle": "2022-11-10T17:11:04.290437Z",
     "shell.execute_reply": "2022-11-10T17:11:04.289480Z"
    },
    "id": "d1c2579d",
    "outputId": "cba2f527-15ea-4dc7-daa9-4f987891998e",
    "papermill": {
     "duration": 2.585934,
     "end_time": "2022-11-10T17:11:04.292659",
     "exception": false,
     "start_time": "2022-11-10T17:11:01.706725",
     "status": "completed"
    },
    "tags": []
   },
   "outputs": [
    {
     "data": {
      "image/png": "[encoded data removed]",
      "text/plain": [
       "<Figure size 432x288 with 1 Axes>"
      ]
     },
     "metadata": {
      "needs_background": "light"
     },
     "output_type": "display_data"
    }
   ],
   "source": [
    "# Accuracy curve\n",
    "plotgraph(epochs, acc, val_acc)"
   ]
  },
  {
   "cell_type": "code",
   "execution_count": 30,
   "id": "46496718",
   "metadata": {
    "colab": {
     "base_uri": "https://localhost:8080/",
     "height": 313
    },
    "execution": {
     "iopub.execute_input": "2022-11-10T17:11:04.472118Z",
     "iopub.status.busy": "2022-11-10T17:11:04.471646Z",
     "iopub.status.idle": "2022-11-10T17:11:04.698970Z",
     "shell.execute_reply": "2022-11-10T17:11:04.698000Z"
    },
    "id": "46496718",
    "outputId": "e9820f58-509f-44c5-a058-2d703ef2005a",
    "papermill": {
     "duration": 0.320076,
     "end_time": "2022-11-10T17:11:04.701290",
     "exception": false,
     "start_time": "2022-11-10T17:11:04.381214",
     "status": "completed"
    },
    "tags": []
   },
   "outputs": [
    {
     "name": "stdout",
     "output_type": "stream",
     "text": [
      "Loss Curve\n"
     ]
    },
    {
     "data": {
      "image/png": "[encoded data removed]",
      "text/plain": [
       "<Figure size 432x288 with 1 Axes>"
      ]
     },
     "metadata": {
      "needs_background": "light"
     },
     "output_type": "display_data"
    }
   ],
   "source": [
    "# loss curve\n",
    "print('Loss Curve')\n",
    "plotgraph(epochs, loss, val_loss)\n"
   ]
  },
  {
   "cell_type": "code",
   "execution_count": 31,
   "id": "87e915fa",
   "metadata": {
    "execution": {
     "iopub.execute_input": "2022-11-10T17:11:04.880364Z",
     "iopub.status.busy": "2022-11-10T17:11:04.879984Z",
     "iopub.status.idle": "2022-11-10T17:11:04.999876Z",
     "shell.execute_reply": "2022-11-10T17:11:04.998788Z"
    },
    "id": "87e915fa",
    "papermill": {
     "duration": 0.210257,
     "end_time": "2022-11-10T17:11:05.002870",
     "exception": false,
     "start_time": "2022-11-10T17:11:04.792613",
     "status": "completed"
    },
    "tags": []
   },
   "outputs": [],
   "source": [
    "# Load best model\n",
    "# model = load_model('/kaggle/working/my_model.h5')\n",
    "# model.summary()"
   ]
  },
  {
   "cell_type": "markdown",
   "id": "3625d4cd",
   "metadata": {
    "id": "3625d4cd",
    "papermill": {
     "duration": 0.139926,
     "end_time": "2022-11-10T17:11:05.229153",
     "exception": false,
     "start_time": "2022-11-10T17:11:05.089227",
     "status": "completed"
    },
    "tags": []
   },
   "source": [
    "### Prediction on the Validation Data"
   ]
  },
  {
   "cell_type": "code",
   "execution_count": 32,
   "id": "14de6038",
   "metadata": {
    "colab": {
     "base_uri": "https://localhost:8080/"
    },
    "execution": {
     "iopub.execute_input": "2022-11-10T17:11:05.402425Z",
     "iopub.status.busy": "2022-11-10T17:11:05.401308Z",
     "iopub.status.idle": "2022-11-10T17:11:05.857567Z",
     "shell.execute_reply": "2022-11-10T17:11:05.856522Z"
    },
    "id": "14de6038",
    "outputId": "faeb541f-4378-47a8-e163-ba58ce8a2b22",
    "papermill": {
     "duration": 0.54624,
     "end_time": "2022-11-10T17:11:05.859630",
     "exception": false,
     "start_time": "2022-11-10T17:11:05.313390",
     "status": "completed"
    },
    "tags": []
   },
   "outputs": [
    {
     "name": "stdout",
     "output_type": "stream",
     "text": [
      "270/270 [==============================] - 3s 10ms/step\n"
     ]
    },
    {
     "data": {
      "text/plain": [
       "(8640, 36)"
      ]
     },
     "execution_count": 32,
     "metadata": {},
     "output_type": "execute_result"
    }
   ],
   "source": [
    "# Storing all the predicted values in y_pred variable\n",
    "y_pred = model.predict(x_val)\n",
    "# Finding shape\n",
    "y_pred.shape"
   ]
  },
  {
   "cell_type": "markdown",
   "id": "5b944e65",
   "metadata": {
    "id": "5b944e65",
    "papermill": {
     "duration": 0.08415,
     "end_time": "2022-11-10T17:11:06.027445",
     "exception": false,
     "start_time": "2022-11-10T17:11:05.943295",
     "status": "completed"
    },
    "tags": []
   },
   "source": [
    "### Visualizing some predicted values"
   ]
  },
  {
   "cell_type": "code",
   "execution_count": 33,
   "id": "3c8d820d",
   "metadata": {
    "colab": {
     "base_uri": "https://localhost:8080/",
     "height": 504
    },
    "execution": {
     "iopub.execute_input": "2022-11-10T17:11:06.201927Z",
     "iopub.status.busy": "2022-11-10T17:11:06.201568Z",
     "iopub.status.idle": "2022-11-10T17:11:07.733467Z",
     "shell.execute_reply": "2022-11-10T17:11:07.732437Z"
    },
    "id": "3c8d820d",
    "outputId": "fa35ca40-ff3f-4bfc-94f6-d3ec343182ff",
    "papermill": {
     "duration": 1.62292,
     "end_time": "2022-11-10T17:11:07.736059",
     "exception": false,
     "start_time": "2022-11-10T17:11:06.113139",
     "status": "completed"
    },
    "tags": []
   },
   "outputs": [
    {
     "data": {
      "image/png": "[encoded data removed]",
      "text/plain": [
       "<Figure size 800x640 with 18 Axes>"
      ]
     },
     "metadata": {
      "needs_background": "light"
     },
     "output_type": "display_data"
    }
   ],
   "source": [
    "plt.figure(figsize=(10, 8), dpi=80)\n",
    "for i in range(200, 218):\n",
    "    plt.subplot(3,6,i-199)\n",
    "    plt.imshow(x_val[i], cmap=plt.cm.gray)\n",
    "    plt.title(label_dictionary[y_pred[i].argmax()])"
   ]
  },
  {
   "cell_type": "markdown",
   "id": "38f83612",
   "metadata": {
    "id": "38f83612",
    "papermill": {
     "duration": 0.085863,
     "end_time": "2022-11-10T17:11:07.908877",
     "exception": false,
     "start_time": "2022-11-10T17:11:07.823014",
     "status": "completed"
    },
    "tags": []
   },
   "source": [
    "### Validation Accuracy"
   ]
  },
  {
   "cell_type": "code",
   "execution_count": 34,
   "id": "c4bbdce6",
   "metadata": {
    "colab": {
     "base_uri": "https://localhost:8080/"
    },
    "execution": {
     "iopub.execute_input": "2022-11-10T17:11:08.083284Z",
     "iopub.status.busy": "2022-11-10T17:11:08.082245Z",
     "iopub.status.idle": "2022-11-10T17:11:09.086352Z",
     "shell.execute_reply": "2022-11-10T17:11:09.085187Z"
    },
    "id": "c4bbdce6",
    "outputId": "84a4ec66-637a-4083-a443-2ba66346bcaf",
    "papermill": {
     "duration": 1.094698,
     "end_time": "2022-11-10T17:11:09.089163",
     "exception": false,
     "start_time": "2022-11-10T17:11:07.994465",
     "status": "completed"
    },
    "tags": []
   },
   "outputs": [
    {
     "name": "stdout",
     "output_type": "stream",
     "text": [
      "270/270 [==============================] - 3s 11ms/step - loss: 0.2754 - accuracy: 0.9102\n",
      "Loss value is  0.2753988802433014\n",
      "Accuracy value is  0.9101851582527161\n"
     ]
    }
   ],
   "source": [
    "val_acc = model.evaluate(x_val, y_val)\n",
    "print('Loss value is ',val_acc[0])\n",
    "print('Accuracy value is ',val_acc[1])"
   ]
  },
  {
   "cell_type": "markdown",
   "id": "64104887",
   "metadata": {
    "id": "64104887",
    "papermill": {
     "duration": 0.133655,
     "end_time": "2022-11-10T17:11:09.357490",
     "exception": false,
     "start_time": "2022-11-10T17:11:09.223835",
     "status": "completed"
    },
    "tags": []
   },
   "source": [
    "### Predicting the test data that came along with the dataset"
   ]
  },
  {
   "cell_type": "code",
   "execution_count": 37,
   "id": "609094d3",
   "metadata": {
    "colab": {
     "base_uri": "https://localhost:8080/"
    },
    "execution": {
     "iopub.execute_input": "2022-11-10T17:11:09.635122Z",
     "iopub.status.busy": "2022-11-10T17:11:09.634577Z",
     "iopub.status.idle": "2022-11-10T17:11:11.331461Z",
     "shell.execute_reply": "2022-11-10T17:11:11.329807Z"
    },
    "id": "609094d3",
    "outputId": "ec804a09-5902-4b82-e9fe-0431126baeaf",
    "papermill": {
     "duration": 1.842139,
     "end_time": "2022-11-10T17:11:11.335020",
     "exception": false,
     "start_time": "2022-11-10T17:11:09.492881",
     "status": "completed"
    },
    "tags": []
   },
   "outputs": [
    {
     "data": {
      "text/plain": [
       "(18800, 785)"
      ]
     },
     "execution_count": 37,
     "metadata": {},
     "output_type": "execute_result"
    }
   ],
   "source": [
    "#Loading the dataset\n",
    "test_df = pd.read_csv('emnist-balanced-test.csv', header=None)\n",
    "test_df.shape"
   ]
  },
  {
   "cell_type": "code",
   "execution_count": 38,
   "id": "c887740f",
   "metadata": {
    "colab": {
     "base_uri": "https://localhost:8080/",
     "height": 393
    },
    "execution": {
     "iopub.execute_input": "2022-11-10T17:11:11.516605Z",
     "iopub.status.busy": "2022-11-10T17:11:11.516224Z",
     "iopub.status.idle": "2022-11-10T17:11:13.405607Z",
     "shell.execute_reply": "2022-11-10T17:11:13.404401Z"
    },
    "id": "c887740f",
    "outputId": "906c9249-481f-4a5d-f862-1c84296da6b9",
    "papermill": {
     "duration": 1.983102,
     "end_time": "2022-11-10T17:11:13.408053",
     "exception": false,
     "start_time": "2022-11-10T17:11:11.424951",
     "status": "completed"
    },
    "tags": []
   },
   "outputs": [
    {
     "data": {
      "text/html": [
       "<div>\n",
       "<style scoped>\n",
       "    .dataframe tbody tr th:only-of-type {\n",
       "        vertical-align: middle;\n",
       "    }\n",
       "\n",
       "    .dataframe tbody tr th {\n",
       "        vertical-align: top;\n",
       "    }\n",
       "\n",
       "    .dataframe thead th {\n",
       "        text-align: right;\n",
       "    }\n",
       "</style>\n",
       "<table border=\"1\" class=\"dataframe\">\n",
       "  <thead>\n",
       "    <tr style=\"text-align: right;\">\n",
       "      <th></th>\n",
       "      <th>0</th>\n",
       "      <th>1</th>\n",
       "      <th>2</th>\n",
       "      <th>3</th>\n",
       "      <th>4</th>\n",
       "      <th>5</th>\n",
       "      <th>6</th>\n",
       "      <th>7</th>\n",
       "      <th>8</th>\n",
       "      <th>9</th>\n",
       "      <th>...</th>\n",
       "      <th>775</th>\n",
       "      <th>776</th>\n",
       "      <th>777</th>\n",
       "      <th>778</th>\n",
       "      <th>779</th>\n",
       "      <th>780</th>\n",
       "      <th>781</th>\n",
       "      <th>782</th>\n",
       "      <th>783</th>\n",
       "      <th>784</th>\n",
       "    </tr>\n",
       "  </thead>\n",
       "  <tbody>\n",
       "    <tr>\n",
       "      <th>count</th>\n",
       "      <td>14400.000000</td>\n",
       "      <td>14400.0</td>\n",
       "      <td>14400.0</td>\n",
       "      <td>14400.0</td>\n",
       "      <td>14400.0</td>\n",
       "      <td>14400.000000</td>\n",
       "      <td>14400.000000</td>\n",
       "      <td>14400.000000</td>\n",
       "      <td>14400.000000</td>\n",
       "      <td>14400.000000</td>\n",
       "      <td>...</td>\n",
       "      <td>14400.0</td>\n",
       "      <td>14400.0</td>\n",
       "      <td>14400.0</td>\n",
       "      <td>14400.0</td>\n",
       "      <td>14400.0</td>\n",
       "      <td>14400.0</td>\n",
       "      <td>14400.0</td>\n",
       "      <td>14400.0</td>\n",
       "      <td>14400.0</td>\n",
       "      <td>14400.0</td>\n",
       "    </tr>\n",
       "    <tr>\n",
       "      <th>mean</th>\n",
       "      <td>17.500000</td>\n",
       "      <td>0.0</td>\n",
       "      <td>0.0</td>\n",
       "      <td>0.0</td>\n",
       "      <td>0.0</td>\n",
       "      <td>0.007917</td>\n",
       "      <td>0.025764</td>\n",
       "      <td>0.014722</td>\n",
       "      <td>0.012222</td>\n",
       "      <td>0.014722</td>\n",
       "      <td>...</td>\n",
       "      <td>0.0</td>\n",
       "      <td>0.0</td>\n",
       "      <td>0.0</td>\n",
       "      <td>0.0</td>\n",
       "      <td>0.0</td>\n",
       "      <td>0.0</td>\n",
       "      <td>0.0</td>\n",
       "      <td>0.0</td>\n",
       "      <td>0.0</td>\n",
       "      <td>0.0</td>\n",
       "    </tr>\n",
       "    <tr>\n",
       "      <th>std</th>\n",
       "      <td>10.388655</td>\n",
       "      <td>0.0</td>\n",
       "      <td>0.0</td>\n",
       "      <td>0.0</td>\n",
       "      <td>0.0</td>\n",
       "      <td>0.604236</td>\n",
       "      <td>2.012452</td>\n",
       "      <td>1.204803</td>\n",
       "      <td>1.019562</td>\n",
       "      <td>1.733652</td>\n",
       "      <td>...</td>\n",
       "      <td>0.0</td>\n",
       "      <td>0.0</td>\n",
       "      <td>0.0</td>\n",
       "      <td>0.0</td>\n",
       "      <td>0.0</td>\n",
       "      <td>0.0</td>\n",
       "      <td>0.0</td>\n",
       "      <td>0.0</td>\n",
       "      <td>0.0</td>\n",
       "      <td>0.0</td>\n",
       "    </tr>\n",
       "    <tr>\n",
       "      <th>min</th>\n",
       "      <td>0.000000</td>\n",
       "      <td>0.0</td>\n",
       "      <td>0.0</td>\n",
       "      <td>0.0</td>\n",
       "      <td>0.0</td>\n",
       "      <td>0.000000</td>\n",
       "      <td>0.000000</td>\n",
       "      <td>0.000000</td>\n",
       "      <td>0.000000</td>\n",
       "      <td>0.000000</td>\n",
       "      <td>...</td>\n",
       "      <td>0.0</td>\n",
       "      <td>0.0</td>\n",
       "      <td>0.0</td>\n",
       "      <td>0.0</td>\n",
       "      <td>0.0</td>\n",
       "      <td>0.0</td>\n",
       "      <td>0.0</td>\n",
       "      <td>0.0</td>\n",
       "      <td>0.0</td>\n",
       "      <td>0.0</td>\n",
       "    </tr>\n",
       "    <tr>\n",
       "      <th>25%</th>\n",
       "      <td>8.750000</td>\n",
       "      <td>0.0</td>\n",
       "      <td>0.0</td>\n",
       "      <td>0.0</td>\n",
       "      <td>0.0</td>\n",
       "      <td>0.000000</td>\n",
       "      <td>0.000000</td>\n",
       "      <td>0.000000</td>\n",
       "      <td>0.000000</td>\n",
       "      <td>0.000000</td>\n",
       "      <td>...</td>\n",
       "      <td>0.0</td>\n",
       "      <td>0.0</td>\n",
       "      <td>0.0</td>\n",
       "      <td>0.0</td>\n",
       "      <td>0.0</td>\n",
       "      <td>0.0</td>\n",
       "      <td>0.0</td>\n",
       "      <td>0.0</td>\n",
       "      <td>0.0</td>\n",
       "      <td>0.0</td>\n",
       "    </tr>\n",
       "    <tr>\n",
       "      <th>50%</th>\n",
       "      <td>17.500000</td>\n",
       "      <td>0.0</td>\n",
       "      <td>0.0</td>\n",
       "      <td>0.0</td>\n",
       "      <td>0.0</td>\n",
       "      <td>0.000000</td>\n",
       "      <td>0.000000</td>\n",
       "      <td>0.000000</td>\n",
       "      <td>0.000000</td>\n",
       "      <td>0.000000</td>\n",
       "      <td>...</td>\n",
       "      <td>0.0</td>\n",
       "      <td>0.0</td>\n",
       "      <td>0.0</td>\n",
       "      <td>0.0</td>\n",
       "      <td>0.0</td>\n",
       "      <td>0.0</td>\n",
       "      <td>0.0</td>\n",
       "      <td>0.0</td>\n",
       "      <td>0.0</td>\n",
       "      <td>0.0</td>\n",
       "    </tr>\n",
       "    <tr>\n",
       "      <th>75%</th>\n",
       "      <td>26.250000</td>\n",
       "      <td>0.0</td>\n",
       "      <td>0.0</td>\n",
       "      <td>0.0</td>\n",
       "      <td>0.0</td>\n",
       "      <td>0.000000</td>\n",
       "      <td>0.000000</td>\n",
       "      <td>0.000000</td>\n",
       "      <td>0.000000</td>\n",
       "      <td>0.000000</td>\n",
       "      <td>...</td>\n",
       "      <td>0.0</td>\n",
       "      <td>0.0</td>\n",
       "      <td>0.0</td>\n",
       "      <td>0.0</td>\n",
       "      <td>0.0</td>\n",
       "      <td>0.0</td>\n",
       "      <td>0.0</td>\n",
       "      <td>0.0</td>\n",
       "      <td>0.0</td>\n",
       "      <td>0.0</td>\n",
       "    </tr>\n",
       "    <tr>\n",
       "      <th>max</th>\n",
       "      <td>35.000000</td>\n",
       "      <td>0.0</td>\n",
       "      <td>0.0</td>\n",
       "      <td>0.0</td>\n",
       "      <td>0.0</td>\n",
       "      <td>63.000000</td>\n",
       "      <td>213.000000</td>\n",
       "      <td>108.000000</td>\n",
       "      <td>95.000000</td>\n",
       "      <td>208.000000</td>\n",
       "      <td>...</td>\n",
       "      <td>0.0</td>\n",
       "      <td>0.0</td>\n",
       "      <td>0.0</td>\n",
       "      <td>0.0</td>\n",
       "      <td>0.0</td>\n",
       "      <td>0.0</td>\n",
       "      <td>0.0</td>\n",
       "      <td>0.0</td>\n",
       "      <td>0.0</td>\n",
       "      <td>0.0</td>\n",
       "    </tr>\n",
       "  </tbody>\n",
       "</table>\n",
       "<p>8 rows × 785 columns</p>\n",
       "</div>"
      ],
      "text/plain": [
       "                0        1        2        3        4             5    \\\n",
       "count  14400.000000  14400.0  14400.0  14400.0  14400.0  14400.000000   \n",
       "mean      17.500000      0.0      0.0      0.0      0.0      0.007917   \n",
       "std       10.388655      0.0      0.0      0.0      0.0      0.604236   \n",
       "min        0.000000      0.0      0.0      0.0      0.0      0.000000   \n",
       "25%        8.750000      0.0      0.0      0.0      0.0      0.000000   \n",
       "50%       17.500000      0.0      0.0      0.0      0.0      0.000000   \n",
       "75%       26.250000      0.0      0.0      0.0      0.0      0.000000   \n",
       "max       35.000000      0.0      0.0      0.0      0.0     63.000000   \n",
       "\n",
       "                6             7             8             9    ...      775  \\\n",
       "count  14400.000000  14400.000000  14400.000000  14400.000000  ...  14400.0   \n",
       "mean       0.025764      0.014722      0.012222      0.014722  ...      0.0   \n",
       "std        2.012452      1.204803      1.019562      1.733652  ...      0.0   \n",
       "min        0.000000      0.000000      0.000000      0.000000  ...      0.0   \n",
       "25%        0.000000      0.000000      0.000000      0.000000  ...      0.0   \n",
       "50%        0.000000      0.000000      0.000000      0.000000  ...      0.0   \n",
       "75%        0.000000      0.000000      0.000000      0.000000  ...      0.0   \n",
       "max      213.000000    108.000000     95.000000    208.000000  ...      0.0   \n",
       "\n",
       "           776      777      778      779      780      781      782      783  \\\n",
       "count  14400.0  14400.0  14400.0  14400.0  14400.0  14400.0  14400.0  14400.0   \n",
       "mean       0.0      0.0      0.0      0.0      0.0      0.0      0.0      0.0   \n",
       "std        0.0      0.0      0.0      0.0      0.0      0.0      0.0      0.0   \n",
       "min        0.0      0.0      0.0      0.0      0.0      0.0      0.0      0.0   \n",
       "25%        0.0      0.0      0.0      0.0      0.0      0.0      0.0      0.0   \n",
       "50%        0.0      0.0      0.0      0.0      0.0      0.0      0.0      0.0   \n",
       "75%        0.0      0.0      0.0      0.0      0.0      0.0      0.0      0.0   \n",
       "max        0.0      0.0      0.0      0.0      0.0      0.0      0.0      0.0   \n",
       "\n",
       "           784  \n",
       "count  14400.0  \n",
       "mean       0.0  \n",
       "std        0.0  \n",
       "min        0.0  \n",
       "25%        0.0  \n",
       "50%        0.0  \n",
       "75%        0.0  \n",
       "max        0.0  \n",
       "\n",
       "[8 rows x 785 columns]"
      ]
     },
     "execution_count": 38,
     "metadata": {},
     "output_type": "execute_result"
    }
   ],
   "source": [
    "#Removing lowercase entries\n",
    "test_df_new = test_df[test_df[0].isin(np.arange(0, 36))]\n",
    "test_df_new.describe()"
   ]
  },
  {
   "cell_type": "code",
   "execution_count": 39,
   "id": "a8f211dc",
   "metadata": {
    "colab": {
     "base_uri": "https://localhost:8080/"
    },
    "execution": {
     "iopub.execute_input": "2022-11-10T17:11:13.593194Z",
     "iopub.status.busy": "2022-11-10T17:11:13.592482Z",
     "iopub.status.idle": "2022-11-10T17:11:13.600344Z",
     "shell.execute_reply": "2022-11-10T17:11:13.599247Z"
    },
    "id": "a8f211dc",
    "outputId": "4a33c858-c730-4fcd-9a08-51b783aaaf21",
    "papermill": {
     "duration": 0.101462,
     "end_time": "2022-11-10T17:11:13.603919",
     "exception": false,
     "start_time": "2022-11-10T17:11:13.502457",
     "status": "completed"
    },
    "tags": []
   },
   "outputs": [
    {
     "data": {
      "text/plain": [
       "((14400, 784), (14400,))"
      ]
     },
     "execution_count": 39,
     "metadata": {},
     "output_type": "execute_result"
    }
   ],
   "source": [
    "#Splitting into x and y\n",
    "x_test = test_df_new.loc[:, 1:]\n",
    "y_test = test_df_new.loc[:, 0]\n",
    "\n",
    "x_test.shape, y_test.shape"
   ]
  },
  {
   "cell_type": "code",
   "execution_count": 40,
   "id": "cf9b9fb5",
   "metadata": {
    "colab": {
     "base_uri": "https://localhost:8080/"
    },
    "execution": {
     "iopub.execute_input": "2022-11-10T17:11:13.781967Z",
     "iopub.status.busy": "2022-11-10T17:11:13.781621Z",
     "iopub.status.idle": "2022-11-10T17:11:14.116176Z",
     "shell.execute_reply": "2022-11-10T17:11:14.115037Z"
    },
    "id": "cf9b9fb5",
    "outputId": "0ff21fa0-c9ce-488f-aed2-a97818c52285",
    "papermill": {
     "duration": 0.426032,
     "end_time": "2022-11-10T17:11:14.118372",
     "exception": false,
     "start_time": "2022-11-10T17:11:13.692340",
     "status": "completed"
    },
    "tags": []
   },
   "outputs": [
    {
     "data": {
      "text/plain": [
       "((14400, 28, 28), (14400, 36))"
      ]
     },
     "execution_count": 40,
     "metadata": {},
     "output_type": "execute_result"
    }
   ],
   "source": [
    "#Flipinng and rotating\n",
    "x_test = np.apply_along_axis(flip_and_rotate, 1, x_test.values)\n",
    "y_test = np_utils.to_categorical(y_test, number_of_classes)\n",
    "\n",
    "x_test.shape, y_test.shape"
   ]
  },
  {
   "cell_type": "code",
   "execution_count": 41,
   "id": "a787fb2a",
   "metadata": {
    "execution": {
     "iopub.execute_input": "2022-11-10T17:11:14.292942Z",
     "iopub.status.busy": "2022-11-10T17:11:14.292582Z",
     "iopub.status.idle": "2022-11-10T17:11:14.335162Z",
     "shell.execute_reply": "2022-11-10T17:11:14.333647Z"
    },
    "id": "a787fb2a",
    "papermill": {
     "duration": 0.132949,
     "end_time": "2022-11-10T17:11:14.339202",
     "exception": false,
     "start_time": "2022-11-10T17:11:14.206253",
     "status": "completed"
    },
    "tags": []
   },
   "outputs": [],
   "source": [
    "#Normalisation\n",
    "x_test = x_test.astype('float32') / 255"
   ]
  },
  {
   "cell_type": "code",
   "execution_count": 42,
   "id": "5b76775f",
   "metadata": {
    "colab": {
     "base_uri": "https://localhost:8080/"
    },
    "execution": {
     "iopub.execute_input": "2022-11-10T17:11:14.635707Z",
     "iopub.status.busy": "2022-11-10T17:11:14.635179Z",
     "iopub.status.idle": "2022-11-10T17:11:14.644698Z",
     "shell.execute_reply": "2022-11-10T17:11:14.643728Z"
    },
    "id": "5b76775f",
    "outputId": "68c5c515-f2dc-4ac6-baa8-e073d44c2a53",
    "papermill": {
     "duration": 0.14601,
     "end_time": "2022-11-10T17:11:14.647173",
     "exception": false,
     "start_time": "2022-11-10T17:11:14.501163",
     "status": "completed"
    },
    "tags": []
   },
   "outputs": [
    {
     "data": {
      "text/plain": [
       "(14400, 28, 28, 1)"
      ]
     },
     "execution_count": 42,
     "metadata": {},
     "output_type": "execute_result"
    }
   ],
   "source": [
    "#Reshaping (Changing Dimension)\n",
    "x_test = x_test.reshape(-1, W, H, 1)\n",
    "x_test.shape"
   ]
  },
  {
   "cell_type": "code",
   "execution_count": 43,
   "id": "6663cd74",
   "metadata": {
    "colab": {
     "base_uri": "https://localhost:8080/"
    },
    "execution": {
     "iopub.execute_input": "2022-11-10T17:11:14.912135Z",
     "iopub.status.busy": "2022-11-10T17:11:14.911690Z",
     "iopub.status.idle": "2022-11-10T17:11:16.317790Z",
     "shell.execute_reply": "2022-11-10T17:11:16.316571Z"
    },
    "id": "6663cd74",
    "outputId": "66d7cb4c-9980-48f4-981e-70862c31c17c",
    "papermill": {
     "duration": 1.542301,
     "end_time": "2022-11-10T17:11:16.320662",
     "exception": false,
     "start_time": "2022-11-10T17:11:14.778361",
     "status": "completed"
    },
    "tags": []
   },
   "outputs": [
    {
     "name": "stdout",
     "output_type": "stream",
     "text": [
      "450/450 [==============================] - 5s 10ms/step - loss: 0.2905 - accuracy: 0.9079\n",
      "Loss value is  0.2905391752719879\n",
      "Accuracy value is  0.9079166650772095\n"
     ]
    }
   ],
   "source": [
    "#Evaluating Model\n",
    "test_acc = model.evaluate(x_test, y_test)\n",
    "print('Loss value is ',test_acc[0])\n",
    "print('Accuracy value is ',test_acc[1])"
   ]
  },
  {
   "cell_type": "code",
   "execution_count": 56,
   "id": "a9b64949",
   "metadata": {},
   "outputs": [
    {
     "data": {
      "text/plain": [
       "(28, 28, 1)"
      ]
     },
     "execution_count": 56,
     "metadata": {},
     "output_type": "execute_result"
    }
   ],
   "source": [
    "x_test[0].resha"
   ]
  },
  {
   "cell_type": "code",
   "execution_count": 57,
   "id": "ff4b8bca",
   "metadata": {},
   "outputs": [
    {
     "data": {
      "text/plain": [
       "numpy.ndarray"
      ]
     },
     "execution_count": 57,
     "metadata": {},
     "output_type": "execute_result"
    }
   ],
   "source": [
    "type(x_test[0])"
   ]
  },
  {
   "cell_type": "code",
   "execution_count": 59,
   "id": "d305da59",
   "metadata": {},
   "outputs": [
    {
     "name": "stdout",
     "output_type": "stream",
     "text": [
      "1/1 [==============================] - 0s 35ms/step\n"
     ]
    },
    {
     "data": {
      "text/plain": [
       "array([[1.36454704e-13, 3.48069959e-17, 1.80874926e-16, 8.29946705e-16,\n",
       "        3.23411301e-13, 3.90031892e-13, 2.61048623e-17, 3.10327718e-13,\n",
       "        2.11807863e-11, 1.00000000e+00, 8.95788213e-18, 4.41462447e-18,\n",
       "        2.72802419e-16, 2.80698406e-18, 1.03453315e-16, 4.59040493e-14,\n",
       "        1.77403488e-13, 2.08488935e-20, 2.50171554e-23, 3.75176896e-15,\n",
       "        1.08323753e-26, 8.86225077e-15, 2.96406483e-18, 1.18242626e-22,\n",
       "        2.65271978e-16, 6.92347240e-15, 6.68113438e-12, 7.65803498e-22,\n",
       "        5.26045644e-14, 3.79546861e-17, 7.21544802e-20, 1.17331641e-18,\n",
       "        1.02552632e-18, 4.30945913e-21, 4.19598634e-10, 2.16350148e-16]],\n",
       "      dtype=float32)"
      ]
     },
     "execution_count": 59,
     "metadata": {},
     "output_type": "execute_result"
    }
   ],
   "source": [
    "model.predict(x_test[0].reshape((1, 28, 28, 1)))"
   ]
  },
  {
   "cell_type": "code",
   "execution_count": 96,
   "id": "780527cf",
   "metadata": {},
   "outputs": [
    {
     "data": {
      "image/png": "[encoded data removed]",
      "text/plain": [
       "<Figure size 432x288 with 1 Axes>"
      ]
     },
     "metadata": {
      "needs_background": "light"
     },
     "output_type": "display_data"
    },
    {
     "name": "stdout",
     "output_type": "stream",
     "text": [
      "1/1 [==============================] - 0s 50ms/step\n",
      "A\n"
     ]
    }
   ],
   "source": [
    "num=2023\n",
    "\n",
    "plt.imshow(x_test[num])\n",
    "plt.show()\n",
    "y_pred=model.predict(x_test[num].reshape(1, 28, 28, 1))\n",
    "print(label_dictionary[y_pred.argmax()])"
   ]
  },
  {
   "cell_type": "code",
   "execution_count": 49,
   "id": "4d7dca6f",
   "metadata": {
    "colab": {
     "base_uri": "https://localhost:8080/"
    },
    "execution": {
     "iopub.execute_input": "2022-11-10T17:11:16.500930Z",
     "iopub.status.busy": "2022-11-10T17:11:16.500573Z",
     "iopub.status.idle": "2022-11-10T17:11:17.134676Z",
     "shell.execute_reply": "2022-11-10T17:11:17.133749Z"
    },
    "id": "4d7dca6f",
    "outputId": "e1fc6991-99ed-4d43-eb70-2abb7e8cdd2b",
    "papermill": {
     "duration": 0.727479,
     "end_time": "2022-11-10T17:11:17.137049",
     "exception": false,
     "start_time": "2022-11-10T17:11:16.409570",
     "status": "completed"
    },
    "tags": []
   },
   "outputs": [
    {
     "name": "stdout",
     "output_type": "stream",
     "text": [
      "450/450 [==============================] - 3s 6ms/step\n"
     ]
    },
    {
     "data": {
      "text/plain": [
       "(14400, 36)"
      ]
     },
     "execution_count": 49,
     "metadata": {},
     "output_type": "execute_result"
    }
   ],
   "source": [
    "#Prediction\n",
    "y_pred_test = model.predict(x_test)\n",
    "# Finding shape\n",
    "y_pred_test.shape"
   ]
  },
  {
   "cell_type": "code",
   "execution_count": 67,
   "id": "1061a5fd",
   "metadata": {},
   "outputs": [
    {
     "data": {
      "text/plain": [
       "array([1.36454961e-13, 3.48069959e-17, 1.80875614e-16, 8.29949881e-16,\n",
       "       3.23411924e-13, 3.90031892e-13, 2.61048623e-17, 3.10328315e-13,\n",
       "       2.11808678e-11, 1.00000000e+00, 8.95788213e-18, 4.41464142e-18,\n",
       "       2.72802419e-16, 2.80699460e-18, 1.03453315e-16, 4.59040493e-14,\n",
       "       1.77403827e-13, 2.08488935e-20, 2.50171554e-23, 3.75176896e-15,\n",
       "       1.08324161e-26, 8.86228465e-15, 2.96406483e-18, 1.18243522e-22,\n",
       "       2.65272984e-16, 6.92347240e-15, 6.68114739e-12, 7.65806426e-22,\n",
       "       5.26047643e-14, 3.79546861e-17, 7.21544802e-20, 1.17332085e-18,\n",
       "       1.02553418e-18, 4.30947528e-21, 4.19599439e-10, 2.16351802e-16],\n",
       "      dtype=float32)"
      ]
     },
     "execution_count": 67,
     "metadata": {},
     "output_type": "execute_result"
    }
   ],
   "source": [
    "y_pred_test[0]"
   ]
  },
  {
   "cell_type": "code",
   "execution_count": 45,
   "id": "6bf60162",
   "metadata": {
    "colab": {
     "base_uri": "https://localhost:8080/",
     "height": 504
    },
    "execution": {
     "iopub.execute_input": "2022-11-10T17:11:17.357005Z",
     "iopub.status.busy": "2022-11-10T17:11:17.356603Z",
     "iopub.status.idle": "2022-11-10T17:11:19.170858Z",
     "shell.execute_reply": "2022-11-10T17:11:19.169905Z"
    },
    "id": "6bf60162",
    "outputId": "f2fce143-68df-49d6-f85e-465efaa2cf57",
    "papermill": {
     "duration": 1.908351,
     "end_time": "2022-11-10T17:11:19.173170",
     "exception": false,
     "start_time": "2022-11-10T17:11:17.264819",
     "status": "completed"
    },
    "tags": []
   },
   "outputs": [
    {
     "data": {
      "image/png": "[encoded data removed]",
      "text/plain": [
       "<Figure size 800x640 with 18 Axes>"
      ]
     },
     "metadata": {
      "needs_background": "light"
     },
     "output_type": "display_data"
    }
   ],
   "source": [
    "# Visualising some predicted values\n",
    "\n",
    "plt.figure(figsize=(10, 8), dpi=80)\n",
    "for i in range(200, 218):\n",
    "    plt.subplot(3,6,i-199)\n",
    "    plt.imshow(x_test[i], cmap=plt.cm.gray)\n",
    "    plt.title(label_dictionary[y_pred_test[i].argmax()])"
   ]
  },
  {
   "cell_type": "code",
   "execution_count": 61,
   "id": "03ca4ed9",
   "metadata": {},
   "outputs": [
    {
     "name": "stdout",
     "output_type": "stream",
     "text": [
      "Model: \"sequential\"\n",
      "_________________________________________________________________\n",
      " Layer (type)                Output Shape              Param #   \n",
      "=================================================================\n",
      " conv2d (Conv2D)             (None, 28, 28, 32)        832       \n",
      "                                                                 \n",
      " max_pooling2d (MaxPooling2D  (None, 14, 14, 32)       0         \n",
      " )                                                               \n",
      "                                                                 \n",
      " conv2d_1 (Conv2D)           (None, 10, 10, 48)        38448     \n",
      "                                                                 \n",
      " max_pooling2d_1 (MaxPooling  (None, 5, 5, 48)         0         \n",
      " 2D)                                                             \n",
      "                                                                 \n",
      " flatten (Flatten)           (None, 1200)              0         \n",
      "                                                                 \n",
      " dense (Dense)               (None, 256)               307456    \n",
      "                                                                 \n",
      " dense_1 (Dense)             (None, 84)                21588     \n",
      "                                                                 \n",
      " dense_2 (Dense)             (None, 36)                3060      \n",
      "                                                                 \n",
      "=================================================================\n",
      "Total params: 371,384\n",
      "Trainable params: 371,384\n",
      "Non-trainable params: 0\n",
      "_________________________________________________________________\n"
     ]
    }
   ],
   "source": [
    "model = load_model('my_model.h5')\n",
    "model.summary()"
   ]
  },
  {
   "cell_type": "code",
   "execution_count": 62,
   "id": "rcRXM8GOFc7K",
   "metadata": {
    "id": "rcRXM8GOFc7K"
   },
   "outputs": [],
   "source": [
    "import pickle"
   ]
  },
  {
   "cell_type": "code",
   "execution_count": 64,
   "id": "fb2d1d62",
   "metadata": {},
   "outputs": [
    {
     "name": "stdout",
     "output_type": "stream",
     "text": [
      "Keras weights file (<HDF5 file \"variables.h5\" (mode r+)>) saving:\n",
      "...layers\\conv2d\n",
      "......vars\n",
      ".........0\n",
      ".........1\n",
      "...layers\\conv2d_1\n",
      "......vars\n",
      ".........0\n",
      ".........1\n",
      "...layers\\dense\n",
      "......vars\n",
      ".........0\n",
      ".........1\n",
      "...layers\\dense_1\n",
      "......vars\n",
      ".........0\n",
      ".........1\n",
      "...layers\\dense_2\n",
      "......vars\n",
      ".........0\n",
      ".........1\n",
      "...layers\\flatten\n",
      "......vars\n",
      "...layers\\max_pooling2d\n",
      "......vars\n",
      "...layers\\max_pooling2d_1\n",
      "......vars\n",
      "...metrics\\mean\n",
      "......vars\n",
      ".........0\n",
      ".........1\n",
      "...metrics\\mean_metric_wrapper\n",
      "......vars\n",
      ".........0\n",
      ".........1\n",
      "...optimizer\n",
      "......vars\n",
      ".........0\n",
      ".........1\n",
      ".........10\n",
      ".........11\n",
      ".........12\n",
      ".........13\n",
      ".........14\n",
      ".........15\n",
      ".........16\n",
      ".........17\n",
      ".........18\n",
      ".........19\n",
      ".........2\n",
      ".........20\n",
      ".........3\n",
      ".........4\n",
      ".........5\n",
      ".........6\n",
      ".........7\n",
      ".........8\n",
      ".........9\n",
      "...vars\n",
      "Keras model archive saving:\n",
      "File Name                                             Modified             Size\n",
      "config.json                                    2022-12-19 22:40:55         4305\n",
      "metadata.json                                  2022-12-19 22:40:55           64\n",
      "variables.h5                                   2022-12-19 22:40:55      4493416\n"
     ]
    }
   ],
   "source": [
    "pickle.dump(model, open('pblModel.pkl', 'wb'))"
   ]
  },
  {
   "cell_type": "code",
   "execution_count": null,
   "id": "22b957d7",
   "metadata": {},
   "outputs": [],
   "source": []
  }
 ],
 "metadata": {
  "accelerator": "GPU",
  "colab": {
   "provenance": []
  },
  "gpuClass": "standard",
  "kernelspec": {
   "display_name": "Python 3 (ipykernel)",
   "language": "python",
   "name": "python3"
  },
  "language_info": {
   "codemirror_mode": {
    "name": "ipython",
    "version": 3
   },
   "file_extension": ".py",
   "mimetype": "text/x-python",
   "name": "python",
   "nbconvert_exporter": "python",
   "pygments_lexer": "ipython3",
   "version": "3.9.12 (main, Apr  4 2022, 05:22:27) [MSC v.1916 64 bit (AMD64)]"
  },
  "papermill": {
   "default_parameters": {},
   "duration": 138.47318,
   "end_time": "2022-11-10T17:11:22.645441",
   "environment_variables": {},
   "exception": null,
   "input_path": "__notebook__.ipynb",
   "output_path": "__notebook__.ipynb",
   "parameters": {},
   "start_time": "2022-11-10T17:09:04.172261",
   "version": "2.3.4"
  },
  "vscode": {
   "interpreter": {
    "hash": "6c4f6369f68589120847c60df3b4a6a3e7756fa4b98c5fb6c36c8df35f5de2cb"
   }
  }
 },
 "nbformat": 4,
 "nbformat_minor": 5
}
