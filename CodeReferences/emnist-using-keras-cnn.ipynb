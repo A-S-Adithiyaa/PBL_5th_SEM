{
 "cells": [
  {
   "cell_type": "code",
   "execution_count": 1,
   "metadata": {
    "_cell_guid": "b1076dfc-b9ad-4769-8c92-a6c4dae69d19",
    "_uuid": "8f2839f25d086af736a60e9eeb907d3b93b6e0e5"
   },
   "outputs": [
    {
     "name": "stderr",
     "output_type": "stream",
     "text": [
      "Using TensorFlow backend.\n"
     ]
    }
   ],
   "source": [
    "# Import modules\n",
    "\n",
    "import numpy as np\n",
    "import pandas as pd\n",
    "import matplotlib.pyplot as plt\n",
    "\n",
    "from sklearn.model_selection import train_test_split\n",
    "import cv2\n",
    "\n",
    "#keras\n",
    "from keras.models import Sequential\n",
    "from keras.layers import Dense, Dropout, Flatten\n",
    "from keras.layers import Conv2D, MaxPooling2D\n",
    "from keras.utils import np_utils\n",
    "import sklearn.metrics as metrics"
   ]
  },
  {
   "cell_type": "code",
   "execution_count": 2,
   "metadata": {
    "_uuid": "b9de95e8cefcdcef4e7042d367037d7c67750cf8"
   },
   "outputs": [
    {
     "name": "stdout",
     "output_type": "stream",
     "text": [
      "Train: (112799, 785), Test: (18799, 785), Map: (47,)\n"
     ]
    }
   ],
   "source": [
    "train = pd.read_csv(\"../input/emnist-balanced-train.csv\",delimiter = ',')\n",
    "test = pd.read_csv(\"../input/emnist-balanced-test.csv\", delimiter = ',')\n",
    "mapp = pd.read_csv(\"../input/emnist-balanced-mapping.txt\", delimiter = ' ', \\\n",
    "                   index_col=0, header=None, squeeze=True)\n",
    "print(\"Train: %s, Test: %s, Map: %s\" %(train.shape, test.shape, mapp.shape))"
   ]
  },
  {
   "cell_type": "code",
   "execution_count": 3,
   "metadata": {
    "_uuid": "af42aed88241eb6f48f66ebb116f12991845acb7"
   },
   "outputs": [],
   "source": [
    "# Constants\n",
    "HEIGHT = 28\n",
    "WIDTH = 28"
   ]
  },
  {
   "cell_type": "code",
   "execution_count": 4,
   "metadata": {
    "_uuid": "cd1f2f13152b22618bab3c81de05bcad638d14da"
   },
   "outputs": [],
   "source": [
    "# Split x and y\n",
    "train_x = train.iloc[:,1:]\n",
    "train_y = train.iloc[:,0]\n",
    "del train\n",
    "\n",
    "test_x = test.iloc[:,1:]\n",
    "test_y = test.iloc[:,0]\n",
    "del test"
   ]
  },
  {
   "cell_type": "code",
   "execution_count": 5,
   "metadata": {
    "_uuid": "68ca0190a5f89676d61e18703ce5cb946584f70e"
   },
   "outputs": [
    {
     "name": "stdout",
     "output_type": "stream",
     "text": [
      "(112799, 784) (112799,) (18799, 784) (18799,)\n"
     ]
    }
   ],
   "source": [
    "print(train_x.shape,train_y.shape,test_x.shape,test_y.shape)"
   ]
  },
  {
   "cell_type": "code",
   "execution_count": 6,
   "metadata": {
    "_uuid": "d2b3cc6a0305996d1a884281cac4621560961d9f"
   },
   "outputs": [],
   "source": [
    "def rotate(image):\n",
    "    image = image.reshape([HEIGHT, WIDTH])\n",
    "    image = np.fliplr(image)\n",
    "    image = np.rot90(image)\n",
    "    return image"
   ]
  },
  {
   "cell_type": "code",
   "execution_count": 7,
   "metadata": {
    "_uuid": "552ac59745108ed31d39fe7400a9fa5f83c8949a"
   },
   "outputs": [
    {
     "name": "stdout",
     "output_type": "stream",
     "text": [
      "train_x: (112799, 28, 28)\n",
      "test_x: (18799, 28, 28)\n"
     ]
    }
   ],
   "source": [
    "# Flip and rotate image\n",
    "train_x = np.asarray(train_x)\n",
    "train_x = np.apply_along_axis(rotate, 1, train_x)\n",
    "print (\"train_x:\",train_x.shape)\n",
    "\n",
    "test_x = np.asarray(test_x)\n",
    "test_x = np.apply_along_axis(rotate, 1, test_x)\n",
    "print (\"test_x:\",test_x.shape)"
   ]
  },
  {
   "cell_type": "code",
   "execution_count": 8,
   "metadata": {
    "_uuid": "47dd7244f7a5e91bd1eff06667b0fa6ed77cc746"
   },
   "outputs": [],
   "source": [
    "# Normalise\n",
    "train_x = train_x.astype('float32')\n",
    "train_x /= 255\n",
    "test_x = test_x.astype('float32')\n",
    "test_x /= 255\n"
   ]
  },
  {
   "cell_type": "code",
   "execution_count": 9,
   "metadata": {
    "_uuid": "2400b66e4a7cd0a35104cb8076cb6850fc20ece1"
   },
   "outputs": [
    {
     "data": {
      "image/png": "[encoded data removed]",
      "text/plain": [
       "<Figure size 432x288 with 9 Axes>"
      ]
     },
     "metadata": {},
     "output_type": "display_data"
    }
   ],
   "source": [
    "# plot image\n",
    "for i in range(100, 109):\n",
    "    plt.subplot(330 + (i+1))\n",
    "    plt.imshow(train_x[i], cmap=plt.get_cmap('gray'))\n",
    "    plt.title(chr(mapp[train_y[i]]))"
   ]
  },
  {
   "cell_type": "code",
   "execution_count": 10,
   "metadata": {
    "_uuid": "9c148a5e8fc3c7ed58555af6a8960ff6c25f0543"
   },
   "outputs": [],
   "source": [
    "# number of classes\n",
    "num_classes = train_y.nunique()"
   ]
  },
  {
   "cell_type": "code",
   "execution_count": 11,
   "metadata": {
    "_uuid": "6b58c75713f4d1eb74495b894ae4bc2dc78fcc9d"
   },
   "outputs": [
    {
     "name": "stdout",
     "output_type": "stream",
     "text": [
      "train_y:  (112799, 47)\n",
      "test_y:  (18799, 47)\n"
     ]
    }
   ],
   "source": [
    "# One hot encoding\n",
    "train_y = np_utils.to_categorical(train_y, num_classes)\n",
    "test_y = np_utils.to_categorical(test_y, num_classes)\n",
    "print(\"train_y: \", train_y.shape)\n",
    "print(\"test_y: \", test_y.shape)"
   ]
  },
  {
   "cell_type": "code",
   "execution_count": 12,
   "metadata": {
    "_uuid": "0076e512ae2b51571856206c59a52375e189b451"
   },
   "outputs": [],
   "source": [
    "# Reshape image for CNN\n",
    "train_x = train_x.reshape(-1, HEIGHT, WIDTH, 1)\n",
    "test_x = test_x.reshape(-1, HEIGHT, WIDTH, 1)"
   ]
  },
  {
   "cell_type": "code",
   "execution_count": 13,
   "metadata": {
    "_uuid": "14ef5047de5bb2d88f0e2f99858d3ea27791e45e"
   },
   "outputs": [],
   "source": [
    "# partition to train and val\n",
    "train_x, val_x, train_y, val_y = train_test_split(train_x, train_y, test_size= 0.10, random_state=7)"
   ]
  },
  {
   "cell_type": "code",
   "execution_count": 14,
   "metadata": {
    "_uuid": "6ae9d2f48b1258ca44b83bf6c410e55b2b323a23"
   },
   "outputs": [
    {
     "name": "stdout",
     "output_type": "stream",
     "text": [
      "_________________________________________________________________\n",
      "Layer (type)                 Output Shape              Param #   \n",
      "=================================================================\n",
      "conv2d_1 (Conv2D)            (None, 28, 28, 128)       3328      \n",
      "_________________________________________________________________\n",
      "max_pooling2d_1 (MaxPooling2 (None, 14, 14, 128)       0         \n",
      "_________________________________________________________________\n",
      "conv2d_2 (Conv2D)            (None, 14, 14, 64)        73792     \n",
      "_________________________________________________________________\n",
      "max_pooling2d_2 (MaxPooling2 (None, 7, 7, 64)          0         \n",
      "_________________________________________________________________\n",
      "flatten_1 (Flatten)          (None, 3136)              0         \n",
      "_________________________________________________________________\n",
      "dense_1 (Dense)              (None, 128)               401536    \n",
      "_________________________________________________________________\n",
      "dropout_1 (Dropout)          (None, 128)               0         \n",
      "_________________________________________________________________\n",
      "dense_2 (Dense)              (None, 47)                6063      \n",
      "=================================================================\n",
      "Total params: 484,719\n",
      "Trainable params: 484,719\n",
      "Non-trainable params: 0\n",
      "_________________________________________________________________\n"
     ]
    }
   ],
   "source": [
    "# Building model\n",
    "# ((Si - Fi + 2P)/S) + 1\n",
    "model = Sequential()\n",
    "\n",
    "model.add(Conv2D(filters=128, kernel_size=(5,5), padding = 'same', activation='relu',\\\n",
    "                 input_shape=(HEIGHT, WIDTH,1)))\n",
    "model.add(MaxPooling2D(pool_size=(2,2), strides=(2,2)))\n",
    "model.add(Conv2D(filters=64, kernel_size=(3,3) , padding = 'same', activation='relu'))\n",
    "model.add(MaxPooling2D(pool_size=(2,2)))\n",
    "\n",
    "model.add(Flatten())\n",
    "model.add(Dense(units=128, activation='relu'))\n",
    "model.add(Dropout(.5))\n",
    "model.add(Dense(units=num_classes, activation='softmax'))\n",
    "\n",
    "model.summary()"
   ]
  },
  {
   "cell_type": "code",
   "execution_count": 15,
   "metadata": {
    "_uuid": "f9ff3ca9a74b8a08d21ab706a79e8e583735f009"
   },
   "outputs": [],
   "source": [
    "model.compile(loss='categorical_crossentropy', optimizer='adam', metrics=['accuracy'])"
   ]
  },
  {
   "cell_type": "code",
   "execution_count": 16,
   "metadata": {
    "_uuid": "adcaad4c00a7f0de08585394587699b62fa2b6e3"
   },
   "outputs": [
    {
     "name": "stdout",
     "output_type": "stream",
     "text": [
      "Train on 101519 samples, validate on 11280 samples\n",
      "Epoch 1/10\n",
      "101519/101519 [==============================] - 16s 162us/step - loss: 1.6093 - acc: 0.5438 - val_loss: 0.5655 - val_acc: 0.8128\n",
      "Epoch 2/10\n",
      "101519/101519 [==============================] - 11s 112us/step - loss: 0.7823 - acc: 0.7520 - val_loss: 0.4541 - val_acc: 0.8395\n",
      "Epoch 3/10\n",
      "101519/101519 [==============================] - 11s 112us/step - loss: 0.6438 - acc: 0.7916 - val_loss: 0.4199 - val_acc: 0.8520\n",
      "Epoch 4/10\n",
      "101519/101519 [==============================] - 11s 112us/step - loss: 0.5752 - acc: 0.8104 - val_loss: 0.3905 - val_acc: 0.8598\n",
      "Epoch 5/10\n",
      "101519/101519 [==============================] - 11s 112us/step - loss: 0.5319 - acc: 0.8221 - val_loss: 0.3741 - val_acc: 0.8661\n",
      "Epoch 6/10\n",
      "101519/101519 [==============================] - 11s 112us/step - loss: 0.4970 - acc: 0.8332 - val_loss: 0.3651 - val_acc: 0.8694\n",
      "Epoch 7/10\n",
      "101519/101519 [==============================] - 11s 112us/step - loss: 0.4778 - acc: 0.8387 - val_loss: 0.3543 - val_acc: 0.8705\n",
      "Epoch 8/10\n",
      "101519/101519 [==============================] - 11s 112us/step - loss: 0.4514 - acc: 0.8467 - val_loss: 0.3465 - val_acc: 0.8735\n",
      "Epoch 9/10\n",
      "101519/101519 [==============================] - 11s 112us/step - loss: 0.4319 - acc: 0.8519 - val_loss: 0.3494 - val_acc: 0.8715\n",
      "Epoch 10/10\n",
      "101519/101519 [==============================] - 11s 112us/step - loss: 0.4193 - acc: 0.8558 - val_loss: 0.3454 - val_acc: 0.8699\n"
     ]
    }
   ],
   "source": [
    "history = model.fit(train_x, train_y, epochs=10, batch_size=512, verbose=1, \\\n",
    "                    validation_data=(val_x, val_y))"
   ]
  },
  {
   "cell_type": "code",
   "execution_count": 17,
   "metadata": {
    "_uuid": "a386da4ee6a425b653128bfcfd902b6c7cdb4fe9"
   },
   "outputs": [],
   "source": [
    "# plot accuracy and loss\n",
    "def plotgraph(epochs, acc, val_acc):\n",
    "    # Plot training & validation accuracy values\n",
    "    plt.plot(epochs, acc, 'b')\n",
    "    plt.plot(epochs, val_acc, 'r')\n",
    "    plt.title('Model accuracy')\n",
    "    plt.ylabel('Accuracy')\n",
    "    plt.xlabel('Epoch')\n",
    "    plt.legend(['Train', 'Val'], loc='upper left')\n",
    "    plt.show()"
   ]
  },
  {
   "cell_type": "code",
   "execution_count": 18,
   "metadata": {
    "_uuid": "bca0d2ce529a7f78ed990e24120d40050428383f"
   },
   "outputs": [],
   "source": [
    "#%%\n",
    "acc = history.history['acc']\n",
    "val_acc = history.history['val_acc']\n",
    "loss = history.history['loss']\n",
    "val_loss = history.history['val_loss']\n",
    "epochs = range(1,len(acc)+1)"
   ]
  },
  {
   "cell_type": "code",
   "execution_count": 19,
   "metadata": {
    "_uuid": "9d37b372916f3c8c38d181cb963bf6a973ef8af5"
   },
   "outputs": [
    {
     "data": {
      "image/png": "[encoded data removed]",
      "text/plain": [
       "<Figure size 432x288 with 1 Axes>"
      ]
     },
     "metadata": {},
     "output_type": "display_data"
    }
   ],
   "source": [
    "# Accuracy curve\n",
    "plotgraph(epochs, acc, val_acc)"
   ]
  },
  {
   "cell_type": "code",
   "execution_count": 20,
   "metadata": {
    "_uuid": "f06de482562dcc9fc84491575148d9a0e0e9a6e7"
   },
   "outputs": [
    {
     "data": {
      "image/png": "[encoded data removed]",
      "text/plain": [
       "<Figure size 432x288 with 1 Axes>"
      ]
     },
     "metadata": {},
     "output_type": "display_data"
    }
   ],
   "source": [
    "# loss curve\n",
    "plotgraph(epochs, loss, val_loss)"
   ]
  },
  {
   "cell_type": "code",
   "execution_count": 21,
   "metadata": {
    "_uuid": "97ed44997dc0ed725f7b7842b80e39d0290bc57f"
   },
   "outputs": [
    {
     "name": "stdout",
     "output_type": "stream",
     "text": [
      "Test loss: 0.36574761957584895\n",
      "Test accuracy: 0.8728655779626155\n"
     ]
    }
   ],
   "source": [
    "score = model.evaluate(test_x, test_y, verbose=0)\n",
    "print(\"Test loss:\", score[0])\n",
    "print(\"Test accuracy:\", score[1])"
   ]
  },
  {
   "cell_type": "code",
   "execution_count": 22,
   "metadata": {
    "_uuid": "167dc3941d98f7f76fb22c003411208613198982"
   },
   "outputs": [],
   "source": [
    "y_pred = model.predict(test_x)\n",
    "y_pred = (y_pred > 0.5)"
   ]
  },
  {
   "cell_type": "code",
   "execution_count": 23,
   "metadata": {
    "_uuid": "8960270eaf925d75fbddc1cbd2fca4c355977dc5"
   },
   "outputs": [],
   "source": [
    "cm = metrics.confusion_matrix(test_y.argmax(axis=1), y_pred.argmax(axis=1))"
   ]
  },
  {
   "cell_type": "code",
   "execution_count": 24,
   "metadata": {
    "_uuid": "6f6781e58fad33c216bab66108e613078bfa603c"
   },
   "outputs": [],
   "source": []
  }
 ],
 "metadata": {
  "kernelspec": {
   "display_name": "Python 3",
   "language": "python",
   "name": "python3"
  },
  "language_info": {
   "codemirror_mode": {
    "name": "ipython",
    "version": 3
   },
   "file_extension": ".py",
   "mimetype": "text/x-python",
   "name": "python",
   "nbconvert_exporter": "python",
   "pygments_lexer": "ipython3",
   "version": "3.6.6"
  }
 },
 "nbformat": 4,
 "nbformat_minor": 1
}
