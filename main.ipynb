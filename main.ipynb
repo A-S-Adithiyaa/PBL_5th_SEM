{
  "nbformat": 4,
  "nbformat_minor": 0,
  "metadata": {
    "colab": {
      "provenance": [],
      "mount_file_id": "1PPkDjlKh-vLKkvLjCRQ-0mBWcjFphayw",
      "authorship_tag": "ABX9TyNu29ScK/2GztDZD9lskX5p",
      "include_colab_link": true
    },
    "kernelspec": {
      "name": "python3",
      "display_name": "Python 3"
    },
    "language_info": {
      "name": "python"
    },
    "accelerator": "GPU",
    "gpuClass": "standard"
  },
  "cells": [
    {
      "cell_type": "markdown",
      "metadata": {
        "id": "view-in-github",
        "colab_type": "text"
      },
      "source": [
        "<a href=\"https://colab.research.google.com/github/A-S-Adithiyaa/5thSEM/blob/main/main.ipynb\" target=\"_parent\"><img src=\"https://colab.research.google.com/assets/colab-badge.svg\" alt=\"Open In Colab\"/></a>"
      ]
    },
    {
      "cell_type": "code",
      "execution_count": 58,
      "metadata": {
        "id": "0jHo_eN3QZMe"
      },
      "outputs": [],
      "source": [
        "import pandas as pd\n",
        "import numpy as np\n",
        "import matplotlib.pyplot as plt\n",
        "\n",
        "import tensorflow as tf\n",
        "from tensorflow import keras\n",
        "from sklearn.metrics import classification_report"
      ]
    },
    {
      "cell_type": "code",
      "source": [
        "train = pd.read_csv(\"/content/drive/MyDrive/emnist-letters-train.csv\")\n",
        "test = pd.read_csv(\"/content/drive/MyDrive/emnist-letters-test.csv\")"
      ],
      "metadata": {
        "id": "pq2PPzHHQsl-"
      },
      "execution_count": 59,
      "outputs": []
    },
    {
      "cell_type": "code",
      "source": [
        "print(train.shape)\n",
        "print(test.shape)"
      ],
      "metadata": {
        "colab": {
          "base_uri": "https://localhost:8080/"
        },
        "id": "TVVOyuMZQ3dA",
        "outputId": "6c746768-026e-45a7-e06b-884d8a3d5d2a"
      },
      "execution_count": 60,
      "outputs": [
        {
          "output_type": "stream",
          "name": "stdout",
          "text": [
            "(88799, 785)\n",
            "(14799, 785)\n"
          ]
        }
      ]
    },
    {
      "cell_type": "code",
      "source": [
        "x1 = np.array(train.iloc[:, 1:].values)\n",
        "y1 = np.array(train.iloc[:, 0].values)\n",
        "\n",
        "x2 = np.array(test.iloc[:, 1:].values)\n",
        "y2 = np.array(test.iloc[:, 0].values)"
      ],
      "metadata": {
        "id": "7P7B4yURQ9dk"
      },
      "execution_count": 99,
      "outputs": []
    },
    {
      "cell_type": "code",
      "source": [
        "len(x1[0])"
      ],
      "metadata": {
        "colab": {
          "base_uri": "https://localhost:8080/"
        },
        "id": "CVNjKNlHjzzF",
        "outputId": "25a74255-3c37-4738-9322-5edf26821bad"
      },
      "execution_count": 62,
      "outputs": [
        {
          "output_type": "execute_result",
          "data": {
            "text/plain": [
              "784"
            ]
          },
          "metadata": {},
          "execution_count": 62
        }
      ]
    },
    {
      "cell_type": "code",
      "source": [
        "print(x1.shape)\n",
        "print(y1.shape)\n",
        "print(x2.shape)\n",
        "print(y2.shape)"
      ],
      "metadata": {
        "colab": {
          "base_uri": "https://localhost:8080/"
        },
        "id": "zNKkqZQRRq_d",
        "outputId": "79bb2062-ce56-4602-d956-c6a0a374fab1"
      },
      "execution_count": 63,
      "outputs": [
        {
          "output_type": "stream",
          "name": "stdout",
          "text": [
            "(88799, 784)\n",
            "(88799,)\n",
            "(14799, 784)\n",
            "(14799,)\n"
          ]
        }
      ]
    },
    {
      "cell_type": "code",
      "source": [
        "num=2989\n",
        "\n",
        "train_data_reshaped = x1[num].reshape((28, 28))\n",
        "print(y1[num])\n",
        "plt.imshow(np.transpose(train_data_reshaped))\n",
        "plt.show()"
      ],
      "metadata": {
        "id": "ZHkAxHJ7iwGS",
        "colab": {
          "base_uri": "https://localhost:8080/",
          "height": 283
        },
        "outputId": "45da0f36-0baf-430a-bb01-08ae5df339aa"
      },
      "execution_count": 64,
      "outputs": [
        {
          "output_type": "stream",
          "name": "stdout",
          "text": [
            "21\n"
          ]
        },
        {
          "output_type": "display_data",
          "data": {
            "text/plain": [
              "<Figure size 432x288 with 1 Axes>"
            ],
            "image/png": "[encoded data removed]"
          },
          "metadata": {
            "needs_background": "light"
          }
        }
      ]
    },
    {
      "cell_type": "code",
      "source": [
        "train_data_reshaped.shape"
      ],
      "metadata": {
        "id": "V4WzBg7Di-0g",
        "colab": {
          "base_uri": "https://localhost:8080/"
        },
        "outputId": "ed18ab36-87c2-42b5-efaa-0cc3862dc2e9"
      },
      "execution_count": 65,
      "outputs": [
        {
          "output_type": "execute_result",
          "data": {
            "text/plain": [
              "(28, 28)"
            ]
          },
          "metadata": {},
          "execution_count": 65
        }
      ]
    },
    {
      "cell_type": "code",
      "source": [
        "y1[1]"
      ],
      "metadata": {
        "id": "GNv2gRQpja3e",
        "colab": {
          "base_uri": "https://localhost:8080/"
        },
        "outputId": "7cff2080-ced4-4f5d-e68f-bf4612e5b5c4"
      },
      "execution_count": 66,
      "outputs": [
        {
          "output_type": "execute_result",
          "data": {
            "text/plain": [
              "16"
            ]
          },
          "metadata": {},
          "execution_count": 66
        }
      ]
    },
    {
      "cell_type": "code",
      "source": [
        "plt.imshow(train_data_reshaped)"
      ],
      "metadata": {
        "id": "XkwFY5A6jQ2F",
        "colab": {
          "base_uri": "https://localhost:8080/",
          "height": 283
        },
        "outputId": "c19dbb61-15d4-4fb0-c61b-51a30efc3075"
      },
      "execution_count": 67,
      "outputs": [
        {
          "output_type": "execute_result",
          "data": {
            "text/plain": [
              "<matplotlib.image.AxesImage at 0x7f64af933a00>"
            ]
          },
          "metadata": {},
          "execution_count": 67
        },
        {
          "output_type": "display_data",
          "data": {
            "text/plain": [
              "<Figure size 432x288 with 1 Axes>"
            ],
            "image/png": "[encoded data removed]"
          },
          "metadata": {
            "needs_background": "light"
          }
        }
      ]
    },
    {
      "cell_type": "code",
      "source": [
        "train_images = x1 / 255.0\n",
        "test_images = x2 / 255.0"
      ],
      "metadata": {
        "id": "_ACr0V8URz3V"
      },
      "execution_count": 68,
      "outputs": []
    },
    {
      "cell_type": "code",
      "source": [
        "train_images_number = train_images.shape[0]\n",
        "train_images_height = 28\n",
        "train_images_width = 28\n",
        "train_images_size = train_images_height*train_images_width\n",
        "\n",
        "train_images = train_images.reshape(train_images_number, train_images_height, train_images_width, 1)\n",
        "\n",
        "test_images_number = test_images.shape[0]\n",
        "test_images_height = 28\n",
        "test_images_width = 28\n",
        "test_images_size = test_images_height*test_images_width\n",
        "\n",
        "test_images = test_images.reshape(test_images_number, test_images_height, test_images_width, 1)"
      ],
      "metadata": {
        "id": "NTdPfM4SkXou"
      },
      "execution_count": 69,
      "outputs": []
    },
    {
      "cell_type": "code",
      "source": [
        "type(train_images)"
      ],
      "metadata": {
        "colab": {
          "base_uri": "https://localhost:8080/"
        },
        "id": "1Y0UcWcgquzk",
        "outputId": "34a16c26-95b2-4305-844d-316dae941fe4"
      },
      "execution_count": 70,
      "outputs": [
        {
          "output_type": "execute_result",
          "data": {
            "text/plain": [
              "numpy.ndarray"
            ]
          },
          "metadata": {},
          "execution_count": 70
        }
      ]
    },
    {
      "cell_type": "code",
      "source": [
        "train_images.shape"
      ],
      "metadata": {
        "colab": {
          "base_uri": "https://localhost:8080/"
        },
        "id": "iqkYXRFukjPh",
        "outputId": "915a46da-3de6-44dd-b7b6-033f4c8dd1d4"
      },
      "execution_count": 71,
      "outputs": [
        {
          "output_type": "execute_result",
          "data": {
            "text/plain": [
              "(88799, 28, 28, 1)"
            ]
          },
          "metadata": {},
          "execution_count": 71
        }
      ]
    },
    {
      "cell_type": "code",
      "source": [
        "test_images.shape"
      ],
      "metadata": {
        "colab": {
          "base_uri": "https://localhost:8080/"
        },
        "id": "YVZ-O1S1kmLV",
        "outputId": "11a05968-9f82-4baf-e548-1dbde9d6846e"
      },
      "execution_count": 72,
      "outputs": [
        {
          "output_type": "execute_result",
          "data": {
            "text/plain": [
              "(14799, 28, 28, 1)"
            ]
          },
          "metadata": {},
          "execution_count": 72
        }
      ]
    },
    {
      "cell_type": "code",
      "source": [
        "type(y1)"
      ],
      "metadata": {
        "colab": {
          "base_uri": "https://localhost:8080/"
        },
        "id": "ajEWNJx4sbT9",
        "outputId": "2a89c20c-7224-4dda-e181-e56fe26e099a"
      },
      "execution_count": 73,
      "outputs": [
        {
          "output_type": "execute_result",
          "data": {
            "text/plain": [
              "numpy.ndarray"
            ]
          },
          "metadata": {},
          "execution_count": 73
        }
      ]
    },
    {
      "cell_type": "code",
      "source": [
        "len(y1)"
      ],
      "metadata": {
        "colab": {
          "base_uri": "https://localhost:8080/"
        },
        "id": "TkEPGbpxx_Ky",
        "outputId": "350a2976-15bc-4c47-fdcb-f52613e18f9e"
      },
      "execution_count": 74,
      "outputs": [
        {
          "output_type": "execute_result",
          "data": {
            "text/plain": [
              "88799"
            ]
          },
          "metadata": {},
          "execution_count": 74
        }
      ]
    },
    {
      "cell_type": "code",
      "source": [
        "y1[0]"
      ],
      "metadata": {
        "colab": {
          "base_uri": "https://localhost:8080/"
        },
        "id": "nhtH61g2uFq7",
        "outputId": "957dc464-e5f6-46b9-8220-fae7df699b25"
      },
      "execution_count": 75,
      "outputs": [
        {
          "output_type": "execute_result",
          "data": {
            "text/plain": [
              "7"
            ]
          },
          "metadata": {},
          "execution_count": 75
        }
      ]
    },
    {
      "cell_type": "code",
      "source": [
        "number_of_classes = 27\n",
        "\n",
        "y1_categorical = tf.keras.utils.to_categorical(y1, number_of_classes)\n",
        "y2_categorical = tf.keras.utils.to_categorical(y2, number_of_classes)"
      ],
      "metadata": {
        "id": "RNVuUAxHU9VB"
      },
      "execution_count": 114,
      "outputs": []
    },
    {
      "cell_type": "code",
      "source": [
        "# y1_categorical=np.delete(y1_categorical, 1, axis=1)\n",
        "# y2_categorical=np.delete(y2_categorical, 1, axis=1)"
      ],
      "metadata": {
        "id": "ABlct6j7zLX7"
      },
      "execution_count": 98,
      "outputs": []
    },
    {
      "cell_type": "code",
      "source": [
        "num=4334\n",
        "\n",
        "print(y1[num])\n",
        "print(y1_categorical[num])"
      ],
      "metadata": {
        "colab": {
          "base_uri": "https://localhost:8080/"
        },
        "id": "qxs0tbx_rafZ",
        "outputId": "5070584b-30bc-4415-abec-1ca7c99f4102"
      },
      "execution_count": 101,
      "outputs": [
        {
          "output_type": "stream",
          "name": "stdout",
          "text": [
            "14\n",
            "[0. 0. 0. 0. 0. 0. 0. 0. 0. 0. 0. 0. 0. 1. 0. 0. 0. 0. 0. 0. 0. 0. 0. 0.\n",
            " 0. 0.]\n"
          ]
        }
      ]
    },
    {
      "cell_type": "code",
      "source": [
        "temp"
      ],
      "metadata": {
        "colab": {
          "base_uri": "https://localhost:8080/"
        },
        "id": "deF26XUureN1",
        "outputId": "a68a3ae8-0a7a-4eff-f08f-1dd4af594900"
      },
      "execution_count": 83,
      "outputs": [
        {
          "output_type": "execute_result",
          "data": {
            "text/plain": [
              "array([[0., 0., 0., 0., 0., 0., 0., 1., 0., 0., 0., 0., 0., 0., 0., 0.,\n",
              "        0., 0., 0., 0., 0., 0., 0., 0., 0., 0., 0.],\n",
              "       [0., 0., 0., 0., 0., 0., 0., 0., 0., 0., 0., 0., 0., 0., 0., 0.,\n",
              "        1., 0., 0., 0., 0., 0., 0., 0., 0., 0., 0.]], dtype=float32)"
            ]
          },
          "metadata": {},
          "execution_count": 83
        }
      ]
    },
    {
      "cell_type": "code",
      "source": [
        "len(temp[0])"
      ],
      "metadata": {
        "colab": {
          "base_uri": "https://localhost:8080/"
        },
        "id": "BrGnhmLCwV7c",
        "outputId": "070b4d41-8378-4b56-b549-daf2a5c34c24"
      },
      "execution_count": 85,
      "outputs": [
        {
          "output_type": "execute_result",
          "data": {
            "text/plain": [
              "27"
            ]
          },
          "metadata": {},
          "execution_count": 85
        }
      ]
    },
    {
      "cell_type": "code",
      "source": [],
      "metadata": {
        "id": "2chY2jWUx2Uf"
      },
      "execution_count": null,
      "outputs": []
    },
    {
      "cell_type": "code",
      "source": [
        "# for i in range(len(temp)):\n",
        "  \n",
        "# for i in range(len(temp)):\n",
        "  # temp[i].remove(temp[i][0])\n",
        "  # print(len(temp[i]))\n",
        "  # np.delete(temp, 0, axis=1)\n",
        "  # print(len(temp[i]))\n",
        "temp1=np.delete(temp, 1, axis=1)\n",
        "print(temp)\n",
        "print(temp1)\n",
        "\n",
        "# print(temp)"
      ],
      "metadata": {
        "colab": {
          "base_uri": "https://localhost:8080/"
        },
        "id": "o215MaQzwSel",
        "outputId": "c7e1b0f4-9270-457b-d2c5-7b5da40afa2b"
      },
      "execution_count": 96,
      "outputs": [
        {
          "output_type": "stream",
          "name": "stdout",
          "text": [
            "[[0. 0. 0. 0. 0. 0. 0. 1. 0. 0. 0. 0. 0. 0. 0. 0. 0. 0. 0. 0. 0. 0. 0. 0.\n",
            "  0. 0. 0.]\n",
            " [0. 0. 0. 0. 0. 0. 0. 0. 0. 0. 0. 0. 0. 0. 0. 0. 1. 0. 0. 0. 0. 0. 0. 0.\n",
            "  0. 0. 0.]]\n",
            "[[0. 0. 0. 0. 0. 0. 1. 0. 0. 0. 0. 0. 0. 0. 0. 0. 0. 0. 0. 0. 0. 0. 0. 0.\n",
            "  0. 0.]\n",
            " [0. 0. 0. 0. 0. 0. 0. 0. 0. 0. 0. 0. 0. 0. 0. 1. 0. 0. 0. 0. 0. 0. 0. 0.\n",
            "  0. 0.]]\n"
          ]
        }
      ]
    },
    {
      "cell_type": "code",
      "source": [
        "num=785\n",
        "print(y1_categorical[num])\n",
        "train_data_reshaped = x1[num].reshape((28, 28))\n",
        "plt.imshow(np.transpose(train_data_reshaped))\n",
        "plt.show()"
      ],
      "metadata": {
        "colab": {
          "base_uri": "https://localhost:8080/",
          "height": 302
        },
        "id": "G-BtkFJwpl5p",
        "outputId": "d788ce75-a027-4237-fca7-1813fb6eaead"
      },
      "execution_count": 115,
      "outputs": [
        {
          "output_type": "stream",
          "name": "stdout",
          "text": [
            "[0. 0. 0. 0. 0. 0. 0. 0. 1. 0. 0. 0. 0. 0. 0. 0. 0. 0. 0. 0. 0. 0. 0. 0.\n",
            " 0. 0. 0.]\n"
          ]
        },
        {
          "output_type": "display_data",
          "data": {
            "text/plain": [
              "<Figure size 432x288 with 1 Axes>"
            ],
            "image/png": "[encoded data removed]"
          },
          "metadata": {
            "needs_background": "light"
          }
        }
      ]
    },
    {
      "cell_type": "code",
      "source": [
        "from tensorflow.keras.callbacks import EarlyStopping, ReduceLROnPlateau,ModelCheckpoint"
      ],
      "metadata": {
        "id": "EXCyRecYz_ik"
      },
      "execution_count": 116,
      "outputs": []
    },
    {
      "cell_type": "code",
      "source": [
        "from sklearn.model_selection import train_test_split\n",
        "train_x,test_x,train_y,test_y = train_test_split(train_images,y1_categorical,test_size=0.15,random_state = 42)\n",
        "\n",
        "model = tf.keras.Sequential([ \n",
        "    tf.keras.layers.Conv2D(32,3,input_shape=(28,28,1)),\n",
        "    tf.keras.layers.MaxPooling2D(2,2),\n",
        "    tf.keras.layers.Flatten(input_shape=(28,28,1)),\n",
        "    tf.keras.layers.Dense(512,activation='relu'),\n",
        "    tf.keras.layers.Dense(128,activation='relu'),\n",
        "    tf.keras.layers.Dense(number_of_classes,activation='softmax')\n",
        "])"
      ],
      "metadata": {
        "id": "549L4hOb0CLI"
      },
      "execution_count": 117,
      "outputs": []
    },
    {
      "cell_type": "code",
      "source": [
        "model.compile(optimizer='rmsprop',loss='categorical_crossentropy',metrics=['accuracy'])"
      ],
      "metadata": {
        "id": "N8iTdkCR0Hmt"
      },
      "execution_count": 118,
      "outputs": []
    },
    {
      "cell_type": "code",
      "source": [
        "\n",
        "MCP = ModelCheckpoint('Best_points.h5',verbose=1,save_best_only=True,monitor='val_accuracy',mode='max')\n",
        "ES = EarlyStopping(monitor='val_accuracy',min_delta=0,verbose=0,restore_best_weights = True,patience=3,mode='max')\n",
        "RLP = ReduceLROnPlateau(monitor='val_loss',patience=3,factor=0.2,min_lr=0.0001)"
      ],
      "metadata": {
        "id": "3IBBrzHw0Jrj"
      },
      "execution_count": 119,
      "outputs": []
    },
    {
      "cell_type": "code",
      "source": [
        "history = model.fit(train_x,train_y,epochs=10,validation_data=(test_x,test_y),callbacks=[MCP,ES,RLP])"
      ],
      "metadata": {
        "colab": {
          "base_uri": "https://localhost:8080/"
        },
        "id": "ii9BnHC30Ln2",
        "outputId": "84171290-480a-4a2c-c389-8f16910905cb"
      },
      "execution_count": 120,
      "outputs": [
        {
          "output_type": "stream",
          "name": "stdout",
          "text": [
            "Epoch 1/10\n",
            "2356/2359 [============================>.] - ETA: 0s - loss: 0.5506 - accuracy: 0.8286\n",
            "Epoch 1: val_accuracy improved from -inf to 0.88851, saving model to Best_points.h5\n",
            "2359/2359 [==============================] - 18s 5ms/step - loss: 0.5505 - accuracy: 0.8286 - val_loss: 0.3356 - val_accuracy: 0.8885 - lr: 0.0010\n",
            "Epoch 2/10\n",
            "2354/2359 [============================>.] - ETA: 0s - loss: 0.2844 - accuracy: 0.9070\n",
            "Epoch 2: val_accuracy did not improve from 0.88851\n",
            "2359/2359 [==============================] - 10s 4ms/step - loss: 0.2843 - accuracy: 0.9071 - val_loss: 0.3652 - val_accuracy: 0.8769 - lr: 0.0010\n",
            "Epoch 3/10\n",
            "2354/2359 [============================>.] - ETA: 0s - loss: 0.2280 - accuracy: 0.9244\n",
            "Epoch 3: val_accuracy improved from 0.88851 to 0.89760, saving model to Best_points.h5\n",
            "2359/2359 [==============================] - 11s 5ms/step - loss: 0.2281 - accuracy: 0.9244 - val_loss: 0.3556 - val_accuracy: 0.8976 - lr: 0.0010\n",
            "Epoch 4/10\n",
            "2347/2359 [============================>.] - ETA: 0s - loss: 0.2021 - accuracy: 0.9339\n",
            "Epoch 4: val_accuracy improved from 0.89760 to 0.90180, saving model to Best_points.h5\n",
            "2359/2359 [==============================] - 11s 5ms/step - loss: 0.2024 - accuracy: 0.9338 - val_loss: 0.3472 - val_accuracy: 0.9018 - lr: 0.0010\n",
            "Epoch 5/10\n",
            "2347/2359 [============================>.] - ETA: 0s - loss: 0.1010 - accuracy: 0.9632\n",
            "Epoch 5: val_accuracy improved from 0.90180 to 0.92177, saving model to Best_points.h5\n",
            "2359/2359 [==============================] - 10s 4ms/step - loss: 0.1009 - accuracy: 0.9632 - val_loss: 0.3149 - val_accuracy: 0.9218 - lr: 2.0000e-04\n",
            "Epoch 6/10\n",
            "2353/2359 [============================>.] - ETA: 0s - loss: 0.0822 - accuracy: 0.9699\n",
            "Epoch 6: val_accuracy did not improve from 0.92177\n",
            "2359/2359 [==============================] - 10s 4ms/step - loss: 0.0822 - accuracy: 0.9699 - val_loss: 0.3350 - val_accuracy: 0.9191 - lr: 2.0000e-04\n",
            "Epoch 7/10\n",
            "2355/2359 [============================>.] - ETA: 0s - loss: 0.0737 - accuracy: 0.9723\n",
            "Epoch 7: val_accuracy did not improve from 0.92177\n",
            "2359/2359 [==============================] - 10s 4ms/step - loss: 0.0738 - accuracy: 0.9722 - val_loss: 0.3837 - val_accuracy: 0.9188 - lr: 2.0000e-04\n",
            "Epoch 8/10\n",
            "2357/2359 [============================>.] - ETA: 0s - loss: 0.0689 - accuracy: 0.9737\n",
            "Epoch 8: val_accuracy did not improve from 0.92177\n",
            "2359/2359 [==============================] - 12s 5ms/step - loss: 0.0688 - accuracy: 0.9737 - val_loss: 0.3871 - val_accuracy: 0.9181 - lr: 2.0000e-04\n"
          ]
        }
      ]
    },
    {
      "cell_type": "code",
      "source": [
        "model.summary()"
      ],
      "metadata": {
        "colab": {
          "base_uri": "https://localhost:8080/"
        },
        "id": "W_0oiSnj08FE",
        "outputId": "47b5b3cf-e508-4417-ae6c-558d896d6be2"
      },
      "execution_count": 121,
      "outputs": [
        {
          "output_type": "stream",
          "name": "stdout",
          "text": [
            "Model: \"sequential_2\"\n",
            "_________________________________________________________________\n",
            " Layer (type)                Output Shape              Param #   \n",
            "=================================================================\n",
            " conv2d_2 (Conv2D)           (None, 26, 26, 32)        320       \n",
            "                                                                 \n",
            " max_pooling2d_2 (MaxPooling  (None, 13, 13, 32)       0         \n",
            " 2D)                                                             \n",
            "                                                                 \n",
            " flatten_2 (Flatten)         (None, 5408)              0         \n",
            "                                                                 \n",
            " dense_6 (Dense)             (None, 512)               2769408   \n",
            "                                                                 \n",
            " dense_7 (Dense)             (None, 128)               65664     \n",
            "                                                                 \n",
            " dense_8 (Dense)             (None, 27)                3483      \n",
            "                                                                 \n",
            "=================================================================\n",
            "Total params: 2,838,875\n",
            "Trainable params: 2,838,875\n",
            "Non-trainable params: 0\n",
            "_________________________________________________________________\n"
          ]
        }
      ]
    },
    {
      "cell_type": "code",
      "source": [
        "train_images[0].shape"
      ],
      "metadata": {
        "colab": {
          "base_uri": "https://localhost:8080/"
        },
        "id": "wUVrl-BJvnGz",
        "outputId": "404ef2d5-2698-4ea2-c315-fc5f4d1f1554"
      },
      "execution_count": null,
      "outputs": [
        {
          "output_type": "execute_result",
          "data": {
            "text/plain": [
              "(28, 28, 1)"
            ]
          },
          "metadata": {},
          "execution_count": 56
        }
      ]
    },
    {
      "cell_type": "code",
      "source": [],
      "metadata": {
        "id": "rUPAzL4l1G4S"
      },
      "execution_count": null,
      "outputs": []
    },
    {
      "cell_type": "code",
      "source": [
        "num=7899\n",
        "\n",
        "train_img=x1[num]\n",
        "plt.imshow(np.transpose(train_img.reshape((28, 28))))\n",
        "plt.show()\n",
        "train_img = train_img.reshape(1, 28, 28, 1)\n",
        "print(model.predict(train_img))\n",
        "print(y1[num])"
      ],
      "metadata": {
        "colab": {
          "base_uri": "https://localhost:8080/",
          "height": 338
        },
        "id": "PsakT2Lnw5bo",
        "outputId": "028154ee-b72e-4d89-c341-eb7a1361fd9a"
      },
      "execution_count": 142,
      "outputs": [
        {
          "output_type": "display_data",
          "data": {
            "text/plain": [
              "<Figure size 432x288 with 1 Axes>"
            ],
            "image/png": "[encoded data removed]"
          },
          "metadata": {
            "needs_background": "light"
          }
        },
        {
          "output_type": "stream",
          "name": "stdout",
          "text": [
            "1/1 [==============================] - 0s 14ms/step\n",
            "[[0. 0. 0. 0. 0. 0. 0. 0. 0. 0. 1. 0. 0. 0. 0. 0. 0. 0. 0. 0. 0. 0. 0. 0.\n",
            "  0. 0. 0.]]\n",
            "10\n"
          ]
        }
      ]
    },
    {
      "cell_type": "code",
      "source": [
        "import pickle"
      ],
      "metadata": {
        "id": "INfA-mJGvwL7"
      },
      "execution_count": 139,
      "outputs": []
    },
    {
      "cell_type": "code",
      "source": [
        "pickle.dump(model, open('pblModel18th.pkl', 'wb'))"
      ],
      "metadata": {
        "colab": {
          "base_uri": "https://localhost:8080/"
        },
        "id": "_Kl5obJg3pf1",
        "outputId": "d335c53a-9e18-4ce0-b088-0be823935739"
      },
      "execution_count": 140,
      "outputs": [
        {
          "output_type": "stream",
          "name": "stderr",
          "text": [
            "WARNING:absl:Found untraced functions such as _jit_compiled_convolution_op while saving (showing 1 of 1). These functions will not be directly callable after loading.\n"
          ]
        }
      ]
    },
    {
      "cell_type": "code",
      "source": [
        "model.summary()"
      ],
      "metadata": {
        "id": "1lI0tpOH0rRN",
        "outputId": "55c40ef4-10a2-4cf7-dbb2-a262c1b75fcb",
        "colab": {
          "base_uri": "https://localhost:8080/"
        }
      },
      "execution_count": null,
      "outputs": [
        {
          "output_type": "stream",
          "name": "stdout",
          "text": [
            "Model: \"sequential\"\n",
            "_________________________________________________________________\n",
            " Layer (type)                Output Shape              Param #   \n",
            "=================================================================\n",
            " conv2d (Conv2D)             (None, 26, 26, 32)        320       \n",
            "                                                                 \n",
            " max_pooling2d (MaxPooling2D  (None, 13, 13, 32)       0         \n",
            " )                                                               \n",
            "                                                                 \n",
            " flatten (Flatten)           (None, 5408)              0         \n",
            "                                                                 \n",
            " dense (Dense)               (None, 512)               2769408   \n",
            "                                                                 \n",
            " dense_1 (Dense)             (None, 128)               65664     \n",
            "                                                                 \n",
            " dense_2 (Dense)             (None, 37)                4773      \n",
            "                                                                 \n",
            "=================================================================\n",
            "Total params: 2,840,165\n",
            "Trainable params: 2,840,165\n",
            "Non-trainable params: 0\n",
            "_________________________________________________________________\n"
          ]
        }
      ]
    },
    {
      "cell_type": "code",
      "source": [
        "# import pickle"
      ],
      "metadata": {
        "id": "sst3HH5D0s-G"
      },
      "execution_count": null,
      "outputs": []
    },
    {
      "cell_type": "code",
      "source": [
        "# pickle.dump(model, open('pblModel.pkl', 'wb'))"
      ],
      "metadata": {
        "colab": {
          "base_uri": "https://localhost:8080/"
        },
        "id": "8QS9Z5_cLYf1",
        "outputId": "efd2aa2e-a511-4edd-b775-7f0396720392"
      },
      "execution_count": null,
      "outputs": [
        {
          "output_type": "stream",
          "name": "stderr",
          "text": [
            "WARNING:absl:Found untraced functions such as _jit_compiled_convolution_op while saving (showing 1 of 1). These functions will not be directly callable after loading.\n"
          ]
        }
      ]
    },
    {
      "cell_type": "code",
      "source": [
        "model.summary()"
      ],
      "metadata": {
        "id": "l5X5mrnALggZ",
        "colab": {
          "base_uri": "https://localhost:8080/"
        },
        "outputId": "54681f08-f3ad-473e-d382-5500a397a5d2"
      },
      "execution_count": null,
      "outputs": [
        {
          "output_type": "stream",
          "name": "stdout",
          "text": [
            "Model: \"sequential\"\n",
            "_________________________________________________________________\n",
            " Layer (type)                Output Shape              Param #   \n",
            "=================================================================\n",
            " conv2d (Conv2D)             (None, 26, 26, 32)        320       \n",
            "                                                                 \n",
            " max_pooling2d (MaxPooling2D  (None, 13, 13, 32)       0         \n",
            " )                                                               \n",
            "                                                                 \n",
            " flatten (Flatten)           (None, 5408)              0         \n",
            "                                                                 \n",
            " dense (Dense)               (None, 512)               2769408   \n",
            "                                                                 \n",
            " dense_1 (Dense)             (None, 128)               65664     \n",
            "                                                                 \n",
            " dense_2 (Dense)             (None, 37)                4773      \n",
            "                                                                 \n",
            "=================================================================\n",
            "Total params: 2,840,165\n",
            "Trainable params: 2,840,165\n",
            "Non-trainable params: 0\n",
            "_________________________________________________________________\n"
          ]
        }
      ]
    },
    {
      "cell_type": "code",
      "source": [],
      "metadata": {
        "id": "iu-JhFUQugyW"
      },
      "execution_count": null,
      "outputs": []
    }
  ]
}