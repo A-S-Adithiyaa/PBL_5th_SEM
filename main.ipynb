{
  "nbformat": 4,
  "nbformat_minor": 0,
  "metadata": {
    "colab": {
      "provenance": [],
      "mount_file_id": "1PPkDjlKh-vLKkvLjCRQ-0mBWcjFphayw",
      "authorship_tag": "ABX9TyOuJqqM5hTPpgrBHeb2W3Vt",
      "include_colab_link": true
    },
    "kernelspec": {
      "name": "python3",
      "display_name": "Python 3"
    },
    "language_info": {
      "name": "python"
    },
    "accelerator": "GPU",
    "gpuClass": "standard"
  },
  "cells": [
    {
      "cell_type": "markdown",
      "metadata": {
        "id": "view-in-github",
        "colab_type": "text"
      },
      "source": [
        "<a href=\"https://colab.research.google.com/github/A-S-Adithiyaa/5thSEM/blob/main/main.ipynb\" target=\"_parent\"><img src=\"https://colab.research.google.com/assets/colab-badge.svg\" alt=\"Open In Colab\"/></a>"
      ]
    },
    {
      "cell_type": "code",
      "execution_count": 17,
      "metadata": {
        "id": "0jHo_eN3QZMe"
      },
      "outputs": [],
      "source": [
        "import pandas as pd\n",
        "import numpy as np\n",
        "import matplotlib.pyplot as plt\n",
        "\n",
        "import tensorflow as tf"
      ]
    },
    {
      "cell_type": "code",
      "source": [
        "train = pd.read_csv(\"/content/drive/MyDrive/emnist-letters-train.csv\")\n",
        "test = pd.read_csv(\"/content/drive/MyDrive/emnist-letters-test.csv\")"
      ],
      "metadata": {
        "id": "pq2PPzHHQsl-"
      },
      "execution_count": 4,
      "outputs": []
    },
    {
      "cell_type": "code",
      "source": [
        "print(train.shape)\n",
        "print(test.shape)"
      ],
      "metadata": {
        "colab": {
          "base_uri": "https://localhost:8080/"
        },
        "id": "TVVOyuMZQ3dA",
        "outputId": "ccee2e4c-d0ee-4764-e891-e21fac0bd033"
      },
      "execution_count": 5,
      "outputs": [
        {
          "output_type": "stream",
          "name": "stdout",
          "text": [
            "(88799, 785)\n",
            "(14799, 785)\n"
          ]
        }
      ]
    },
    {
      "cell_type": "code",
      "source": [
        "train_data = np.array(train.iloc[:, 1:].values)\n",
        "train_label = np.array(train.iloc[:, 0].values)\n",
        "\n",
        "test_data = np.array(test.iloc[:, 1:].values)\n",
        "test_label = np.array(test.iloc[:, 0].values)"
      ],
      "metadata": {
        "id": "7P7B4yURQ9dk"
      },
      "execution_count": 6,
      "outputs": []
    },
    {
      "cell_type": "code",
      "source": [
        "print(train_data.shape)\n",
        "print(train_label.shape)\n",
        "print(test_data.shape)\n",
        "print(test_label.shape)"
      ],
      "metadata": {
        "colab": {
          "base_uri": "https://localhost:8080/"
        },
        "id": "zNKkqZQRRq_d",
        "outputId": "9a499cbc-b9cd-45d7-d551-51df3156fd7c"
      },
      "execution_count": 7,
      "outputs": [
        {
          "output_type": "stream",
          "name": "stdout",
          "text": [
            "(88799, 784)\n",
            "(88799,)\n",
            "(14799, 784)\n",
            "(14799,)\n"
          ]
        }
      ]
    },
    {
      "cell_type": "code",
      "source": [
        "train_normalized = train_data / 255\n",
        "test_normalized = test_data / 255"
      ],
      "metadata": {
        "id": "_ACr0V8URz3V"
      },
      "execution_count": 8,
      "outputs": []
    },
    {
      "cell_type": "code",
      "source": [
        "train_normalized[:5, 500: 504]"
      ],
      "metadata": {
        "colab": {
          "base_uri": "https://localhost:8080/"
        },
        "id": "-_8drfD1SfZH",
        "outputId": "964534af-7ad8-432d-d829-fc2b28468fe1"
      },
      "execution_count": 12,
      "outputs": [
        {
          "output_type": "execute_result",
          "data": {
            "text/plain": [
              "array([[0.08235294, 0.00784314, 0.        , 0.        ],\n",
              "       [0.        , 0.        , 0.        , 0.        ],\n",
              "       [0.01176471, 0.        , 0.        , 0.        ],\n",
              "       [0.01568627, 0.        , 0.        , 0.        ],\n",
              "       [0.54117647, 0.03529412, 0.        , 0.        ]])"
            ]
          },
          "metadata": {},
          "execution_count": 12
        }
      ]
    },
    {
      "cell_type": "code",
      "source": [
        "train_label[:5]"
      ],
      "metadata": {
        "colab": {
          "base_uri": "https://localhost:8080/"
        },
        "id": "bMkvepHPSiyU",
        "outputId": "cbf77a72-7c7f-4b53-b657-da11b9fe7fe1"
      },
      "execution_count": 13,
      "outputs": [
        {
          "output_type": "execute_result",
          "data": {
            "text/plain": [
              "array([ 7, 16, 15, 23, 17])"
            ]
          },
          "metadata": {},
          "execution_count": 13
        }
      ]
    },
    {
      "cell_type": "code",
      "source": [
        "np.unique(train_label)"
      ],
      "metadata": {
        "colab": {
          "base_uri": "https://localhost:8080/"
        },
        "id": "_OLyH_XfU6Mz",
        "outputId": "29a731f0-2ca2-4dbb-aff6-75c07faeb780"
      },
      "execution_count": 16,
      "outputs": [
        {
          "output_type": "execute_result",
          "data": {
            "text/plain": [
              "array([ 1,  2,  3,  4,  5,  6,  7,  8,  9, 10, 11, 12, 13, 14, 15, 16, 17,\n",
              "       18, 19, 20, 21, 22, 23, 24, 25, 26])"
            ]
          },
          "metadata": {},
          "execution_count": 16
        }
      ]
    },
    {
      "cell_type": "code",
      "source": [
        "num_of_classes = 37\n",
        "train_label_transformed = tf.keras.utils.to_categorical(train_label, num_of_classes)\n",
        "test_label_transformed = tf.keras.utils.to_categorical(test_label, num_of_classes)"
      ],
      "metadata": {
        "id": "RNVuUAxHU9VB"
      },
      "execution_count": 19,
      "outputs": []
    },
    {
      "cell_type": "code",
      "source": [
        "train_label_transformed.head()"
      ],
      "metadata": {
        "colab": {
          "base_uri": "https://localhost:8080/",
          "height": 165
        },
        "id": "j1lxSnAHYaIz",
        "outputId": "c1af9f67-338b-4041-a0b8-c164bcd31e67"
      },
      "execution_count": 21,
      "outputs": [
        {
          "output_type": "error",
          "ename": "AttributeError",
          "evalue": "ignored",
          "traceback": [
            "\u001b[0;31m---------------------------------------------------------------------------\u001b[0m",
            "\u001b[0;31mAttributeError\u001b[0m                            Traceback (most recent call last)",
            "\u001b[0;32m<ipython-input-21-841d94a15c80>\u001b[0m in \u001b[0;36m<module>\u001b[0;34m\u001b[0m\n\u001b[0;32m----> 1\u001b[0;31m \u001b[0mtrain_label_transformed\u001b[0m\u001b[0;34m.\u001b[0m\u001b[0mhead\u001b[0m\u001b[0;34m(\u001b[0m\u001b[0;34m)\u001b[0m\u001b[0;34m\u001b[0m\u001b[0;34m\u001b[0m\u001b[0m\n\u001b[0m",
            "\u001b[0;31mAttributeError\u001b[0m: 'numpy.ndarray' object has no attribute 'head'"
          ]
        }
      ]
    },
    {
      "cell_type": "code",
      "source": [],
      "metadata": {
        "id": "VELyfoNLYifH"
      },
      "execution_count": null,
      "outputs": []
    }
  ]
}