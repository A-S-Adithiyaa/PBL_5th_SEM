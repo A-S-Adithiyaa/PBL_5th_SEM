{
  "nbformat": 4,
  "nbformat_minor": 0,
  "metadata": {
    "colab": {
      "provenance": [],
      "mount_file_id": "1PPkDjlKh-vLKkvLjCRQ-0mBWcjFphayw",
      "authorship_tag": "ABX9TyP4e50ToX6MuPlYmOpCXSCk",
      "include_colab_link": true
    },
    "kernelspec": {
      "name": "python3",
      "display_name": "Python 3"
    },
    "language_info": {
      "name": "python"
    },
    "accelerator": "GPU",
    "gpuClass": "standard"
  },
  "cells": [
    {
      "cell_type": "markdown",
      "metadata": {
        "id": "view-in-github",
        "colab_type": "text"
      },
      "source": [
        "<a href=\"https://colab.research.google.com/github/A-S-Adithiyaa/5thSEM/blob/main/main.ipynb\" target=\"_parent\"><img src=\"https://colab.research.google.com/assets/colab-badge.svg\" alt=\"Open In Colab\"/></a>"
      ]
    },
    {
      "cell_type": "code",
      "execution_count": 4,
      "metadata": {
        "id": "0jHo_eN3QZMe"
      },
      "outputs": [],
      "source": [
        "import pandas as pd\n",
        "import numpy as np\n",
        "import matplotlib.pyplot as plt\n",
        "\n",
        "import tensorflow as tf\n",
        "from tensorflow import keras\n",
        "from sklearn.metrics import classification_report"
      ]
    },
    {
      "cell_type": "code",
      "source": [
        "train = pd.read_csv(\"/content/drive/MyDrive/emnist-letters-train.csv\")\n",
        "test = pd.read_csv(\"/content/drive/MyDrive/emnist-letters-test.csv\")"
      ],
      "metadata": {
        "id": "pq2PPzHHQsl-"
      },
      "execution_count": 5,
      "outputs": []
    },
    {
      "cell_type": "code",
      "source": [
        "print(train.shape)\n",
        "print(test.shape)"
      ],
      "metadata": {
        "colab": {
          "base_uri": "https://localhost:8080/"
        },
        "id": "TVVOyuMZQ3dA",
        "outputId": "7414e326-11f3-48f4-b68b-21771645bdcb"
      },
      "execution_count": 6,
      "outputs": [
        {
          "output_type": "stream",
          "name": "stdout",
          "text": [
            "(88799, 785)\n",
            "(14799, 785)\n"
          ]
        }
      ]
    },
    {
      "cell_type": "code",
      "source": [
        "x1 = np.array(train.iloc[:, 1:].values)\n",
        "y1 = np.array(train.iloc[:, 0].values)\n",
        "\n",
        "x2 = np.array(test.iloc[:, 1:].values)\n",
        "y2 = np.array(test.iloc[:, 0].values)"
      ],
      "metadata": {
        "id": "7P7B4yURQ9dk"
      },
      "execution_count": 32,
      "outputs": []
    },
    {
      "cell_type": "code",
      "source": [
        "print(x1.shape)\n",
        "print(y1.shape)\n",
        "print(x2.shape)\n",
        "print(y2.shape)"
      ],
      "metadata": {
        "colab": {
          "base_uri": "https://localhost:8080/"
        },
        "id": "zNKkqZQRRq_d",
        "outputId": "e4857bf8-c66e-42b0-d6e9-c96ee475c999"
      },
      "execution_count": 22,
      "outputs": [
        {
          "output_type": "stream",
          "name": "stdout",
          "text": [
            "(88799, 784)\n",
            "(88799,)\n",
            "(14799, 784)\n",
            "(14799,)\n"
          ]
        }
      ]
    },
    {
      "cell_type": "code",
      "source": [
        "train_data_reshaped = train_data[1].reshape((28, 28))"
      ],
      "metadata": {
        "id": "ZHkAxHJ7iwGS"
      },
      "execution_count": 9,
      "outputs": []
    },
    {
      "cell_type": "code",
      "source": [
        "train_data_reshaped.shape"
      ],
      "metadata": {
        "colab": {
          "base_uri": "https://localhost:8080/"
        },
        "id": "V4WzBg7Di-0g",
        "outputId": "bdaeb413-7264-462e-ea7f-1f2ff97bcf14"
      },
      "execution_count": 10,
      "outputs": [
        {
          "output_type": "execute_result",
          "data": {
            "text/plain": [
              "(28, 28)"
            ]
          },
          "metadata": {},
          "execution_count": 10
        }
      ]
    },
    {
      "cell_type": "code",
      "source": [
        "train_label[1]"
      ],
      "metadata": {
        "colab": {
          "base_uri": "https://localhost:8080/"
        },
        "id": "GNv2gRQpja3e",
        "outputId": "c9413531-5923-49e2-a80b-d67c529b2c14"
      },
      "execution_count": 11,
      "outputs": [
        {
          "output_type": "execute_result",
          "data": {
            "text/plain": [
              "16"
            ]
          },
          "metadata": {},
          "execution_count": 11
        }
      ]
    },
    {
      "cell_type": "code",
      "source": [
        "plt.imshow(train_data_reshaped)"
      ],
      "metadata": {
        "colab": {
          "base_uri": "https://localhost:8080/",
          "height": 283
        },
        "id": "XkwFY5A6jQ2F",
        "outputId": "a1649037-fc5a-4e62-b681-46c9675e78a1"
      },
      "execution_count": 12,
      "outputs": [
        {
          "output_type": "execute_result",
          "data": {
            "text/plain": [
              "<matplotlib.image.AxesImage at 0x7f6bf99ef640>"
            ]
          },
          "metadata": {},
          "execution_count": 12
        },
        {
          "output_type": "display_data",
          "data": {
            "text/plain": [
              "<Figure size 432x288 with 1 Axes>"
            ],
            "image/png": "[encoded data removed]"
          },
          "metadata": {
            "needs_background": "light"
          }
        }
      ]
    },
    {
      "cell_type": "code",
      "source": [
        "train_images = x1 / 255.0\n",
        "test_images = x2 / 255.0"
      ],
      "metadata": {
        "id": "_ACr0V8URz3V"
      },
      "execution_count": 23,
      "outputs": []
    },
    {
      "cell_type": "code",
      "source": [
        "train_images_number = train_images.shape[0]\n",
        "train_images_height = 28\n",
        "train_images_width = 28\n",
        "train_images_size = train_images_height*train_images_width\n",
        "\n",
        "train_images = train_images.reshape(train_images_number, train_images_height, train_images_width, 1)\n",
        "\n",
        "test_images_number = test_images.shape[0]\n",
        "test_images_height = 28\n",
        "test_images_width = 28\n",
        "test_images_size = test_images_height*test_images_width\n",
        "\n",
        "test_images = test_images.reshape(test_images_number, test_images_height, test_images_width, 1)"
      ],
      "metadata": {
        "id": "NTdPfM4SkXou"
      },
      "execution_count": 24,
      "outputs": []
    },
    {
      "cell_type": "code",
      "source": [
        "train_images.shape"
      ],
      "metadata": {
        "colab": {
          "base_uri": "https://localhost:8080/"
        },
        "id": "iqkYXRFukjPh",
        "outputId": "07ead7a3-750d-43e3-b686-16fa84bb22b2"
      },
      "execution_count": 25,
      "outputs": [
        {
          "output_type": "execute_result",
          "data": {
            "text/plain": [
              "(88799, 28, 28, 1)"
            ]
          },
          "metadata": {},
          "execution_count": 25
        }
      ]
    },
    {
      "cell_type": "code",
      "source": [
        "test_images.shape"
      ],
      "metadata": {
        "colab": {
          "base_uri": "https://localhost:8080/"
        },
        "id": "YVZ-O1S1kmLV",
        "outputId": "93ada00d-4e64-466c-ac4a-98a1e903d3a3"
      },
      "execution_count": 26,
      "outputs": [
        {
          "output_type": "execute_result",
          "data": {
            "text/plain": [
              "(14799, 28, 28, 1)"
            ]
          },
          "metadata": {},
          "execution_count": 26
        }
      ]
    },
    {
      "cell_type": "code",
      "source": [
        "type(y1)"
      ],
      "metadata": {
        "colab": {
          "base_uri": "https://localhost:8080/"
        },
        "id": "ajEWNJx4sbT9",
        "outputId": "bfff4683-8ecc-4f4b-bdc6-8e3bff99b9b7"
      },
      "execution_count": 27,
      "outputs": [
        {
          "output_type": "execute_result",
          "data": {
            "text/plain": [
              "numpy.ndarray"
            ]
          },
          "metadata": {},
          "execution_count": 27
        }
      ]
    },
    {
      "cell_type": "code",
      "source": [
        "len(y1)"
      ],
      "metadata": {
        "colab": {
          "base_uri": "https://localhost:8080/"
        },
        "id": "TkEPGbpxx_Ky",
        "outputId": "2f2bdd29-0495-4386-99eb-75d3918232f4"
      },
      "execution_count": 28,
      "outputs": [
        {
          "output_type": "execute_result",
          "data": {
            "text/plain": [
              "88799"
            ]
          },
          "metadata": {},
          "execution_count": 28
        }
      ]
    },
    {
      "cell_type": "code",
      "source": [
        "number_of_classes = 37\n",
        "\n",
        "y1 = tf.keras.utils.to_categorical(y1, number_of_classes)\n",
        "y2 = tf.keras.utils.to_categorical(y2, number_of_classes)"
      ],
      "metadata": {
        "id": "RNVuUAxHU9VB"
      },
      "execution_count": 34,
      "outputs": []
    },
    {
      "cell_type": "code",
      "source": [
        "y1"
      ],
      "metadata": {
        "colab": {
          "base_uri": "https://localhost:8080/"
        },
        "id": "qxs0tbx_rafZ",
        "outputId": "61e408e1-77fc-4ddb-b9b4-9f34d8af33f1"
      },
      "execution_count": 35,
      "outputs": [
        {
          "output_type": "execute_result",
          "data": {
            "text/plain": [
              "array([[0., 0., 0., ..., 0., 0., 0.],\n",
              "       [0., 0., 0., ..., 0., 0., 0.],\n",
              "       [0., 0., 0., ..., 0., 0., 0.],\n",
              "       ...,\n",
              "       [0., 1., 0., ..., 0., 0., 0.],\n",
              "       [0., 0., 0., ..., 0., 0., 0.],\n",
              "       [0., 0., 0., ..., 0., 0., 0.]], dtype=float32)"
            ]
          },
          "metadata": {},
          "execution_count": 35
        }
      ]
    },
    {
      "cell_type": "code",
      "source": [
        "from tensorflow.keras.callbacks import EarlyStopping, ReduceLROnPlateau,ModelCheckpoint"
      ],
      "metadata": {
        "id": "EXCyRecYz_ik"
      },
      "execution_count": 36,
      "outputs": []
    },
    {
      "cell_type": "code",
      "source": [
        "from sklearn.model_selection import train_test_split\n",
        "train_x,test_x,train_y,test_y = train_test_split(train_images,y1,test_size=0.2,random_state = 42)\n",
        "\n",
        "model = tf.keras.Sequential([ \n",
        "    tf.keras.layers.Conv2D(32,3,input_shape=(28,28,1)),\n",
        "    tf.keras.layers.MaxPooling2D(2,2),\n",
        "    tf.keras.layers.Flatten(input_shape=(28,28,1)),\n",
        "    tf.keras.layers.Dense(512,activation='relu'),\n",
        "    tf.keras.layers.Dense(128,activation='relu'),\n",
        "    tf.keras.layers.Dense(number_of_classes,activation='softmax')\n",
        "])"
      ],
      "metadata": {
        "id": "549L4hOb0CLI"
      },
      "execution_count": 37,
      "outputs": []
    },
    {
      "cell_type": "code",
      "source": [
        "model.compile(optimizer='rmsprop',loss='categorical_crossentropy',metrics=['accuracy'])"
      ],
      "metadata": {
        "id": "N8iTdkCR0Hmt"
      },
      "execution_count": 38,
      "outputs": []
    },
    {
      "cell_type": "code",
      "source": [
        " \n",
        "MCP = ModelCheckpoint('Best_points.h5',verbose=1,save_best_only=True,monitor='val_accuracy',mode='max')\n",
        "ES = EarlyStopping(monitor='val_accuracy',min_delta=0,verbose=0,restore_best_weights = True,patience=3,mode='max')\n",
        "RLP = ReduceLROnPlateau(monitor='val_loss',patience=3,factor=0.2,min_lr=0.0001)"
      ],
      "metadata": {
        "id": "3IBBrzHw0Jrj"
      },
      "execution_count": 39,
      "outputs": []
    },
    {
      "cell_type": "code",
      "source": [
        "history = model.fit(train_x,train_y,epochs=10,validation_data=(test_x,test_y),callbacks=[MCP,ES,RLP])"
      ],
      "metadata": {
        "colab": {
          "base_uri": "https://localhost:8080/"
        },
        "id": "ii9BnHC30Ln2",
        "outputId": "2f60a825-2094-4eca-80e3-732c3f4fb2df"
      },
      "execution_count": 40,
      "outputs": [
        {
          "output_type": "stream",
          "name": "stdout",
          "text": [
            "Epoch 1/10\n",
            "2220/2220 [==============================] - ETA: 0s - loss: 0.5739 - accuracy: 0.8215\n",
            "Epoch 1: val_accuracy improved from -inf to 0.86903, saving model to Best_points.h5\n",
            "2220/2220 [==============================] - 19s 5ms/step - loss: 0.5739 - accuracy: 0.8215 - val_loss: 0.3915 - val_accuracy: 0.8690 - lr: 0.0010\n",
            "Epoch 2/10\n",
            "2218/2220 [============================>.] - ETA: 0s - loss: 0.2874 - accuracy: 0.9058\n",
            "Epoch 2: val_accuracy improved from 0.86903 to 0.89037, saving model to Best_points.h5\n",
            "2220/2220 [==============================] - 10s 5ms/step - loss: 0.2872 - accuracy: 0.9058 - val_loss: 0.3411 - val_accuracy: 0.8904 - lr: 0.0010\n",
            "Epoch 3/10\n",
            "2216/2220 [============================>.] - ETA: 0s - loss: 0.2268 - accuracy: 0.9258\n",
            "Epoch 3: val_accuracy improved from 0.89037 to 0.89814, saving model to Best_points.h5\n",
            "2220/2220 [==============================] - 10s 5ms/step - loss: 0.2268 - accuracy: 0.9258 - val_loss: 0.3535 - val_accuracy: 0.8981 - lr: 0.0010\n",
            "Epoch 4/10\n",
            "2211/2220 [============================>.] - ETA: 0s - loss: 0.1998 - accuracy: 0.9339\n",
            "Epoch 4: val_accuracy did not improve from 0.89814\n",
            "2220/2220 [==============================] - 11s 5ms/step - loss: 0.2005 - accuracy: 0.9337 - val_loss: 0.3673 - val_accuracy: 0.8976 - lr: 0.0010\n",
            "Epoch 5/10\n",
            "2213/2220 [============================>.] - ETA: 0s - loss: 0.1803 - accuracy: 0.9401\n",
            "Epoch 5: val_accuracy did not improve from 0.89814\n",
            "2220/2220 [==============================] - 11s 5ms/step - loss: 0.1804 - accuracy: 0.9399 - val_loss: 0.4212 - val_accuracy: 0.8921 - lr: 0.0010\n",
            "Epoch 6/10\n",
            "2220/2220 [==============================] - ETA: 0s - loss: 0.0885 - accuracy: 0.9672\n",
            "Epoch 6: val_accuracy improved from 0.89814 to 0.91740, saving model to Best_points.h5\n",
            "2220/2220 [==============================] - 11s 5ms/step - loss: 0.0885 - accuracy: 0.9672 - val_loss: 0.3741 - val_accuracy: 0.9174 - lr: 2.0000e-04\n",
            "Epoch 7/10\n",
            "2212/2220 [============================>.] - ETA: 0s - loss: 0.0711 - accuracy: 0.9727\n",
            "Epoch 7: val_accuracy did not improve from 0.91740\n",
            "2220/2220 [==============================] - 12s 5ms/step - loss: 0.0711 - accuracy: 0.9727 - val_loss: 0.4026 - val_accuracy: 0.9140 - lr: 2.0000e-04\n",
            "Epoch 8/10\n",
            "2218/2220 [============================>.] - ETA: 0s - loss: 0.0655 - accuracy: 0.9749\n",
            "Epoch 8: val_accuracy did not improve from 0.91740\n",
            "2220/2220 [==============================] - 14s 6ms/step - loss: 0.0655 - accuracy: 0.9749 - val_loss: 0.3994 - val_accuracy: 0.9130 - lr: 2.0000e-04\n",
            "Epoch 9/10\n",
            "2213/2220 [============================>.] - ETA: 0s - loss: 0.0531 - accuracy: 0.9791\n",
            "Epoch 9: val_accuracy did not improve from 0.91740\n",
            "2220/2220 [==============================] - 10s 5ms/step - loss: 0.0532 - accuracy: 0.9791 - val_loss: 0.4237 - val_accuracy: 0.9139 - lr: 1.0000e-04\n"
          ]
        }
      ]
    },
    {
      "cell_type": "code",
      "source": [
        "model.summary()"
      ],
      "metadata": {
        "colab": {
          "base_uri": "https://localhost:8080/"
        },
        "id": "1lI0tpOH0rRN",
        "outputId": "d3e38d7c-e4ba-4fc9-88cf-a927d2b66370"
      },
      "execution_count": 41,
      "outputs": [
        {
          "output_type": "stream",
          "name": "stdout",
          "text": [
            "Model: \"sequential\"\n",
            "_________________________________________________________________\n",
            " Layer (type)                Output Shape              Param #   \n",
            "=================================================================\n",
            " conv2d (Conv2D)             (None, 26, 26, 32)        320       \n",
            "                                                                 \n",
            " max_pooling2d (MaxPooling2D  (None, 13, 13, 32)       0         \n",
            " )                                                               \n",
            "                                                                 \n",
            " flatten (Flatten)           (None, 5408)              0         \n",
            "                                                                 \n",
            " dense (Dense)               (None, 512)               2769408   \n",
            "                                                                 \n",
            " dense_1 (Dense)             (None, 128)               65664     \n",
            "                                                                 \n",
            " dense_2 (Dense)             (None, 37)                4773      \n",
            "                                                                 \n",
            "=================================================================\n",
            "Total params: 2,840,165\n",
            "Trainable params: 2,840,165\n",
            "Non-trainable params: 0\n",
            "_________________________________________________________________\n"
          ]
        }
      ]
    },
    {
      "cell_type": "code",
      "source": [],
      "metadata": {
        "id": "sst3HH5D0s-G"
      },
      "execution_count": null,
      "outputs": []
    }
  ]
}